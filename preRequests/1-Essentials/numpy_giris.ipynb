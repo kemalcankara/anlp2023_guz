{
 "cells": [
  {
   "cell_type": "code",
   "execution_count": 2,
   "id": "2826adcd",
   "metadata": {},
   "outputs": [],
   "source": [
    "import numpy as np\n",
    "##https://numpy.org/\n",
    " \n",
    "\n",
    " "
   ]
  },
  {
   "cell_type": "markdown",
   "id": "d070f03e",
   "metadata": {},
   "source": [
    "## linspace\n",
    " start ve stop arasinda  araliklari (esit ) olma sartiyla n sayi     olusturur"
   ]
  },
  {
   "cell_type": "code",
   "execution_count": 3,
   "id": "bf7707ad",
   "metadata": {},
   "outputs": [
    {
     "data": {
      "text/plain": [
       "array([ 0.,  6., 12.])"
      ]
     },
     "execution_count": 3,
     "metadata": {},
     "output_type": "execute_result"
    }
   ],
   "source": [
    "np.linspace(0,12,3)  ## start stop  dizi icerecegi eleman sayisi"
   ]
  },
  {
   "cell_type": "markdown",
   "id": "65fb13bb",
   "metadata": {},
   "source": [
    "## random :\n",
    "rasgele bazi degerler cikariyor ve cikardigi degerler Noramal dagilima uygun degerler olmasina calisiyor(Kullandigi Yapi standart distiribisyon)\n"
   ]
  },
  {
   "cell_type": "code",
   "execution_count": 26,
   "id": "8f033089",
   "metadata": {},
   "outputs": [
    {
     "data": {
      "text/plain": [
       "array([ 0.09175024,  0.9716568 , -0.28731887, -0.1821281 ])"
      ]
     },
     "execution_count": 26,
     "metadata": {},
     "output_type": "execute_result"
    }
   ],
   "source": [
    "np.random.randn(4)# numpy dizisi dondurur bize randn\n",
    "\n",
    "# print(\"--------------------\")\n",
    "# np.random.randn(4,4) #two dimesionalArrays da olusturabiliriz"
   ]
  },
  {
   "cell_type": "code",
   "execution_count": 29,
   "id": "2927c230",
   "metadata": {},
   "outputs": [
    {
     "data": {
      "text/plain": [
       "array([ 4,  6, 18,  7,  1])"
      ]
     },
     "execution_count": 29,
     "metadata": {},
     "output_type": "execute_result"
    }
   ],
   "source": [
    "#! tek bir deger dondurmek ise ve Integer deger dondurmesi\n",
    "np.random.randint(20) \n",
    "np.random.randint(1,30,5) ##start stop_dahil_degil 3.kac_rakam dondurmesini istiyoruz "
   ]
  },
  {
   "cell_type": "code",
   "execution_count": 7,
   "id": "47b916c2",
   "metadata": {},
   "outputs": [
    {
     "data": {
      "text/plain": [
       "array([ 2, 10,  7,  5, 11,  3,  8,  2,  4,  3])"
      ]
     },
     "execution_count": 7,
     "metadata": {},
     "output_type": "execute_result"
    }
   ],
   "source": [
    "#start ve stop arasinda  stop haric  olma sartiyla ntane Rasgele_sayi(int_tipinden) olusturur\n",
    "np.random.randint(2,12,10) "
   ]
  },
  {
   "attachments": {},
   "cell_type": "markdown",
   "id": "e2047b4a",
   "metadata": {},
   "source": [
    "## arange :\n",
    "\n",
    "Numpy dizisi olusturuyor sirali bir sekilde 1. bslng  2.bitis 3.step"
   ]
  },
  {
   "cell_type": "code",
   "execution_count": 8,
   "id": "3105af9e",
   "metadata": {},
   "outputs": [
    {
     "data": {
      "text/plain": [
       "array([ 0,  7, 14, 21, 28, 35])"
      ]
     },
     "execution_count": 8,
     "metadata": {},
     "output_type": "execute_result"
    }
   ],
   "source": [
    "np.arange(0,39,7) ## buradaki 3. argument StepSize eleman sayisi degil "
   ]
  },
  {
   "cell_type": "code",
   "execution_count": 13,
   "id": "7446f70e",
   "metadata": {},
   "outputs": [
    {
     "data": {
      "text/plain": [
       "array([0, 1, 2, 3, 4])"
      ]
     },
     "execution_count": 13,
     "metadata": {},
     "output_type": "execute_result"
    }
   ],
   "source": [
    "np.arange(5)\n"
   ]
  },
  {
   "attachments": {},
   "cell_type": "markdown",
   "id": "2c03f135",
   "metadata": {},
   "source": [
    "## eye  \n",
    ": birincil matrisleri olusturuyor \n"
   ]
  },
  {
   "cell_type": "code",
   "execution_count": 10,
   "id": "8451e514",
   "metadata": {
    "scrolled": false
   },
   "outputs": [
    {
     "data": {
      "text/plain": [
       "array([[1., 0., 0., 0., 0., 0.],\n",
       "       [0., 1., 0., 0., 0., 0.],\n",
       "       [0., 0., 1., 0., 0., 0.],\n",
       "       [0., 0., 0., 1., 0., 0.],\n",
       "       [0., 0., 0., 0., 1., 0.],\n",
       "       [0., 0., 0., 0., 0., 1.]])"
      ]
     },
     "execution_count": 10,
     "metadata": {},
     "output_type": "execute_result"
    }
   ],
   "source": [
    "np.eye(6)"
   ]
  },
  {
   "cell_type": "markdown",
   "id": "a5c4bf2f",
   "metadata": {},
   "source": [
    "## nummpy_dizi_methods"
   ]
  },
  {
   "attachments": {},
   "cell_type": "markdown",
   "id": "df312cf5",
   "metadata": {},
   "source": [
    "### reshape dizileri sekillendirmek icin kullanilir \n",
    "### max en buyuk deger geri dondurur \n",
    "### min en kucuk sayi da geri dondurur\n",
    "### argmax en buyuk sayinin indexini getirir argmin de ayni sekilde \n",
    "\n",
    "### Attribute de var dizilerin .shape  dizi hangi sekile sahip oldugunu  gosterir"
   ]
  },
  {
   "cell_type": "code",
   "execution_count": 31,
   "id": "0fc82e98",
   "metadata": {},
   "outputs": [
    {
     "data": {
      "text/plain": [
       "array([[30, 31, 32, 33, 34, 35, 36, 37, 38, 39],\n",
       "       [40, 41, 42, 43, 44, 45, 46, 47, 48, 49],\n",
       "       [50, 51, 52, 53, 54, 55, 56, 57, 58, 59],\n",
       "       [60, 61, 62, 63, 64, 65, 66, 67, 68, 69]])"
      ]
     },
     "execution_count": 31,
     "metadata": {},
     "output_type": "execute_result"
    }
   ],
   "source": [
    "myList=np.arange(30,70)\n",
    "#myList\n",
    "myList.reshape(4,10)   ##diziyi sekillendirmek icin kullanilir \n"
   ]
  },
  {
   "cell_type": "code",
   "execution_count": 12,
   "id": "86471747",
   "metadata": {},
   "outputs": [
    {
     "data": {
      "text/plain": [
       "68"
      ]
     },
     "execution_count": 12,
     "metadata": {},
     "output_type": "execute_result"
    }
   ],
   "source": [
    "x=myList.max()\n",
    "x"
   ]
  },
  {
   "cell_type": "code",
   "execution_count": 32,
   "id": "c2a7399e",
   "metadata": {},
   "outputs": [
    {
     "data": {
      "text/plain": [
       "39"
      ]
     },
     "execution_count": 32,
     "metadata": {},
     "output_type": "execute_result"
    }
   ],
   "source": [
    "myList.argmax()"
   ]
  },
  {
   "attachments": {},
   "cell_type": "markdown",
   "id": "8c1af0c2",
   "metadata": {},
   "source": [
    "## Matrix : 2 boyutlu diziler \n",
    "\n"
   ]
  },
  {
   "cell_type": "code",
   "execution_count": 22,
   "id": "99804e8a",
   "metadata": {},
   "outputs": [],
   "source": [
    "benimMatris= np.array([5,8])"
   ]
  },
  {
   "cell_type": "code",
   "execution_count": 23,
   "id": "cc1857a3",
   "metadata": {},
   "outputs": [
    {
     "name": "stdout",
     "output_type": "stream",
     "text": [
      "[5 8]\n"
     ]
    }
   ],
   "source": [
    "print(benimMatris)"
   ]
  },
  {
   "cell_type": "code",
   "execution_count": 45,
   "id": "1aa02039",
   "metadata": {},
   "outputs": [],
   "source": [
    "benimList=list(range(0,24))"
   ]
  },
  {
   "cell_type": "code",
   "execution_count": 46,
   "id": "6c6288ae",
   "metadata": {},
   "outputs": [
    {
     "data": {
      "text/plain": [
       "array([ 0,  1,  2,  3,  4,  5,  6,  7,  8,  9, 10, 11, 12, 13, 14, 15, 16,\n",
       "       17, 18, 19, 20, 21, 22, 23])"
      ]
     },
     "execution_count": 46,
     "metadata": {},
     "output_type": "execute_result"
    }
   ],
   "source": [
    "mm=np.array(benimList)\n",
    "mm"
   ]
  },
  {
   "cell_type": "code",
   "execution_count": 47,
   "id": "8397e8ea",
   "metadata": {},
   "outputs": [
    {
     "data": {
      "text/plain": [
       "array([[ 0,  1,  2,  3],\n",
       "       [ 4,  5,  6,  7],\n",
       "       [ 8,  9, 10, 11],\n",
       "       [12, 13, 14, 15],\n",
       "       [16, 17, 18, 19],\n",
       "       [20, 21, 22, 23]])"
      ]
     },
     "execution_count": 47,
     "metadata": {},
     "output_type": "execute_result"
    }
   ],
   "source": [
    "mm= mm.reshape(6,4)\n",
    "mm"
   ]
  },
  {
   "cell_type": "code",
   "execution_count": 49,
   "id": "482a828d",
   "metadata": {},
   "outputs": [
    {
     "data": {
      "text/plain": [
       "array([ 0,  4,  8, 12, 16, 20])"
      ]
     },
     "execution_count": 49,
     "metadata": {},
     "output_type": "execute_result"
    }
   ],
   "source": [
    "mm[0:,0] ##0.satirdan itibaren  tum sifirinci indexleri getir "
   ]
  },
  {
   "cell_type": "code",
   "execution_count": 48,
   "id": "6bfb8de7",
   "metadata": {},
   "outputs": [
    {
     "data": {
      "text/plain": [
       "array([[ 0,  1,  2,  3],\n",
       "       [ 8,  9, 10, 11],\n",
       "       [16, 17, 18, 19]])"
      ]
     },
     "execution_count": 48,
     "metadata": {},
     "output_type": "execute_result"
    }
   ],
   "source": [
    "mm[[0,2,4]]## 0. 2. ve 4. satirlari getiriyo bir liste seklinde (Fancy index )"
   ]
  },
  {
   "cell_type": "markdown",
   "id": "5ff56200",
   "metadata": {},
   "source": [
    "## Zeros :\n",
    "sifirlarla dolur bir dizi"
   ]
  },
  {
   "cell_type": "code",
   "execution_count": 9,
   "id": "93a78856",
   "metadata": {},
   "outputs": [
    {
     "data": {
      "text/plain": [
       "array([1., 1., 1., 1., 1., 1., 1., 1., 1.])"
      ]
     },
     "execution_count": 9,
     "metadata": {},
     "output_type": "execute_result"
    }
   ],
   "source": [
    "np.zeros((2,2)) ##satir sonra sutun sayisi \n",
    "np.ones(9) ## birleden olusan diziler olusturuyor"
   ]
  },
  {
   "attachments": {},
   "cell_type": "markdown",
   "id": "4341f10d",
   "metadata": {},
   "source": [
    "## pythonNumpy daki slice olayi \n",
    "numpy dizilerinde slicing ile yeni bir dizi olusturdugumuzda  bu yeni olusturulan diziler uzerinde degisiklik yaptigim zaman bu degisiklikler ana diziyi etkileyecek object pointer matigiyla dusun yani burada sadece pointerler bir index itibaren atiyo o yuzden tabi degisiklik olacaktir  . degisiklik olmamasi icin .copy() methodu kullanmam lazim"
   ]
  },
  {
   "cell_type": "code",
   "execution_count": 37,
   "id": "03a2c339",
   "metadata": {},
   "outputs": [
    {
     "data": {
      "text/plain": [
       "array([ 0,  1,  2, -1, -1, -1, -1, -1,  8,  9, 10, 11, 12, 13, 14, 15, 16,\n",
       "       17, 18, 19])"
      ]
     },
     "execution_count": 37,
     "metadata": {},
     "output_type": "execute_result"
    }
   ],
   "source": [
    "benimDizim=np.arange(0,20)\n",
    "benimDizim[3:8] ##stop index dahil degil \n",
    "benimDizim[3:8]=-1 ## belli aralikta bulunan degerleri degistirebiliriz\n",
    "benimDizim"
   ]
  },
  {
   "cell_type": "code",
   "execution_count": null,
   "id": "6aba6014",
   "metadata": {},
   "outputs": [],
   "source": []
  },
  {
   "attachments": {},
   "cell_type": "markdown",
   "id": "8cc74824",
   "metadata": {},
   "source": [
    "### operasyonlar "
   ]
  },
  {
   "cell_type": "code",
   "execution_count": 60,
   "id": "45d186a9",
   "metadata": {},
   "outputs": [
    {
     "data": {
      "text/plain": [
       "array([92,  8, 21, 25, 68, 60, 46, 63, 31, 92, 85, 63, 63, 11, 37, 34, 24,\n",
       "       52, 83, 17])"
      ]
     },
     "execution_count": 60,
     "metadata": {},
     "output_type": "execute_result"
    }
   ],
   "source": [
    "yeniBirDizi=np.random.randint(1,100,20)\n",
    "yeniBirDizi\n",
    "\n"
   ]
  },
  {
   "cell_type": "code",
   "execution_count": 61,
   "id": "824f9d86",
   "metadata": {},
   "outputs": [
    {
     "data": {
      "text/plain": [
       "array([ True, False, False,  True,  True,  True,  True,  True,  True,\n",
       "        True,  True,  True,  True, False,  True,  True, False,  True,\n",
       "        True, False])"
      ]
     },
     "execution_count": 61,
     "metadata": {},
     "output_type": "execute_result"
    }
   ],
   "source": [
    "sonucdizi=yeniBirDizi>24 ## boolean bir dizi \n",
    "sonucdizi"
   ]
  },
  {
   "cell_type": "code",
   "execution_count": 63,
   "id": "291328d0",
   "metadata": {},
   "outputs": [
    {
     "data": {
      "text/plain": [
       "numpy.ndarray"
      ]
     },
     "execution_count": 63,
     "metadata": {},
     "output_type": "execute_result"
    }
   ],
   "source": [
    "#filter dusun \n",
    "yeniBirDizi[sonucdizi]  #tekrar varsa getirmiyor set sanki\n",
    "# type(yeniBirDizi[sonucdizi])"
   ]
  },
  {
   "cell_type": "code",
   "execution_count": null,
   "id": "c077deb9",
   "metadata": {},
   "outputs": [],
   "source": [
    "# np.sqrt()\n",
    "# iki dizi bir birine ekleme index index gider tum hesaplamalarda "
   ]
  },
  {
   "cell_type": "code",
   "execution_count": null,
   "id": "d836fadc",
   "metadata": {},
   "outputs": [],
   "source": []
  }
 ],
 "metadata": {
  "kernelspec": {
   "display_name": "Python 3 (ipykernel)",
   "language": "python",
   "name": "python3"
  },
  "language_info": {
   "codemirror_mode": {
    "name": "ipython",
    "version": 3
   },
   "file_extension": ".py",
   "mimetype": "text/x-python",
   "name": "python",
   "nbconvert_exporter": "python",
   "pygments_lexer": "ipython3",
   "version": "3.10.8"
  }
 },
 "nbformat": 4,
 "nbformat_minor": 5
}
