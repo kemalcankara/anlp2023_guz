{
 "cells": [
  {
   "cell_type": "code",
   "execution_count": 645,
   "id": "6af4f038",
   "metadata": {},
   "outputs": [],
   "source": [
    "import numpy as np\n",
    "import pandas as pd\n",
    "\n"
   ]
  },
  {
   "attachments": {},
   "cell_type": "markdown",
   "id": "9b484843",
   "metadata": {},
   "source": [
    "## Series : sozluk gibi dusun excell gibi dusun verileri daha iyi manipule etmek icin kullanilir \n",
    "\n"
   ]
  },
  {
   "cell_type": "code",
   "execution_count": 646,
   "id": "cbd7f946",
   "metadata": {},
   "outputs": [
    {
     "data": {
      "text/plain": [
       "0    40\n",
       "1    50\n",
       "2    60\n",
       "dtype: int64"
      ]
     },
     "execution_count": 646,
     "metadata": {},
     "output_type": "execute_result"
    }
   ],
   "source": [
    "listem =[40,50,60]\n",
    "pd.Series(listem)"
   ]
  },
  {
   "cell_type": "code",
   "execution_count": 647,
   "id": "f88d27f8",
   "metadata": {},
   "outputs": [],
   "source": [
    "isimListem=[\"ubey :\",\"cuvu\",\"omer\"]"
   ]
  },
  {
   "cell_type": "code",
   "execution_count": 648,
   "id": "766b189d",
   "metadata": {},
   "outputs": [
    {
     "data": {
      "text/plain": [
       "ubey :    40\n",
       "cuvu      50\n",
       "omer      60\n",
       "dtype: int64"
      ]
     },
     "execution_count": 648,
     "metadata": {},
     "output_type": "execute_result"
    }
   ],
   "source": [
    "pd.Series(listem,isimListem)\n",
    "#pd.Series(data,value =listem,index,key =isimListem)"
   ]
  },
  {
   "cell_type": "markdown",
   "id": "4ad93050",
   "metadata": {},
   "source": [
    "##   Series_ozellikleri:"
   ]
  },
  {
   "cell_type": "code",
   "execution_count": 649,
   "id": "35c8f6ae",
   "metadata": {},
   "outputs": [
    {
     "data": {
      "text/plain": [
       "ubey    1\n",
       "buji    2\n",
       "cuvu    3\n",
       "dtype: int64"
      ]
     },
     "execution_count": 649,
     "metadata": {},
     "output_type": "execute_result"
    }
   ],
   "source": [
    "pd.Series([1,2,3],[\"ubey\",\"buji\",\"cuvu\"])"
   ]
  },
  {
   "cell_type": "code",
   "execution_count": 650,
   "id": "ee668fc4",
   "metadata": {},
   "outputs": [],
   "source": [
    "sonuc1 =pd.Series([40,50,30],[\"ubey\",\"buji\",\"cuvu\"])"
   ]
  },
  {
   "cell_type": "code",
   "execution_count": 651,
   "id": "25fb89e3",
   "metadata": {},
   "outputs": [
    {
     "data": {
      "text/plain": [
       "ubey    40\n",
       "buji    50\n",
       "cuvu    30\n",
       "dtype: int64"
      ]
     },
     "execution_count": 651,
     "metadata": {},
     "output_type": "execute_result"
    }
   ],
   "source": [
    "sonuc1\n"
   ]
  },
  {
   "cell_type": "code",
   "execution_count": 652,
   "id": "143aa188",
   "metadata": {},
   "outputs": [
    {
     "data": {
      "text/plain": [
       "50"
      ]
     },
     "execution_count": 652,
     "metadata": {},
     "output_type": "execute_result"
    }
   ],
   "source": [
    "sonuc1[\"buji\"]"
   ]
  },
  {
   "cell_type": "code",
   "execution_count": 653,
   "id": "a6f41cb7",
   "metadata": {},
   "outputs": [],
   "source": [
    "sonuc2 =pd.Series([400,500,300,900,80],[\"ubey\",\"buji\",\"cuvu\",\"ahmet\",\"dalal\"])"
   ]
  },
  {
   "cell_type": "code",
   "execution_count": 654,
   "id": "2dc54255",
   "metadata": {},
   "outputs": [
    {
     "data": {
      "text/plain": [
       "ubey     400\n",
       "buji     500\n",
       "cuvu     300\n",
       "ahmet    900\n",
       "dalal     80\n",
       "dtype: int64"
      ]
     },
     "execution_count": 654,
     "metadata": {},
     "output_type": "execute_result"
    }
   ],
   "source": [
    "sonuc2"
   ]
  },
  {
   "cell_type": "code",
   "execution_count": 655,
   "id": "9ca81d06",
   "metadata": {},
   "outputs": [
    {
     "data": {
      "text/plain": [
       "ahmet      NaN\n",
       "buji     550.0\n",
       "cuvu     330.0\n",
       "dalal      NaN\n",
       "ubey     440.0\n",
       "dtype: float64"
      ]
     },
     "execution_count": 655,
     "metadata": {},
     "output_type": "execute_result"
    }
   ],
   "source": [
    "sonuc1+sonuc2\n",
    "#ahmet her ikisinde bulunmadigi icin nan olarak dondurulur\n",
    "#iki series topladiktan sonra alfabeye gore siralandi"
   ]
  },
  {
   "cell_type": "markdown",
   "id": "cb3f6d21",
   "metadata": {},
   "source": [
    "## dataFrame : iki boyutlu bir series gibi dusunebiliriz"
   ]
  },
  {
   "cell_type": "code",
   "execution_count": 656,
   "id": "1a248e05",
   "metadata": {},
   "outputs": [],
   "source": [
    "matrisim =np.random.randn(5,4)\n",
    "# randn :normal dagilima uygun rasgele atama "
   ]
  },
  {
   "cell_type": "code",
   "execution_count": 657,
   "id": "3bdfdd4f",
   "metadata": {},
   "outputs": [
    {
     "data": {
      "text/plain": [
       "array([[-0.29762677,  1.23306331, -0.03489806, -0.73025794],\n",
       "       [ 0.41832126, -1.55365841,  0.15642686,  1.36096926],\n",
       "       [-1.11329161, -0.90638601, -0.95899855,  0.73745488],\n",
       "       [-1.0400685 , -0.71703286, -0.51960402, -0.24428316],\n",
       "       [ 1.59143634,  0.50325648,  0.96239967, -1.18231168]])"
      ]
     },
     "execution_count": 657,
     "metadata": {},
     "output_type": "execute_result"
    }
   ],
   "source": [
    "matrisim"
   ]
  },
  {
   "cell_type": "code",
   "execution_count": 658,
   "id": "a57aedc2",
   "metadata": {},
   "outputs": [],
   "source": [
    "data_frame =pd.DataFrame(matrisim)\n",
    "\n",
    "#data ,indexRaw ,indexColumon"
   ]
  },
  {
   "cell_type": "code",
   "execution_count": 659,
   "id": "bfcfba46",
   "metadata": {},
   "outputs": [
    {
     "name": "stdout",
     "output_type": "stream",
     "text": [
      "          0         1         2         3\n",
      "0 -0.297627  1.233063 -0.034898 -0.730258\n",
      "1  0.418321 -1.553658  0.156427  1.360969\n",
      "2 -1.113292 -0.906386 -0.958999  0.737455\n",
      "3 -1.040068 -0.717033 -0.519604 -0.244283\n",
      "4  1.591436  0.503256  0.962400 -1.182312\n"
     ]
    }
   ],
   "source": [
    "print(data_frame)"
   ]
  },
  {
   "cell_type": "code",
   "execution_count": 660,
   "id": "1108ccb3",
   "metadata": {},
   "outputs": [
    {
     "data": {
      "text/plain": [
       "0   -0.297627\n",
       "1    0.418321\n",
       "2   -1.113292\n",
       "3   -1.040068\n",
       "4    1.591436\n",
       "Name: 0, dtype: float64"
      ]
     },
     "execution_count": 660,
     "metadata": {},
     "output_type": "execute_result"
    }
   ],
   "source": [
    "data_frame[0]\n",
    "## burada sutunlar geri donduruluyor"
   ]
  },
  {
   "cell_type": "code",
   "execution_count": 661,
   "id": "bff3de0d",
   "metadata": {},
   "outputs": [],
   "source": [
    "data_frame =pd.DataFrame(matrisim,[\"ubey\",\"cuvu\",\"buji\",\"nuri\",\"muhbani\"],[\"odev\",\"vize1\",\"vize2\",\"final\"])\n",
    "\n",
    "#data ,indexRaw :record ,indexColumon :attribute | if you think as relational database record ve attribute gibi dusundugum tags values sayisina gore gitmeli yani 20 value varsa demekki \n",
    "# 4 satir 5 sutun yada tersi "
   ]
  },
  {
   "cell_type": "code",
   "execution_count": 662,
   "id": "ecdeabf4",
   "metadata": {},
   "outputs": [
    {
     "data": {
      "text/html": [
       "<div>\n",
       "<style scoped>\n",
       "    .dataframe tbody tr th:only-of-type {\n",
       "        vertical-align: middle;\n",
       "    }\n",
       "\n",
       "    .dataframe tbody tr th {\n",
       "        vertical-align: top;\n",
       "    }\n",
       "\n",
       "    .dataframe thead th {\n",
       "        text-align: right;\n",
       "    }\n",
       "</style>\n",
       "<table border=\"1\" class=\"dataframe\">\n",
       "  <thead>\n",
       "    <tr style=\"text-align: right;\">\n",
       "      <th></th>\n",
       "      <th>odev</th>\n",
       "      <th>vize1</th>\n",
       "      <th>vize2</th>\n",
       "      <th>final</th>\n",
       "    </tr>\n",
       "  </thead>\n",
       "  <tbody>\n",
       "    <tr>\n",
       "      <th>ubey</th>\n",
       "      <td>-0.297627</td>\n",
       "      <td>1.233063</td>\n",
       "      <td>-0.034898</td>\n",
       "      <td>-0.730258</td>\n",
       "    </tr>\n",
       "    <tr>\n",
       "      <th>cuvu</th>\n",
       "      <td>0.418321</td>\n",
       "      <td>-1.553658</td>\n",
       "      <td>0.156427</td>\n",
       "      <td>1.360969</td>\n",
       "    </tr>\n",
       "    <tr>\n",
       "      <th>buji</th>\n",
       "      <td>-1.113292</td>\n",
       "      <td>-0.906386</td>\n",
       "      <td>-0.958999</td>\n",
       "      <td>0.737455</td>\n",
       "    </tr>\n",
       "    <tr>\n",
       "      <th>nuri</th>\n",
       "      <td>-1.040068</td>\n",
       "      <td>-0.717033</td>\n",
       "      <td>-0.519604</td>\n",
       "      <td>-0.244283</td>\n",
       "    </tr>\n",
       "    <tr>\n",
       "      <th>muhbani</th>\n",
       "      <td>1.591436</td>\n",
       "      <td>0.503256</td>\n",
       "      <td>0.962400</td>\n",
       "      <td>-1.182312</td>\n",
       "    </tr>\n",
       "  </tbody>\n",
       "</table>\n",
       "</div>"
      ],
      "text/plain": [
       "             odev     vize1     vize2     final\n",
       "ubey    -0.297627  1.233063 -0.034898 -0.730258\n",
       "cuvu     0.418321 -1.553658  0.156427  1.360969\n",
       "buji    -1.113292 -0.906386 -0.958999  0.737455\n",
       "nuri    -1.040068 -0.717033 -0.519604 -0.244283\n",
       "muhbani  1.591436  0.503256  0.962400 -1.182312"
      ]
     },
     "execution_count": 662,
     "metadata": {},
     "output_type": "execute_result"
    }
   ],
   "source": [
    "data_frame"
   ]
  },
  {
   "attachments": {},
   "cell_type": "markdown",
   "id": "7b654982",
   "metadata": {},
   "source": [
    "#### column datasi getirmek icin hemen ['key']"
   ]
  },
  {
   "cell_type": "code",
   "execution_count": 663,
   "id": "593fbea1",
   "metadata": {},
   "outputs": [
    {
     "data": {
      "text/plain": [
       "ubey      -0.730258\n",
       "cuvu       1.360969\n",
       "buji       0.737455\n",
       "nuri      -0.244283\n",
       "muhbani   -1.182312\n",
       "Name: final, dtype: float64"
      ]
     },
     "execution_count": 663,
     "metadata": {},
     "output_type": "execute_result"
    }
   ],
   "source": [
    "data_frame[\"final\"]"
   ]
  },
  {
   "attachments": {},
   "cell_type": "markdown",
   "id": "e72496d1",
   "metadata": {},
   "source": [
    "#### row datasi getirmek icin once .loc['key']"
   ]
  },
  {
   "cell_type": "code",
   "execution_count": 664,
   "id": "76b1e60c",
   "metadata": {},
   "outputs": [
    {
     "data": {
      "text/plain": [
       "odev    -0.297627\n",
       "vize1    1.233063\n",
       "vize2   -0.034898\n",
       "final   -0.730258\n",
       "Name: ubey, dtype: float64"
      ]
     },
     "execution_count": 664,
     "metadata": {},
     "output_type": "execute_result"
    }
   ],
   "source": [
    "data_frame.loc[\"ubey\"]\n",
    "#sadece bir Raw'a ait bilgiler almak istiyorsak (anahtar'a gore)"
   ]
  },
  {
   "attachments": {},
   "cell_type": "markdown",
   "id": "4db7a4eb",
   "metadata": {},
   "source": [
    "#### raw datasi index'e gore de getirilebilir "
   ]
  },
  {
   "cell_type": "code",
   "execution_count": 665,
   "id": "aeb8a2bb",
   "metadata": {},
   "outputs": [
    {
     "data": {
      "text/plain": [
       "odev     0.418321\n",
       "vize1   -1.553658\n",
       "vize2    0.156427\n",
       "final    1.360969\n",
       "Name: cuvu, dtype: float64"
      ]
     },
     "execution_count": 665,
     "metadata": {},
     "output_type": "execute_result"
    }
   ],
   "source": [
    "##sadece bir Raw'a ait bilgiler almak istiyorsak (index'e gore)\n",
    "data_frame.iloc[1]"
   ]
  },
  {
   "cell_type": "markdown",
   "id": "71f12019",
   "metadata": {},
   "source": [
    "## data_frame_indeksleri"
   ]
  },
  {
   "cell_type": "code",
   "execution_count": 666,
   "id": "bdd4b7af",
   "metadata": {},
   "outputs": [
    {
     "data": {
      "text/html": [
       "<div>\n",
       "<style scoped>\n",
       "    .dataframe tbody tr th:only-of-type {\n",
       "        vertical-align: middle;\n",
       "    }\n",
       "\n",
       "    .dataframe tbody tr th {\n",
       "        vertical-align: top;\n",
       "    }\n",
       "\n",
       "    .dataframe thead th {\n",
       "        text-align: right;\n",
       "    }\n",
       "</style>\n",
       "<table border=\"1\" class=\"dataframe\">\n",
       "  <thead>\n",
       "    <tr style=\"text-align: right;\">\n",
       "      <th></th>\n",
       "      <th>odev</th>\n",
       "      <th>vize1</th>\n",
       "      <th>vize2</th>\n",
       "      <th>final</th>\n",
       "    </tr>\n",
       "  </thead>\n",
       "  <tbody>\n",
       "    <tr>\n",
       "      <th>ubey</th>\n",
       "      <td>-0.297627</td>\n",
       "      <td>1.233063</td>\n",
       "      <td>-0.034898</td>\n",
       "      <td>-0.730258</td>\n",
       "    </tr>\n",
       "    <tr>\n",
       "      <th>cuvu</th>\n",
       "      <td>0.418321</td>\n",
       "      <td>-1.553658</td>\n",
       "      <td>0.156427</td>\n",
       "      <td>1.360969</td>\n",
       "    </tr>\n",
       "    <tr>\n",
       "      <th>buji</th>\n",
       "      <td>-1.113292</td>\n",
       "      <td>-0.906386</td>\n",
       "      <td>-0.958999</td>\n",
       "      <td>0.737455</td>\n",
       "    </tr>\n",
       "    <tr>\n",
       "      <th>nuri</th>\n",
       "      <td>-1.040068</td>\n",
       "      <td>-0.717033</td>\n",
       "      <td>-0.519604</td>\n",
       "      <td>-0.244283</td>\n",
       "    </tr>\n",
       "    <tr>\n",
       "      <th>muhbani</th>\n",
       "      <td>1.591436</td>\n",
       "      <td>0.503256</td>\n",
       "      <td>0.962400</td>\n",
       "      <td>-1.182312</td>\n",
       "    </tr>\n",
       "  </tbody>\n",
       "</table>\n",
       "</div>"
      ],
      "text/plain": [
       "             odev     vize1     vize2     final\n",
       "ubey    -0.297627  1.233063 -0.034898 -0.730258\n",
       "cuvu     0.418321 -1.553658  0.156427  1.360969\n",
       "buji    -1.113292 -0.906386 -0.958999  0.737455\n",
       "nuri    -1.040068 -0.717033 -0.519604 -0.244283\n",
       "muhbani  1.591436  0.503256  0.962400 -1.182312"
      ]
     },
     "execution_count": 666,
     "metadata": {},
     "output_type": "execute_result"
    }
   ],
   "source": [
    "data_frame"
   ]
  },
  {
   "attachments": {},
   "cell_type": "markdown",
   "id": "12a2b7de",
   "metadata": {},
   "source": [
    "#### yeni columon eklemek "
   ]
  },
  {
   "cell_type": "code",
   "execution_count": 667,
   "id": "ddc3e15f",
   "metadata": {},
   "outputs": [],
   "source": [
    "data_frame[\"toplam\"]=[88,77,60,55,44]\n"
   ]
  },
  {
   "cell_type": "code",
   "execution_count": 668,
   "id": "7fbbd597",
   "metadata": {},
   "outputs": [
    {
     "data": {
      "text/html": [
       "<div>\n",
       "<style scoped>\n",
       "    .dataframe tbody tr th:only-of-type {\n",
       "        vertical-align: middle;\n",
       "    }\n",
       "\n",
       "    .dataframe tbody tr th {\n",
       "        vertical-align: top;\n",
       "    }\n",
       "\n",
       "    .dataframe thead th {\n",
       "        text-align: right;\n",
       "    }\n",
       "</style>\n",
       "<table border=\"1\" class=\"dataframe\">\n",
       "  <thead>\n",
       "    <tr style=\"text-align: right;\">\n",
       "      <th></th>\n",
       "      <th>odev</th>\n",
       "      <th>vize1</th>\n",
       "      <th>vize2</th>\n",
       "      <th>final</th>\n",
       "      <th>toplam</th>\n",
       "    </tr>\n",
       "  </thead>\n",
       "  <tbody>\n",
       "    <tr>\n",
       "      <th>ubey</th>\n",
       "      <td>-0.297627</td>\n",
       "      <td>1.233063</td>\n",
       "      <td>-0.034898</td>\n",
       "      <td>-0.730258</td>\n",
       "      <td>88</td>\n",
       "    </tr>\n",
       "    <tr>\n",
       "      <th>cuvu</th>\n",
       "      <td>0.418321</td>\n",
       "      <td>-1.553658</td>\n",
       "      <td>0.156427</td>\n",
       "      <td>1.360969</td>\n",
       "      <td>77</td>\n",
       "    </tr>\n",
       "    <tr>\n",
       "      <th>buji</th>\n",
       "      <td>-1.113292</td>\n",
       "      <td>-0.906386</td>\n",
       "      <td>-0.958999</td>\n",
       "      <td>0.737455</td>\n",
       "      <td>60</td>\n",
       "    </tr>\n",
       "    <tr>\n",
       "      <th>nuri</th>\n",
       "      <td>-1.040068</td>\n",
       "      <td>-0.717033</td>\n",
       "      <td>-0.519604</td>\n",
       "      <td>-0.244283</td>\n",
       "      <td>55</td>\n",
       "    </tr>\n",
       "    <tr>\n",
       "      <th>muhbani</th>\n",
       "      <td>1.591436</td>\n",
       "      <td>0.503256</td>\n",
       "      <td>0.962400</td>\n",
       "      <td>-1.182312</td>\n",
       "      <td>44</td>\n",
       "    </tr>\n",
       "  </tbody>\n",
       "</table>\n",
       "</div>"
      ],
      "text/plain": [
       "             odev     vize1     vize2     final  toplam\n",
       "ubey    -0.297627  1.233063 -0.034898 -0.730258      88\n",
       "cuvu     0.418321 -1.553658  0.156427  1.360969      77\n",
       "buji    -1.113292 -0.906386 -0.958999  0.737455      60\n",
       "nuri    -1.040068 -0.717033 -0.519604 -0.244283      55\n",
       "muhbani  1.591436  0.503256  0.962400 -1.182312      44"
      ]
     },
     "execution_count": 668,
     "metadata": {},
     "output_type": "execute_result"
    }
   ],
   "source": [
    "data_frame"
   ]
  },
  {
   "attachments": {},
   "cell_type": "markdown",
   "id": "63ec9920",
   "metadata": {},
   "source": [
    "#### sutun silmek ancak tamamen silinmiyo "
   ]
  },
  {
   "cell_type": "code",
   "execution_count": 669,
   "id": "5d5f201d",
   "metadata": {},
   "outputs": [
    {
     "data": {
      "text/html": [
       "<div>\n",
       "<style scoped>\n",
       "    .dataframe tbody tr th:only-of-type {\n",
       "        vertical-align: middle;\n",
       "    }\n",
       "\n",
       "    .dataframe tbody tr th {\n",
       "        vertical-align: top;\n",
       "    }\n",
       "\n",
       "    .dataframe thead th {\n",
       "        text-align: right;\n",
       "    }\n",
       "</style>\n",
       "<table border=\"1\" class=\"dataframe\">\n",
       "  <thead>\n",
       "    <tr style=\"text-align: right;\">\n",
       "      <th></th>\n",
       "      <th>odev</th>\n",
       "      <th>vize1</th>\n",
       "      <th>vize2</th>\n",
       "      <th>final</th>\n",
       "    </tr>\n",
       "  </thead>\n",
       "  <tbody>\n",
       "    <tr>\n",
       "      <th>ubey</th>\n",
       "      <td>-0.297627</td>\n",
       "      <td>1.233063</td>\n",
       "      <td>-0.034898</td>\n",
       "      <td>-0.730258</td>\n",
       "    </tr>\n",
       "    <tr>\n",
       "      <th>cuvu</th>\n",
       "      <td>0.418321</td>\n",
       "      <td>-1.553658</td>\n",
       "      <td>0.156427</td>\n",
       "      <td>1.360969</td>\n",
       "    </tr>\n",
       "    <tr>\n",
       "      <th>buji</th>\n",
       "      <td>-1.113292</td>\n",
       "      <td>-0.906386</td>\n",
       "      <td>-0.958999</td>\n",
       "      <td>0.737455</td>\n",
       "    </tr>\n",
       "    <tr>\n",
       "      <th>nuri</th>\n",
       "      <td>-1.040068</td>\n",
       "      <td>-0.717033</td>\n",
       "      <td>-0.519604</td>\n",
       "      <td>-0.244283</td>\n",
       "    </tr>\n",
       "    <tr>\n",
       "      <th>muhbani</th>\n",
       "      <td>1.591436</td>\n",
       "      <td>0.503256</td>\n",
       "      <td>0.962400</td>\n",
       "      <td>-1.182312</td>\n",
       "    </tr>\n",
       "  </tbody>\n",
       "</table>\n",
       "</div>"
      ],
      "text/plain": [
       "             odev     vize1     vize2     final\n",
       "ubey    -0.297627  1.233063 -0.034898 -0.730258\n",
       "cuvu     0.418321 -1.553658  0.156427  1.360969\n",
       "buji    -1.113292 -0.906386 -0.958999  0.737455\n",
       "nuri    -1.040068 -0.717033 -0.519604 -0.244283\n",
       "muhbani  1.591436  0.503256  0.962400 -1.182312"
      ]
     },
     "execution_count": 669,
     "metadata": {},
     "output_type": "execute_result"
    }
   ],
   "source": [
    "data_frame.drop(\"toplam\",axis=1)  ## axis 1 sutun demek"
   ]
  },
  {
   "cell_type": "code",
   "execution_count": 670,
   "id": "8685fe8b",
   "metadata": {},
   "outputs": [
    {
     "data": {
      "text/html": [
       "<div>\n",
       "<style scoped>\n",
       "    .dataframe tbody tr th:only-of-type {\n",
       "        vertical-align: middle;\n",
       "    }\n",
       "\n",
       "    .dataframe tbody tr th {\n",
       "        vertical-align: top;\n",
       "    }\n",
       "\n",
       "    .dataframe thead th {\n",
       "        text-align: right;\n",
       "    }\n",
       "</style>\n",
       "<table border=\"1\" class=\"dataframe\">\n",
       "  <thead>\n",
       "    <tr style=\"text-align: right;\">\n",
       "      <th></th>\n",
       "      <th>odev</th>\n",
       "      <th>vize1</th>\n",
       "      <th>vize2</th>\n",
       "      <th>final</th>\n",
       "      <th>toplam</th>\n",
       "    </tr>\n",
       "  </thead>\n",
       "  <tbody>\n",
       "    <tr>\n",
       "      <th>ubey</th>\n",
       "      <td>-0.297627</td>\n",
       "      <td>1.233063</td>\n",
       "      <td>-0.034898</td>\n",
       "      <td>-0.730258</td>\n",
       "      <td>88</td>\n",
       "    </tr>\n",
       "    <tr>\n",
       "      <th>cuvu</th>\n",
       "      <td>0.418321</td>\n",
       "      <td>-1.553658</td>\n",
       "      <td>0.156427</td>\n",
       "      <td>1.360969</td>\n",
       "      <td>77</td>\n",
       "    </tr>\n",
       "    <tr>\n",
       "      <th>buji</th>\n",
       "      <td>-1.113292</td>\n",
       "      <td>-0.906386</td>\n",
       "      <td>-0.958999</td>\n",
       "      <td>0.737455</td>\n",
       "      <td>60</td>\n",
       "    </tr>\n",
       "    <tr>\n",
       "      <th>nuri</th>\n",
       "      <td>-1.040068</td>\n",
       "      <td>-0.717033</td>\n",
       "      <td>-0.519604</td>\n",
       "      <td>-0.244283</td>\n",
       "      <td>55</td>\n",
       "    </tr>\n",
       "    <tr>\n",
       "      <th>muhbani</th>\n",
       "      <td>1.591436</td>\n",
       "      <td>0.503256</td>\n",
       "      <td>0.962400</td>\n",
       "      <td>-1.182312</td>\n",
       "      <td>44</td>\n",
       "    </tr>\n",
       "  </tbody>\n",
       "</table>\n",
       "</div>"
      ],
      "text/plain": [
       "             odev     vize1     vize2     final  toplam\n",
       "ubey    -0.297627  1.233063 -0.034898 -0.730258      88\n",
       "cuvu     0.418321 -1.553658  0.156427  1.360969      77\n",
       "buji    -1.113292 -0.906386 -0.958999  0.737455      60\n",
       "nuri    -1.040068 -0.717033 -0.519604 -0.244283      55\n",
       "muhbani  1.591436  0.503256  0.962400 -1.182312      44"
      ]
     },
     "execution_count": 670,
     "metadata": {},
     "output_type": "execute_result"
    }
   ],
   "source": [
    "data_frame\n",
    "#burada tamamen silinmedigini gorebiliriz"
   ]
  },
  {
   "attachments": {},
   "cell_type": "markdown",
   "id": "f48d41be",
   "metadata": {},
   "source": [
    "#### eger columon tamamen silmek istiyorsak inplace true diyecez"
   ]
  },
  {
   "cell_type": "code",
   "execution_count": 671,
   "id": "b507f3bc",
   "metadata": {},
   "outputs": [],
   "source": [
    "\n",
    "\n",
    "data_frame.drop(\"toplam\",axis=1,inplace=True)"
   ]
  },
  {
   "cell_type": "code",
   "execution_count": 672,
   "id": "564e234a",
   "metadata": {},
   "outputs": [
    {
     "data": {
      "text/html": [
       "<div>\n",
       "<style scoped>\n",
       "    .dataframe tbody tr th:only-of-type {\n",
       "        vertical-align: middle;\n",
       "    }\n",
       "\n",
       "    .dataframe tbody tr th {\n",
       "        vertical-align: top;\n",
       "    }\n",
       "\n",
       "    .dataframe thead th {\n",
       "        text-align: right;\n",
       "    }\n",
       "</style>\n",
       "<table border=\"1\" class=\"dataframe\">\n",
       "  <thead>\n",
       "    <tr style=\"text-align: right;\">\n",
       "      <th></th>\n",
       "      <th>odev</th>\n",
       "      <th>vize1</th>\n",
       "      <th>vize2</th>\n",
       "      <th>final</th>\n",
       "    </tr>\n",
       "  </thead>\n",
       "  <tbody>\n",
       "    <tr>\n",
       "      <th>ubey</th>\n",
       "      <td>-0.297627</td>\n",
       "      <td>1.233063</td>\n",
       "      <td>-0.034898</td>\n",
       "      <td>-0.730258</td>\n",
       "    </tr>\n",
       "    <tr>\n",
       "      <th>cuvu</th>\n",
       "      <td>0.418321</td>\n",
       "      <td>-1.553658</td>\n",
       "      <td>0.156427</td>\n",
       "      <td>1.360969</td>\n",
       "    </tr>\n",
       "    <tr>\n",
       "      <th>buji</th>\n",
       "      <td>-1.113292</td>\n",
       "      <td>-0.906386</td>\n",
       "      <td>-0.958999</td>\n",
       "      <td>0.737455</td>\n",
       "    </tr>\n",
       "    <tr>\n",
       "      <th>nuri</th>\n",
       "      <td>-1.040068</td>\n",
       "      <td>-0.717033</td>\n",
       "      <td>-0.519604</td>\n",
       "      <td>-0.244283</td>\n",
       "    </tr>\n",
       "    <tr>\n",
       "      <th>muhbani</th>\n",
       "      <td>1.591436</td>\n",
       "      <td>0.503256</td>\n",
       "      <td>0.962400</td>\n",
       "      <td>-1.182312</td>\n",
       "    </tr>\n",
       "  </tbody>\n",
       "</table>\n",
       "</div>"
      ],
      "text/plain": [
       "             odev     vize1     vize2     final\n",
       "ubey    -0.297627  1.233063 -0.034898 -0.730258\n",
       "cuvu     0.418321 -1.553658  0.156427  1.360969\n",
       "buji    -1.113292 -0.906386 -0.958999  0.737455\n",
       "nuri    -1.040068 -0.717033 -0.519604 -0.244283\n",
       "muhbani  1.591436  0.503256  0.962400 -1.182312"
      ]
     },
     "execution_count": 672,
     "metadata": {},
     "output_type": "execute_result"
    }
   ],
   "source": [
    "data_frame"
   ]
  },
  {
   "attachments": {},
   "cell_type": "markdown",
   "id": "511306b0",
   "metadata": {},
   "source": [
    "#### Raw silmek ise axis =0 "
   ]
  },
  {
   "cell_type": "code",
   "execution_count": 673,
   "id": "469e6fe9",
   "metadata": {},
   "outputs": [
    {
     "data": {
      "text/html": [
       "<div>\n",
       "<style scoped>\n",
       "    .dataframe tbody tr th:only-of-type {\n",
       "        vertical-align: middle;\n",
       "    }\n",
       "\n",
       "    .dataframe tbody tr th {\n",
       "        vertical-align: top;\n",
       "    }\n",
       "\n",
       "    .dataframe thead th {\n",
       "        text-align: right;\n",
       "    }\n",
       "</style>\n",
       "<table border=\"1\" class=\"dataframe\">\n",
       "  <thead>\n",
       "    <tr style=\"text-align: right;\">\n",
       "      <th></th>\n",
       "      <th>odev</th>\n",
       "      <th>vize1</th>\n",
       "      <th>vize2</th>\n",
       "      <th>final</th>\n",
       "    </tr>\n",
       "  </thead>\n",
       "  <tbody>\n",
       "    <tr>\n",
       "      <th>ubey</th>\n",
       "      <td>-0.297627</td>\n",
       "      <td>1.233063</td>\n",
       "      <td>-0.034898</td>\n",
       "      <td>-0.730258</td>\n",
       "    </tr>\n",
       "    <tr>\n",
       "      <th>cuvu</th>\n",
       "      <td>0.418321</td>\n",
       "      <td>-1.553658</td>\n",
       "      <td>0.156427</td>\n",
       "      <td>1.360969</td>\n",
       "    </tr>\n",
       "    <tr>\n",
       "      <th>buji</th>\n",
       "      <td>-1.113292</td>\n",
       "      <td>-0.906386</td>\n",
       "      <td>-0.958999</td>\n",
       "      <td>0.737455</td>\n",
       "    </tr>\n",
       "    <tr>\n",
       "      <th>muhbani</th>\n",
       "      <td>1.591436</td>\n",
       "      <td>0.503256</td>\n",
       "      <td>0.962400</td>\n",
       "      <td>-1.182312</td>\n",
       "    </tr>\n",
       "  </tbody>\n",
       "</table>\n",
       "</div>"
      ],
      "text/plain": [
       "             odev     vize1     vize2     final\n",
       "ubey    -0.297627  1.233063 -0.034898 -0.730258\n",
       "cuvu     0.418321 -1.553658  0.156427  1.360969\n",
       "buji    -1.113292 -0.906386 -0.958999  0.737455\n",
       "muhbani  1.591436  0.503256  0.962400 -1.182312"
      ]
     },
     "execution_count": 673,
     "metadata": {},
     "output_type": "execute_result"
    }
   ],
   "source": [
    "\n",
    "data_frame.drop(\"nuri\",axis=0)\n",
    "#burada tamamen sillmedim"
   ]
  },
  {
   "cell_type": "code",
   "execution_count": 674,
   "id": "e2537183",
   "metadata": {},
   "outputs": [
    {
     "data": {
      "text/html": [
       "<div>\n",
       "<style scoped>\n",
       "    .dataframe tbody tr th:only-of-type {\n",
       "        vertical-align: middle;\n",
       "    }\n",
       "\n",
       "    .dataframe tbody tr th {\n",
       "        vertical-align: top;\n",
       "    }\n",
       "\n",
       "    .dataframe thead th {\n",
       "        text-align: right;\n",
       "    }\n",
       "</style>\n",
       "<table border=\"1\" class=\"dataframe\">\n",
       "  <thead>\n",
       "    <tr style=\"text-align: right;\">\n",
       "      <th></th>\n",
       "      <th>odev</th>\n",
       "      <th>vize1</th>\n",
       "      <th>vize2</th>\n",
       "      <th>final</th>\n",
       "    </tr>\n",
       "  </thead>\n",
       "  <tbody>\n",
       "    <tr>\n",
       "      <th>ubey</th>\n",
       "      <td>False</td>\n",
       "      <td>True</td>\n",
       "      <td>False</td>\n",
       "      <td>False</td>\n",
       "    </tr>\n",
       "    <tr>\n",
       "      <th>cuvu</th>\n",
       "      <td>True</td>\n",
       "      <td>False</td>\n",
       "      <td>True</td>\n",
       "      <td>True</td>\n",
       "    </tr>\n",
       "    <tr>\n",
       "      <th>buji</th>\n",
       "      <td>False</td>\n",
       "      <td>False</td>\n",
       "      <td>False</td>\n",
       "      <td>True</td>\n",
       "    </tr>\n",
       "    <tr>\n",
       "      <th>nuri</th>\n",
       "      <td>False</td>\n",
       "      <td>False</td>\n",
       "      <td>False</td>\n",
       "      <td>False</td>\n",
       "    </tr>\n",
       "    <tr>\n",
       "      <th>muhbani</th>\n",
       "      <td>True</td>\n",
       "      <td>True</td>\n",
       "      <td>True</td>\n",
       "      <td>False</td>\n",
       "    </tr>\n",
       "  </tbody>\n",
       "</table>\n",
       "</div>"
      ],
      "text/plain": [
       "          odev  vize1  vize2  final\n",
       "ubey     False   True  False  False\n",
       "cuvu      True  False   True   True\n",
       "buji     False  False  False   True\n",
       "nuri     False  False  False  False\n",
       "muhbani   True   True   True  False"
      ]
     },
     "execution_count": 674,
     "metadata": {},
     "output_type": "execute_result"
    }
   ],
   "source": [
    "data_frame>0"
   ]
  },
  {
   "cell_type": "code",
   "execution_count": 675,
   "id": "df6e7eb6",
   "metadata": {},
   "outputs": [
    {
     "data": {
      "text/html": [
       "<div>\n",
       "<style scoped>\n",
       "    .dataframe tbody tr th:only-of-type {\n",
       "        vertical-align: middle;\n",
       "    }\n",
       "\n",
       "    .dataframe tbody tr th {\n",
       "        vertical-align: top;\n",
       "    }\n",
       "\n",
       "    .dataframe thead th {\n",
       "        text-align: right;\n",
       "    }\n",
       "</style>\n",
       "<table border=\"1\" class=\"dataframe\">\n",
       "  <thead>\n",
       "    <tr style=\"text-align: right;\">\n",
       "      <th></th>\n",
       "      <th>odev</th>\n",
       "      <th>vize1</th>\n",
       "      <th>vize2</th>\n",
       "      <th>final</th>\n",
       "    </tr>\n",
       "  </thead>\n",
       "  <tbody>\n",
       "    <tr>\n",
       "      <th>ubey</th>\n",
       "      <td>NaN</td>\n",
       "      <td>1.233063</td>\n",
       "      <td>NaN</td>\n",
       "      <td>NaN</td>\n",
       "    </tr>\n",
       "    <tr>\n",
       "      <th>cuvu</th>\n",
       "      <td>0.418321</td>\n",
       "      <td>NaN</td>\n",
       "      <td>0.156427</td>\n",
       "      <td>1.360969</td>\n",
       "    </tr>\n",
       "    <tr>\n",
       "      <th>buji</th>\n",
       "      <td>NaN</td>\n",
       "      <td>NaN</td>\n",
       "      <td>NaN</td>\n",
       "      <td>0.737455</td>\n",
       "    </tr>\n",
       "    <tr>\n",
       "      <th>nuri</th>\n",
       "      <td>NaN</td>\n",
       "      <td>NaN</td>\n",
       "      <td>NaN</td>\n",
       "      <td>NaN</td>\n",
       "    </tr>\n",
       "    <tr>\n",
       "      <th>muhbani</th>\n",
       "      <td>1.591436</td>\n",
       "      <td>0.503256</td>\n",
       "      <td>0.962400</td>\n",
       "      <td>NaN</td>\n",
       "    </tr>\n",
       "  </tbody>\n",
       "</table>\n",
       "</div>"
      ],
      "text/plain": [
       "             odev     vize1     vize2     final\n",
       "ubey          NaN  1.233063       NaN       NaN\n",
       "cuvu     0.418321       NaN  0.156427  1.360969\n",
       "buji          NaN       NaN       NaN  0.737455\n",
       "nuri          NaN       NaN       NaN       NaN\n",
       "muhbani  1.591436  0.503256  0.962400       NaN"
      ]
     },
     "execution_count": 675,
     "metadata": {},
     "output_type": "execute_result"
    }
   ],
   "source": [
    "data_frame[data_frame>0]"
   ]
  },
  {
   "cell_type": "code",
   "execution_count": 676,
   "id": "a4f01c0c",
   "metadata": {},
   "outputs": [],
   "source": [
    "data_frame[\"toplam\"]=[88,77,60,55,44]"
   ]
  },
  {
   "cell_type": "code",
   "execution_count": 677,
   "id": "15ac5fce",
   "metadata": {},
   "outputs": [
    {
     "data": {
      "text/plain": [
       "88.0"
      ]
     },
     "execution_count": 677,
     "metadata": {},
     "output_type": "execute_result"
    }
   ],
   "source": [
    "data_frame.loc[\"ubey\"][\"toplam\"]"
   ]
  },
  {
   "cell_type": "code",
   "execution_count": 678,
   "id": "c1e36101",
   "metadata": {},
   "outputs": [
    {
     "data": {
      "text/html": [
       "<div>\n",
       "<style scoped>\n",
       "    .dataframe tbody tr th:only-of-type {\n",
       "        vertical-align: middle;\n",
       "    }\n",
       "\n",
       "    .dataframe tbody tr th {\n",
       "        vertical-align: top;\n",
       "    }\n",
       "\n",
       "    .dataframe thead th {\n",
       "        text-align: right;\n",
       "    }\n",
       "</style>\n",
       "<table border=\"1\" class=\"dataframe\">\n",
       "  <thead>\n",
       "    <tr style=\"text-align: right;\">\n",
       "      <th></th>\n",
       "      <th>odev</th>\n",
       "      <th>vize1</th>\n",
       "      <th>vize2</th>\n",
       "      <th>final</th>\n",
       "      <th>toplam</th>\n",
       "    </tr>\n",
       "  </thead>\n",
       "  <tbody>\n",
       "    <tr>\n",
       "      <th>ubey</th>\n",
       "      <td>-0.297627</td>\n",
       "      <td>1.233063</td>\n",
       "      <td>-0.034898</td>\n",
       "      <td>-0.730258</td>\n",
       "      <td>88</td>\n",
       "    </tr>\n",
       "    <tr>\n",
       "      <th>cuvu</th>\n",
       "      <td>0.418321</td>\n",
       "      <td>-1.553658</td>\n",
       "      <td>0.156427</td>\n",
       "      <td>1.360969</td>\n",
       "      <td>77</td>\n",
       "    </tr>\n",
       "    <tr>\n",
       "      <th>buji</th>\n",
       "      <td>-1.113292</td>\n",
       "      <td>-0.906386</td>\n",
       "      <td>-0.958999</td>\n",
       "      <td>0.737455</td>\n",
       "      <td>60</td>\n",
       "    </tr>\n",
       "  </tbody>\n",
       "</table>\n",
       "</div>"
      ],
      "text/plain": [
       "          odev     vize1     vize2     final  toplam\n",
       "ubey -0.297627  1.233063 -0.034898 -0.730258      88\n",
       "cuvu  0.418321 -1.553658  0.156427  1.360969      77\n",
       "buji -1.113292 -0.906386 -0.958999  0.737455      60"
      ]
     },
     "execution_count": 678,
     "metadata": {},
     "output_type": "execute_result"
    }
   ],
   "source": [
    "data_frame[data_frame[\"toplam\"]>=60]\n",
    "#filterleme icin  kullanilan bi yontem sarti saglamayan alinmiyor"
   ]
  },
  {
   "cell_type": "markdown",
   "id": "b91ab59a",
   "metadata": {},
   "source": [
    "## index_degistirme"
   ]
  },
  {
   "cell_type": "code",
   "execution_count": 679,
   "id": "dc04cdb0",
   "metadata": {},
   "outputs": [
    {
     "data": {
      "text/plain": [
       "1.2330633129115907"
      ]
     },
     "execution_count": 679,
     "metadata": {},
     "output_type": "execute_result"
    }
   ],
   "source": [
    "data_frame.loc[\"ubey\"][\"vize1\"]"
   ]
  },
  {
   "cell_type": "code",
   "execution_count": 680,
   "id": "508d5667",
   "metadata": {},
   "outputs": [
    {
     "data": {
      "text/html": [
       "<div>\n",
       "<style scoped>\n",
       "    .dataframe tbody tr th:only-of-type {\n",
       "        vertical-align: middle;\n",
       "    }\n",
       "\n",
       "    .dataframe tbody tr th {\n",
       "        vertical-align: top;\n",
       "    }\n",
       "\n",
       "    .dataframe thead th {\n",
       "        text-align: right;\n",
       "    }\n",
       "</style>\n",
       "<table border=\"1\" class=\"dataframe\">\n",
       "  <thead>\n",
       "    <tr style=\"text-align: right;\">\n",
       "      <th></th>\n",
       "      <th>index</th>\n",
       "      <th>odev</th>\n",
       "      <th>vize1</th>\n",
       "      <th>vize2</th>\n",
       "      <th>final</th>\n",
       "      <th>toplam</th>\n",
       "    </tr>\n",
       "  </thead>\n",
       "  <tbody>\n",
       "    <tr>\n",
       "      <th>0</th>\n",
       "      <td>ubey</td>\n",
       "      <td>-0.297627</td>\n",
       "      <td>1.233063</td>\n",
       "      <td>-0.034898</td>\n",
       "      <td>-0.730258</td>\n",
       "      <td>88</td>\n",
       "    </tr>\n",
       "    <tr>\n",
       "      <th>1</th>\n",
       "      <td>cuvu</td>\n",
       "      <td>0.418321</td>\n",
       "      <td>-1.553658</td>\n",
       "      <td>0.156427</td>\n",
       "      <td>1.360969</td>\n",
       "      <td>77</td>\n",
       "    </tr>\n",
       "    <tr>\n",
       "      <th>2</th>\n",
       "      <td>buji</td>\n",
       "      <td>-1.113292</td>\n",
       "      <td>-0.906386</td>\n",
       "      <td>-0.958999</td>\n",
       "      <td>0.737455</td>\n",
       "      <td>60</td>\n",
       "    </tr>\n",
       "    <tr>\n",
       "      <th>3</th>\n",
       "      <td>nuri</td>\n",
       "      <td>-1.040068</td>\n",
       "      <td>-0.717033</td>\n",
       "      <td>-0.519604</td>\n",
       "      <td>-0.244283</td>\n",
       "      <td>55</td>\n",
       "    </tr>\n",
       "    <tr>\n",
       "      <th>4</th>\n",
       "      <td>muhbani</td>\n",
       "      <td>1.591436</td>\n",
       "      <td>0.503256</td>\n",
       "      <td>0.962400</td>\n",
       "      <td>-1.182312</td>\n",
       "      <td>44</td>\n",
       "    </tr>\n",
       "  </tbody>\n",
       "</table>\n",
       "</div>"
      ],
      "text/plain": [
       "     index      odev     vize1     vize2     final  toplam\n",
       "0     ubey -0.297627  1.233063 -0.034898 -0.730258      88\n",
       "1     cuvu  0.418321 -1.553658  0.156427  1.360969      77\n",
       "2     buji -1.113292 -0.906386 -0.958999  0.737455      60\n",
       "3     nuri -1.040068 -0.717033 -0.519604 -0.244283      55\n",
       "4  muhbani  1.591436  0.503256  0.962400 -1.182312      44"
      ]
     },
     "execution_count": 680,
     "metadata": {},
     "output_type": "execute_result"
    }
   ],
   "source": [
    "data_frame.reset_index(inplace=True)\n",
    "# data_frame.drop(\"index\",axis=1,inplace=True)\n",
    "data_frame"
   ]
  },
  {
   "cell_type": "code",
   "execution_count": 681,
   "id": "16f641f8",
   "metadata": {},
   "outputs": [
    {
     "data": {
      "text/html": [
       "<div>\n",
       "<style scoped>\n",
       "    .dataframe tbody tr th:only-of-type {\n",
       "        vertical-align: middle;\n",
       "    }\n",
       "\n",
       "    .dataframe tbody tr th {\n",
       "        vertical-align: top;\n",
       "    }\n",
       "\n",
       "    .dataframe thead th {\n",
       "        text-align: right;\n",
       "    }\n",
       "</style>\n",
       "<table border=\"1\" class=\"dataframe\">\n",
       "  <thead>\n",
       "    <tr style=\"text-align: right;\">\n",
       "      <th></th>\n",
       "      <th>index</th>\n",
       "      <th>odev</th>\n",
       "      <th>vize1</th>\n",
       "      <th>vize2</th>\n",
       "      <th>final</th>\n",
       "      <th>toplam</th>\n",
       "    </tr>\n",
       "  </thead>\n",
       "  <tbody>\n",
       "    <tr>\n",
       "      <th>0</th>\n",
       "      <td>ubey</td>\n",
       "      <td>-0.297627</td>\n",
       "      <td>1.233063</td>\n",
       "      <td>-0.034898</td>\n",
       "      <td>-0.730258</td>\n",
       "      <td>88</td>\n",
       "    </tr>\n",
       "    <tr>\n",
       "      <th>1</th>\n",
       "      <td>cuvu</td>\n",
       "      <td>0.418321</td>\n",
       "      <td>-1.553658</td>\n",
       "      <td>0.156427</td>\n",
       "      <td>1.360969</td>\n",
       "      <td>77</td>\n",
       "    </tr>\n",
       "    <tr>\n",
       "      <th>2</th>\n",
       "      <td>buji</td>\n",
       "      <td>-1.113292</td>\n",
       "      <td>-0.906386</td>\n",
       "      <td>-0.958999</td>\n",
       "      <td>0.737455</td>\n",
       "      <td>60</td>\n",
       "    </tr>\n",
       "    <tr>\n",
       "      <th>3</th>\n",
       "      <td>nuri</td>\n",
       "      <td>-1.040068</td>\n",
       "      <td>-0.717033</td>\n",
       "      <td>-0.519604</td>\n",
       "      <td>-0.244283</td>\n",
       "      <td>55</td>\n",
       "    </tr>\n",
       "    <tr>\n",
       "      <th>4</th>\n",
       "      <td>muhbani</td>\n",
       "      <td>1.591436</td>\n",
       "      <td>0.503256</td>\n",
       "      <td>0.962400</td>\n",
       "      <td>-1.182312</td>\n",
       "      <td>44</td>\n",
       "    </tr>\n",
       "  </tbody>\n",
       "</table>\n",
       "</div>"
      ],
      "text/plain": [
       "     index      odev     vize1     vize2     final  toplam\n",
       "0     ubey -0.297627  1.233063 -0.034898 -0.730258      88\n",
       "1     cuvu  0.418321 -1.553658  0.156427  1.360969      77\n",
       "2     buji -1.113292 -0.906386 -0.958999  0.737455      60\n",
       "3     nuri -1.040068 -0.717033 -0.519604 -0.244283      55\n",
       "4  muhbani  1.591436  0.503256  0.962400 -1.182312      44"
      ]
     },
     "execution_count": 681,
     "metadata": {},
     "output_type": "execute_result"
    }
   ],
   "source": [
    "data_frame"
   ]
  },
  {
   "cell_type": "code",
   "execution_count": 682,
   "id": "b91f3d5b",
   "metadata": {},
   "outputs": [],
   "source": [
    "#simdi eger indexlerin labeli degistirmek istiyorsak \n",
    "yeniLabelListesi=[\"u\",\"c\",\"b\",\"n\",\"m\"]"
   ]
  },
  {
   "cell_type": "code",
   "execution_count": 683,
   "id": "3b453c61",
   "metadata": {},
   "outputs": [],
   "source": [
    "data_frame[\"yeniLabels\"]=yeniLabelListesi  ##yeni sutun olarak ekledik "
   ]
  },
  {
   "cell_type": "code",
   "execution_count": 684,
   "id": "4c180cb2",
   "metadata": {},
   "outputs": [
    {
     "data": {
      "text/html": [
       "<div>\n",
       "<style scoped>\n",
       "    .dataframe tbody tr th:only-of-type {\n",
       "        vertical-align: middle;\n",
       "    }\n",
       "\n",
       "    .dataframe tbody tr th {\n",
       "        vertical-align: top;\n",
       "    }\n",
       "\n",
       "    .dataframe thead th {\n",
       "        text-align: right;\n",
       "    }\n",
       "</style>\n",
       "<table border=\"1\" class=\"dataframe\">\n",
       "  <thead>\n",
       "    <tr style=\"text-align: right;\">\n",
       "      <th></th>\n",
       "      <th>index</th>\n",
       "      <th>odev</th>\n",
       "      <th>vize1</th>\n",
       "      <th>vize2</th>\n",
       "      <th>final</th>\n",
       "      <th>toplam</th>\n",
       "      <th>yeniLabels</th>\n",
       "    </tr>\n",
       "  </thead>\n",
       "  <tbody>\n",
       "    <tr>\n",
       "      <th>0</th>\n",
       "      <td>ubey</td>\n",
       "      <td>-0.297627</td>\n",
       "      <td>1.233063</td>\n",
       "      <td>-0.034898</td>\n",
       "      <td>-0.730258</td>\n",
       "      <td>88</td>\n",
       "      <td>u</td>\n",
       "    </tr>\n",
       "    <tr>\n",
       "      <th>1</th>\n",
       "      <td>cuvu</td>\n",
       "      <td>0.418321</td>\n",
       "      <td>-1.553658</td>\n",
       "      <td>0.156427</td>\n",
       "      <td>1.360969</td>\n",
       "      <td>77</td>\n",
       "      <td>c</td>\n",
       "    </tr>\n",
       "    <tr>\n",
       "      <th>2</th>\n",
       "      <td>buji</td>\n",
       "      <td>-1.113292</td>\n",
       "      <td>-0.906386</td>\n",
       "      <td>-0.958999</td>\n",
       "      <td>0.737455</td>\n",
       "      <td>60</td>\n",
       "      <td>b</td>\n",
       "    </tr>\n",
       "    <tr>\n",
       "      <th>3</th>\n",
       "      <td>nuri</td>\n",
       "      <td>-1.040068</td>\n",
       "      <td>-0.717033</td>\n",
       "      <td>-0.519604</td>\n",
       "      <td>-0.244283</td>\n",
       "      <td>55</td>\n",
       "      <td>n</td>\n",
       "    </tr>\n",
       "    <tr>\n",
       "      <th>4</th>\n",
       "      <td>muhbani</td>\n",
       "      <td>1.591436</td>\n",
       "      <td>0.503256</td>\n",
       "      <td>0.962400</td>\n",
       "      <td>-1.182312</td>\n",
       "      <td>44</td>\n",
       "      <td>m</td>\n",
       "    </tr>\n",
       "  </tbody>\n",
       "</table>\n",
       "</div>"
      ],
      "text/plain": [
       "     index      odev     vize1     vize2     final  toplam yeniLabels\n",
       "0     ubey -0.297627  1.233063 -0.034898 -0.730258      88          u\n",
       "1     cuvu  0.418321 -1.553658  0.156427  1.360969      77          c\n",
       "2     buji -1.113292 -0.906386 -0.958999  0.737455      60          b\n",
       "3     nuri -1.040068 -0.717033 -0.519604 -0.244283      55          n\n",
       "4  muhbani  1.591436  0.503256  0.962400 -1.182312      44          m"
      ]
     },
     "execution_count": 684,
     "metadata": {},
     "output_type": "execute_result"
    }
   ],
   "source": [
    "data_frame"
   ]
  },
  {
   "cell_type": "code",
   "execution_count": 685,
   "id": "e0a2d9bd",
   "metadata": {},
   "outputs": [],
   "source": [
    "data_frame.set_index(\"yeniLabels\",inplace=True) ## ekledigimiz yeni sutun index olarak belirledik\n"
   ]
  },
  {
   "cell_type": "code",
   "execution_count": 686,
   "id": "a208adde",
   "metadata": {},
   "outputs": [
    {
     "data": {
      "text/html": [
       "<div>\n",
       "<style scoped>\n",
       "    .dataframe tbody tr th:only-of-type {\n",
       "        vertical-align: middle;\n",
       "    }\n",
       "\n",
       "    .dataframe tbody tr th {\n",
       "        vertical-align: top;\n",
       "    }\n",
       "\n",
       "    .dataframe thead th {\n",
       "        text-align: right;\n",
       "    }\n",
       "</style>\n",
       "<table border=\"1\" class=\"dataframe\">\n",
       "  <thead>\n",
       "    <tr style=\"text-align: right;\">\n",
       "      <th></th>\n",
       "      <th>index</th>\n",
       "      <th>odev</th>\n",
       "      <th>vize1</th>\n",
       "      <th>vize2</th>\n",
       "      <th>final</th>\n",
       "      <th>toplam</th>\n",
       "    </tr>\n",
       "    <tr>\n",
       "      <th>yeniLabels</th>\n",
       "      <th></th>\n",
       "      <th></th>\n",
       "      <th></th>\n",
       "      <th></th>\n",
       "      <th></th>\n",
       "      <th></th>\n",
       "    </tr>\n",
       "  </thead>\n",
       "  <tbody>\n",
       "    <tr>\n",
       "      <th>u</th>\n",
       "      <td>ubey</td>\n",
       "      <td>-0.297627</td>\n",
       "      <td>1.233063</td>\n",
       "      <td>-0.034898</td>\n",
       "      <td>-0.730258</td>\n",
       "      <td>88</td>\n",
       "    </tr>\n",
       "    <tr>\n",
       "      <th>c</th>\n",
       "      <td>cuvu</td>\n",
       "      <td>0.418321</td>\n",
       "      <td>-1.553658</td>\n",
       "      <td>0.156427</td>\n",
       "      <td>1.360969</td>\n",
       "      <td>77</td>\n",
       "    </tr>\n",
       "    <tr>\n",
       "      <th>b</th>\n",
       "      <td>buji</td>\n",
       "      <td>-1.113292</td>\n",
       "      <td>-0.906386</td>\n",
       "      <td>-0.958999</td>\n",
       "      <td>0.737455</td>\n",
       "      <td>60</td>\n",
       "    </tr>\n",
       "    <tr>\n",
       "      <th>n</th>\n",
       "      <td>nuri</td>\n",
       "      <td>-1.040068</td>\n",
       "      <td>-0.717033</td>\n",
       "      <td>-0.519604</td>\n",
       "      <td>-0.244283</td>\n",
       "      <td>55</td>\n",
       "    </tr>\n",
       "    <tr>\n",
       "      <th>m</th>\n",
       "      <td>muhbani</td>\n",
       "      <td>1.591436</td>\n",
       "      <td>0.503256</td>\n",
       "      <td>0.962400</td>\n",
       "      <td>-1.182312</td>\n",
       "      <td>44</td>\n",
       "    </tr>\n",
       "  </tbody>\n",
       "</table>\n",
       "</div>"
      ],
      "text/plain": [
       "              index      odev     vize1     vize2     final  toplam\n",
       "yeniLabels                                                         \n",
       "u              ubey -0.297627  1.233063 -0.034898 -0.730258      88\n",
       "c              cuvu  0.418321 -1.553658  0.156427  1.360969      77\n",
       "b              buji -1.113292 -0.906386 -0.958999  0.737455      60\n",
       "n              nuri -1.040068 -0.717033 -0.519604 -0.244283      55\n",
       "m           muhbani  1.591436  0.503256  0.962400 -1.182312      44"
      ]
     },
     "execution_count": 686,
     "metadata": {},
     "output_type": "execute_result"
    }
   ],
   "source": [
    "data_frame"
   ]
  },
  {
   "cell_type": "code",
   "execution_count": 687,
   "id": "322abf1a",
   "metadata": {},
   "outputs": [],
   "source": [
    "# data_frame.reset_index()"
   ]
  },
  {
   "cell_type": "markdown",
   "id": "6f9ab0d1",
   "metadata": {},
   "source": [
    "## Multi_index"
   ]
  },
  {
   "cell_type": "code",
   "execution_count": 688,
   "id": "7e1a304c",
   "metadata": {},
   "outputs": [],
   "source": [
    "aileList=[\"saab\",\"saab\",\"saab\",\"buji\",\"buji\",\"buji\"]"
   ]
  },
  {
   "cell_type": "code",
   "execution_count": 689,
   "id": "a983cd17",
   "metadata": {},
   "outputs": [],
   "source": [
    "isimList=[\"ubey\",\"udey\",\"urwa\",\"ayham\",\"cuvu\",\"majd\"]"
   ]
  },
  {
   "cell_type": "code",
   "execution_count": 690,
   "id": "e19b2440",
   "metadata": {},
   "outputs": [],
   "source": [
    "birlesmislist = list(zip(aileList,isimList))##"
   ]
  },
  {
   "cell_type": "code",
   "execution_count": 691,
   "id": "ac22cd71",
   "metadata": {
    "scrolled": true
   },
   "outputs": [
    {
     "name": "stdout",
     "output_type": "stream",
     "text": [
      "[('saab', 'ubey'), ('saab', 'udey'), ('saab', 'urwa'), ('buji', 'ayham'), ('buji', 'cuvu'), ('buji', 'majd')]\n"
     ]
    }
   ],
   "source": [
    "print(birlesmislist)"
   ]
  },
  {
   "cell_type": "code",
   "execution_count": 692,
   "id": "0d319aac",
   "metadata": {},
   "outputs": [
    {
     "data": {
      "text/plain": [
       "array([['saab', 'ubey'],\n",
       "       ['saab', 'udey'],\n",
       "       ['saab', 'urwa'],\n",
       "       ['buji', 'ayham'],\n",
       "       ['buji', 'cuvu'],\n",
       "       ['buji', 'majd']], dtype='<U5')"
      ]
     },
     "execution_count": 692,
     "metadata": {},
     "output_type": "execute_result"
    }
   ],
   "source": [
    "birlesmisNlist=np.array(birlesmislist)\n",
    "birlesmisNlist"
   ]
  },
  {
   "cell_type": "markdown",
   "id": "22b923f5",
   "metadata": {},
   "source": [
    "mi=pd.MultiIndex.from_arrays(birlesmisNlist)\n",
    "ile yapmaya calistim olmadigi birlesmislist numpy_array'ina donusturmeme ragmen"
   ]
  },
  {
   "cell_type": "code",
   "execution_count": 693,
   "id": "eb1e425d",
   "metadata": {},
   "outputs": [
    {
     "data": {
      "text/plain": [
       "MultiIndex([('saab',  'ubey'),\n",
       "            ('saab',  'udey'),\n",
       "            ('saab',  'urwa'),\n",
       "            ('buji', 'ayham'),\n",
       "            ('buji',  'cuvu'),\n",
       "            ('buji',  'majd')],\n",
       "           )"
      ]
     },
     "execution_count": 693,
     "metadata": {},
     "output_type": "execute_result"
    }
   ],
   "source": [
    "mi=pd.MultiIndex.from_tuples(birlesmislist)\n",
    "mi"
   ]
  },
  {
   "cell_type": "code",
   "execution_count": 694,
   "id": "c2bcc26a",
   "metadata": {},
   "outputs": [],
   "source": [
    "data=[[\"a\",20],[\"b\",16],[\"o\",10],[\"e\",10],[\"d\",10],[\"c\",10]]"
   ]
  },
  {
   "cell_type": "code",
   "execution_count": 695,
   "id": "a6bee504",
   "metadata": {},
   "outputs": [],
   "source": [
    "dataN=np.array(data)"
   ]
  },
  {
   "cell_type": "code",
   "execution_count": 696,
   "id": "e13cafa0",
   "metadata": {},
   "outputs": [
    {
     "data": {
      "text/html": [
       "<div>\n",
       "<style scoped>\n",
       "    .dataframe tbody tr th:only-of-type {\n",
       "        vertical-align: middle;\n",
       "    }\n",
       "\n",
       "    .dataframe tbody tr th {\n",
       "        vertical-align: top;\n",
       "    }\n",
       "\n",
       "    .dataframe thead th {\n",
       "        text-align: right;\n",
       "    }\n",
       "</style>\n",
       "<table border=\"1\" class=\"dataframe\">\n",
       "  <thead>\n",
       "    <tr style=\"text-align: right;\">\n",
       "      <th></th>\n",
       "      <th></th>\n",
       "      <th>kanGrubu</th>\n",
       "      <th>yas</th>\n",
       "    </tr>\n",
       "  </thead>\n",
       "  <tbody>\n",
       "    <tr>\n",
       "      <th rowspan=\"3\" valign=\"top\">saab</th>\n",
       "      <th>ubey</th>\n",
       "      <td>a</td>\n",
       "      <td>20</td>\n",
       "    </tr>\n",
       "    <tr>\n",
       "      <th>udey</th>\n",
       "      <td>b</td>\n",
       "      <td>16</td>\n",
       "    </tr>\n",
       "    <tr>\n",
       "      <th>urwa</th>\n",
       "      <td>o</td>\n",
       "      <td>10</td>\n",
       "    </tr>\n",
       "    <tr>\n",
       "      <th rowspan=\"3\" valign=\"top\">buji</th>\n",
       "      <th>ayham</th>\n",
       "      <td>e</td>\n",
       "      <td>10</td>\n",
       "    </tr>\n",
       "    <tr>\n",
       "      <th>cuvu</th>\n",
       "      <td>d</td>\n",
       "      <td>10</td>\n",
       "    </tr>\n",
       "    <tr>\n",
       "      <th>majd</th>\n",
       "      <td>c</td>\n",
       "      <td>10</td>\n",
       "    </tr>\n",
       "  </tbody>\n",
       "</table>\n",
       "</div>"
      ],
      "text/plain": [
       "           kanGrubu  yas\n",
       "saab ubey         a   20\n",
       "     udey         b   16\n",
       "     urwa         o   10\n",
       "buji ayham        e   10\n",
       "     cuvu         d   10\n",
       "     majd         c   10"
      ]
     },
     "execution_count": 696,
     "metadata": {},
     "output_type": "execute_result"
    }
   ],
   "source": [
    "dataFrame=pd.DataFrame(data,mi,[\"kanGrubu\",\"yas\"])\n",
    "#values sornra x axis label , sonra y axis'in indexleme lablelleri\n",
    "dataFrame"
   ]
  },
  {
   "cell_type": "code",
   "execution_count": null,
   "id": "45ef2915",
   "metadata": {},
   "outputs": [],
   "source": []
  },
  {
   "cell_type": "markdown",
   "id": "7a694fe5",
   "metadata": {},
   "source": [
    "dataFrame.loc[\"saab\"][\"udey\"]# bu yanlis\n"
   ]
  },
  {
   "cell_type": "code",
   "execution_count": 697,
   "id": "c203cddb",
   "metadata": {},
   "outputs": [
    {
     "data": {
      "text/html": [
       "<div>\n",
       "<style scoped>\n",
       "    .dataframe tbody tr th:only-of-type {\n",
       "        vertical-align: middle;\n",
       "    }\n",
       "\n",
       "    .dataframe tbody tr th {\n",
       "        vertical-align: top;\n",
       "    }\n",
       "\n",
       "    .dataframe thead th {\n",
       "        text-align: right;\n",
       "    }\n",
       "</style>\n",
       "<table border=\"1\" class=\"dataframe\">\n",
       "  <thead>\n",
       "    <tr style=\"text-align: right;\">\n",
       "      <th></th>\n",
       "      <th>kanGrubu</th>\n",
       "      <th>yas</th>\n",
       "    </tr>\n",
       "  </thead>\n",
       "  <tbody>\n",
       "    <tr>\n",
       "      <th>ubey</th>\n",
       "      <td>a</td>\n",
       "      <td>20</td>\n",
       "    </tr>\n",
       "    <tr>\n",
       "      <th>udey</th>\n",
       "      <td>b</td>\n",
       "      <td>16</td>\n",
       "    </tr>\n",
       "    <tr>\n",
       "      <th>urwa</th>\n",
       "      <td>o</td>\n",
       "      <td>10</td>\n",
       "    </tr>\n",
       "  </tbody>\n",
       "</table>\n",
       "</div>"
      ],
      "text/plain": [
       "     kanGrubu  yas\n",
       "ubey        a   20\n",
       "udey        b   16\n",
       "urwa        o   10"
      ]
     },
     "execution_count": 697,
     "metadata": {},
     "output_type": "execute_result"
    }
   ],
   "source": [
    "dataFrame.loc[\"saab\"]  #loc for records mean x axis "
   ]
  },
  {
   "cell_type": "code",
   "execution_count": 698,
   "id": "acbdefed",
   "metadata": {},
   "outputs": [
    {
     "data": {
      "text/plain": [
       "kanGrubu     b\n",
       "yas         16\n",
       "Name: udey, dtype: object"
      ]
     },
     "execution_count": 698,
     "metadata": {},
     "output_type": "execute_result"
    }
   ],
   "source": [
    "\n",
    "dataFrame.loc[\"saab\"].loc[\"udey\"]  # x axisin icindeki x axis "
   ]
  },
  {
   "cell_type": "code",
   "execution_count": 699,
   "id": "bde659cf",
   "metadata": {},
   "outputs": [
    {
     "data": {
      "text/html": [
       "<div>\n",
       "<style scoped>\n",
       "    .dataframe tbody tr th:only-of-type {\n",
       "        vertical-align: middle;\n",
       "    }\n",
       "\n",
       "    .dataframe tbody tr th {\n",
       "        vertical-align: top;\n",
       "    }\n",
       "\n",
       "    .dataframe thead th {\n",
       "        text-align: right;\n",
       "    }\n",
       "</style>\n",
       "<table border=\"1\" class=\"dataframe\">\n",
       "  <thead>\n",
       "    <tr style=\"text-align: right;\">\n",
       "      <th></th>\n",
       "      <th></th>\n",
       "      <th>kanGrubu</th>\n",
       "      <th>yas</th>\n",
       "    </tr>\n",
       "  </thead>\n",
       "  <tbody>\n",
       "    <tr>\n",
       "      <th rowspan=\"3\" valign=\"top\">saab</th>\n",
       "      <th>ubey</th>\n",
       "      <td>a</td>\n",
       "      <td>20</td>\n",
       "    </tr>\n",
       "    <tr>\n",
       "      <th>udey</th>\n",
       "      <td>b</td>\n",
       "      <td>16</td>\n",
       "    </tr>\n",
       "    <tr>\n",
       "      <th>urwa</th>\n",
       "      <td>o</td>\n",
       "      <td>10</td>\n",
       "    </tr>\n",
       "    <tr>\n",
       "      <th rowspan=\"3\" valign=\"top\">buji</th>\n",
       "      <th>ayham</th>\n",
       "      <td>e</td>\n",
       "      <td>10</td>\n",
       "    </tr>\n",
       "    <tr>\n",
       "      <th>cuvu</th>\n",
       "      <td>d</td>\n",
       "      <td>10</td>\n",
       "    </tr>\n",
       "    <tr>\n",
       "      <th>majd</th>\n",
       "      <td>c</td>\n",
       "      <td>10</td>\n",
       "    </tr>\n",
       "  </tbody>\n",
       "</table>\n",
       "</div>"
      ],
      "text/plain": [
       "           kanGrubu  yas\n",
       "saab ubey         a   20\n",
       "     udey         b   16\n",
       "     urwa         o   10\n",
       "buji ayham        e   10\n",
       "     cuvu         d   10\n",
       "     majd         c   10"
      ]
     },
     "execution_count": 699,
     "metadata": {},
     "output_type": "execute_result"
    }
   ],
   "source": [
    "## indix ismi verme \n",
    "dataFrame"
   ]
  },
  {
   "cell_type": "code",
   "execution_count": 701,
   "id": "1f03f18c",
   "metadata": {},
   "outputs": [
    {
     "data": {
      "text/html": [
       "<div>\n",
       "<style scoped>\n",
       "    .dataframe tbody tr th:only-of-type {\n",
       "        vertical-align: middle;\n",
       "    }\n",
       "\n",
       "    .dataframe tbody tr th {\n",
       "        vertical-align: top;\n",
       "    }\n",
       "\n",
       "    .dataframe thead th {\n",
       "        text-align: right;\n",
       "    }\n",
       "</style>\n",
       "<table border=\"1\" class=\"dataframe\">\n",
       "  <thead>\n",
       "    <tr style=\"text-align: right;\">\n",
       "      <th></th>\n",
       "      <th></th>\n",
       "      <th>kanGrubu</th>\n",
       "      <th>yas</th>\n",
       "    </tr>\n",
       "    <tr>\n",
       "      <th>lastName</th>\n",
       "      <th>FirstName</th>\n",
       "      <th></th>\n",
       "      <th></th>\n",
       "    </tr>\n",
       "  </thead>\n",
       "  <tbody>\n",
       "    <tr>\n",
       "      <th rowspan=\"3\" valign=\"top\">saab</th>\n",
       "      <th>ubey</th>\n",
       "      <td>a</td>\n",
       "      <td>20</td>\n",
       "    </tr>\n",
       "    <tr>\n",
       "      <th>udey</th>\n",
       "      <td>b</td>\n",
       "      <td>16</td>\n",
       "    </tr>\n",
       "    <tr>\n",
       "      <th>urwa</th>\n",
       "      <td>o</td>\n",
       "      <td>10</td>\n",
       "    </tr>\n",
       "    <tr>\n",
       "      <th rowspan=\"3\" valign=\"top\">buji</th>\n",
       "      <th>ayham</th>\n",
       "      <td>e</td>\n",
       "      <td>10</td>\n",
       "    </tr>\n",
       "    <tr>\n",
       "      <th>cuvu</th>\n",
       "      <td>d</td>\n",
       "      <td>10</td>\n",
       "    </tr>\n",
       "    <tr>\n",
       "      <th>majd</th>\n",
       "      <td>c</td>\n",
       "      <td>10</td>\n",
       "    </tr>\n",
       "  </tbody>\n",
       "</table>\n",
       "</div>"
      ],
      "text/plain": [
       "                   kanGrubu  yas\n",
       "lastName FirstName              \n",
       "saab     ubey             a   20\n",
       "         udey             b   16\n",
       "         urwa             o   10\n",
       "buji     ayham            e   10\n",
       "         cuvu             d   10\n",
       "         majd             c   10"
      ]
     },
     "execution_count": 701,
     "metadata": {},
     "output_type": "execute_result"
    }
   ],
   "source": [
    "dataFrame.index.names=[\"lastName\",\"FirstName\"]\n",
    "dataFrame"
   ]
  },
  {
   "cell_type": "code",
   "execution_count": null,
   "id": "c4abb9b9",
   "metadata": {},
   "outputs": [],
   "source": []
  }
 ],
 "metadata": {
  "kernelspec": {
   "display_name": "Python 3 (ipykernel)",
   "language": "python",
   "name": "python3"
  },
  "language_info": {
   "codemirror_mode": {
    "name": "ipython",
    "version": 3
   },
   "file_extension": ".py",
   "mimetype": "text/x-python",
   "name": "python",
   "nbconvert_exporter": "python",
   "pygments_lexer": "ipython3",
   "version": "3.10.8"
  }
 },
 "nbformat": 4,
 "nbformat_minor": 5
}
