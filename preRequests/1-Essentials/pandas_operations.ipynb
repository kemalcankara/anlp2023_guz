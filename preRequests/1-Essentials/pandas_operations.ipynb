{
 "cells": [
  {
   "cell_type": "code",
   "execution_count": 134,
   "id": "6f02d014",
   "metadata": {},
   "outputs": [],
   "source": [
    "import pandas as pd \n",
    "import numpy as np"
   ]
  },
  {
   "attachments": {},
   "cell_type": "markdown",
   "id": "99ab59fd",
   "metadata": {},
   "source": [
    " ### eksik_veri_durumu"
   ]
  },
  {
   "cell_type": "code",
   "execution_count": 135,
   "id": "9e6b048d",
   "metadata": {},
   "outputs": [],
   "source": [
    "hava_durumu ={\"istanbul\":[30,29,np.nan],\"ankara\":[20,np.nan,25]\n",
    "              ,\"izmir\":[40,39,38] \n",
    "              ,\"adana\":[np.nan,np.nan,50]}\n",
    "hava_durumu_dataFrame=pd.DataFrame(hava_durumu\n",
    "                                   ,[\"pz\",\"pzt\",\"sl\"])\n",
    "\n",
    "## onemliNot : data frame datasi dict olarak verilirse\n",
    "#  keyWords hemen colomun labeli olur\n",
    "          "
   ]
  },
  {
   "cell_type": "code",
   "execution_count": 136,
   "id": "81ff773b",
   "metadata": {},
   "outputs": [
    {
     "data": {
      "text/html": [
       "<div>\n",
       "<style scoped>\n",
       "    .dataframe tbody tr th:only-of-type {\n",
       "        vertical-align: middle;\n",
       "    }\n",
       "\n",
       "    .dataframe tbody tr th {\n",
       "        vertical-align: top;\n",
       "    }\n",
       "\n",
       "    .dataframe thead th {\n",
       "        text-align: right;\n",
       "    }\n",
       "</style>\n",
       "<table border=\"1\" class=\"dataframe\">\n",
       "  <thead>\n",
       "    <tr style=\"text-align: right;\">\n",
       "      <th></th>\n",
       "      <th>istanbul</th>\n",
       "      <th>ankara</th>\n",
       "      <th>izmir</th>\n",
       "      <th>adana</th>\n",
       "    </tr>\n",
       "  </thead>\n",
       "  <tbody>\n",
       "    <tr>\n",
       "      <th>pz</th>\n",
       "      <td>30.0</td>\n",
       "      <td>20.0</td>\n",
       "      <td>40</td>\n",
       "      <td>NaN</td>\n",
       "    </tr>\n",
       "    <tr>\n",
       "      <th>pzt</th>\n",
       "      <td>29.0</td>\n",
       "      <td>NaN</td>\n",
       "      <td>39</td>\n",
       "      <td>NaN</td>\n",
       "    </tr>\n",
       "    <tr>\n",
       "      <th>sl</th>\n",
       "      <td>NaN</td>\n",
       "      <td>25.0</td>\n",
       "      <td>38</td>\n",
       "      <td>50.0</td>\n",
       "    </tr>\n",
       "  </tbody>\n",
       "</table>\n",
       "</div>"
      ],
      "text/plain": [
       "     istanbul  ankara  izmir  adana\n",
       "pz       30.0    20.0     40    NaN\n",
       "pzt      29.0     NaN     39    NaN\n",
       "sl        NaN    25.0     38   50.0"
      ]
     },
     "execution_count": 136,
     "metadata": {},
     "output_type": "execute_result"
    }
   ],
   "source": [
    "hava_durumu_dataFrame\n"
   ]
  },
  {
   "cell_type": "code",
   "execution_count": 137,
   "id": "800467d5",
   "metadata": {},
   "outputs": [
    {
     "data": {
      "text/html": [
       "<div>\n",
       "<style scoped>\n",
       "    .dataframe tbody tr th:only-of-type {\n",
       "        vertical-align: middle;\n",
       "    }\n",
       "\n",
       "    .dataframe tbody tr th {\n",
       "        vertical-align: top;\n",
       "    }\n",
       "\n",
       "    .dataframe thead th {\n",
       "        text-align: right;\n",
       "    }\n",
       "</style>\n",
       "<table border=\"1\" class=\"dataframe\">\n",
       "  <thead>\n",
       "    <tr style=\"text-align: right;\">\n",
       "      <th></th>\n",
       "      <th>istanbul</th>\n",
       "      <th>ankara</th>\n",
       "      <th>izmir</th>\n",
       "      <th>adana</th>\n",
       "    </tr>\n",
       "  </thead>\n",
       "  <tbody>\n",
       "  </tbody>\n",
       "</table>\n",
       "</div>"
      ],
      "text/plain": [
       "Empty DataFrame\n",
       "Columns: [istanbul, ankara, izmir, adana]\n",
       "Index: []"
      ]
     },
     "execution_count": 137,
     "metadata": {},
     "output_type": "execute_result"
    }
   ],
   "source": [
    "hava_durumu_dataFrame.dropna()\n",
    "#nan bulundugu yerleri siliyor"
   ]
  },
  {
   "cell_type": "code",
   "execution_count": 138,
   "id": "9843ae0e",
   "metadata": {},
   "outputs": [
    {
     "data": {
      "text/html": [
       "<div>\n",
       "<style scoped>\n",
       "    .dataframe tbody tr th:only-of-type {\n",
       "        vertical-align: middle;\n",
       "    }\n",
       "\n",
       "    .dataframe tbody tr th {\n",
       "        vertical-align: top;\n",
       "    }\n",
       "\n",
       "    .dataframe thead th {\n",
       "        text-align: right;\n",
       "    }\n",
       "</style>\n",
       "<table border=\"1\" class=\"dataframe\">\n",
       "  <thead>\n",
       "    <tr style=\"text-align: right;\">\n",
       "      <th></th>\n",
       "      <th>istanbul</th>\n",
       "      <th>ankara</th>\n",
       "      <th>izmir</th>\n",
       "    </tr>\n",
       "  </thead>\n",
       "  <tbody>\n",
       "    <tr>\n",
       "      <th>pz</th>\n",
       "      <td>30.0</td>\n",
       "      <td>20.0</td>\n",
       "      <td>40</td>\n",
       "    </tr>\n",
       "    <tr>\n",
       "      <th>pzt</th>\n",
       "      <td>29.0</td>\n",
       "      <td>NaN</td>\n",
       "      <td>39</td>\n",
       "    </tr>\n",
       "    <tr>\n",
       "      <th>sl</th>\n",
       "      <td>NaN</td>\n",
       "      <td>25.0</td>\n",
       "      <td>38</td>\n",
       "    </tr>\n",
       "  </tbody>\n",
       "</table>\n",
       "</div>"
      ],
      "text/plain": [
       "     istanbul  ankara  izmir\n",
       "pz       30.0    20.0     40\n",
       "pzt      29.0     NaN     39\n",
       "sl        NaN    25.0     38"
      ]
     },
     "execution_count": 138,
     "metadata": {},
     "output_type": "execute_result"
    }
   ],
   "source": [
    "#eger sutunlar uzerine yapmak istesek\n",
    "hava_durumu_dataFrame.dropna(axis =1,thresh=2)\n",
    "#tresh kac tane nan oldugu zaman sileyim\n",
    "#  ;yani sinir (sart) ve uzeri siliyor"
   ]
  },
  {
   "cell_type": "code",
   "execution_count": 139,
   "id": "bf3fc962",
   "metadata": {},
   "outputs": [
    {
     "data": {
      "text/html": [
       "<div>\n",
       "<style scoped>\n",
       "    .dataframe tbody tr th:only-of-type {\n",
       "        vertical-align: middle;\n",
       "    }\n",
       "\n",
       "    .dataframe tbody tr th {\n",
       "        vertical-align: top;\n",
       "    }\n",
       "\n",
       "    .dataframe thead th {\n",
       "        text-align: right;\n",
       "    }\n",
       "</style>\n",
       "<table border=\"1\" class=\"dataframe\">\n",
       "  <thead>\n",
       "    <tr style=\"text-align: right;\">\n",
       "      <th></th>\n",
       "      <th>istanbul</th>\n",
       "      <th>ankara</th>\n",
       "      <th>izmir</th>\n",
       "      <th>adana</th>\n",
       "    </tr>\n",
       "  </thead>\n",
       "  <tbody>\n",
       "    <tr>\n",
       "      <th>pz</th>\n",
       "      <td>30.0</td>\n",
       "      <td>20.0</td>\n",
       "      <td>40</td>\n",
       "      <td>NaN</td>\n",
       "    </tr>\n",
       "    <tr>\n",
       "      <th>pzt</th>\n",
       "      <td>29.0</td>\n",
       "      <td>NaN</td>\n",
       "      <td>39</td>\n",
       "      <td>NaN</td>\n",
       "    </tr>\n",
       "    <tr>\n",
       "      <th>sl</th>\n",
       "      <td>NaN</td>\n",
       "      <td>25.0</td>\n",
       "      <td>38</td>\n",
       "      <td>50.0</td>\n",
       "    </tr>\n",
       "  </tbody>\n",
       "</table>\n",
       "</div>"
      ],
      "text/plain": [
       "     istanbul  ankara  izmir  adana\n",
       "pz       30.0    20.0     40    NaN\n",
       "pzt      29.0     NaN     39    NaN\n",
       "sl        NaN    25.0     38   50.0"
      ]
     },
     "execution_count": 139,
     "metadata": {},
     "output_type": "execute_result"
    }
   ],
   "source": [
    "hava_durumu_dataFrame"
   ]
  },
  {
   "cell_type": "code",
   "execution_count": 140,
   "id": "7a106cb9",
   "metadata": {},
   "outputs": [
    {
     "data": {
      "text/html": [
       "<div>\n",
       "<style scoped>\n",
       "    .dataframe tbody tr th:only-of-type {\n",
       "        vertical-align: middle;\n",
       "    }\n",
       "\n",
       "    .dataframe tbody tr th {\n",
       "        vertical-align: top;\n",
       "    }\n",
       "\n",
       "    .dataframe thead th {\n",
       "        text-align: right;\n",
       "    }\n",
       "</style>\n",
       "<table border=\"1\" class=\"dataframe\">\n",
       "  <thead>\n",
       "    <tr style=\"text-align: right;\">\n",
       "      <th></th>\n",
       "      <th>istanbul</th>\n",
       "      <th>ankara</th>\n",
       "      <th>izmir</th>\n",
       "      <th>adana</th>\n",
       "    </tr>\n",
       "  </thead>\n",
       "  <tbody>\n",
       "  </tbody>\n",
       "</table>\n",
       "</div>"
      ],
      "text/plain": [
       "Empty DataFrame\n",
       "Columns: [istanbul, ankara, izmir, adana]\n",
       "Index: []"
      ]
     },
     "execution_count": 140,
     "metadata": {},
     "output_type": "execute_result"
    }
   ],
   "source": [
    "hava_durumu_dataFrame.dropna()"
   ]
  },
  {
   "cell_type": "code",
   "execution_count": 141,
   "id": "1100968a",
   "metadata": {},
   "outputs": [
    {
     "data": {
      "text/html": [
       "<div>\n",
       "<style scoped>\n",
       "    .dataframe tbody tr th:only-of-type {\n",
       "        vertical-align: middle;\n",
       "    }\n",
       "\n",
       "    .dataframe tbody tr th {\n",
       "        vertical-align: top;\n",
       "    }\n",
       "\n",
       "    .dataframe thead th {\n",
       "        text-align: right;\n",
       "    }\n",
       "</style>\n",
       "<table border=\"1\" class=\"dataframe\">\n",
       "  <thead>\n",
       "    <tr style=\"text-align: right;\">\n",
       "      <th></th>\n",
       "      <th>istanbul</th>\n",
       "      <th>ankara</th>\n",
       "      <th>izmir</th>\n",
       "      <th>adana</th>\n",
       "    </tr>\n",
       "  </thead>\n",
       "  <tbody>\n",
       "    <tr>\n",
       "      <th>pz</th>\n",
       "      <td>30.0</td>\n",
       "      <td>20.0</td>\n",
       "      <td>40</td>\n",
       "      <td>10.0</td>\n",
       "    </tr>\n",
       "    <tr>\n",
       "      <th>pzt</th>\n",
       "      <td>29.0</td>\n",
       "      <td>10.0</td>\n",
       "      <td>39</td>\n",
       "      <td>10.0</td>\n",
       "    </tr>\n",
       "    <tr>\n",
       "      <th>sl</th>\n",
       "      <td>10.0</td>\n",
       "      <td>25.0</td>\n",
       "      <td>38</td>\n",
       "      <td>50.0</td>\n",
       "    </tr>\n",
       "  </tbody>\n",
       "</table>\n",
       "</div>"
      ],
      "text/plain": [
       "     istanbul  ankara  izmir  adana\n",
       "pz       30.0    20.0     40   10.0\n",
       "pzt      29.0    10.0     39   10.0\n",
       "sl       10.0    25.0     38   50.0"
      ]
     },
     "execution_count": 141,
     "metadata": {},
     "output_type": "execute_result"
    }
   ],
   "source": [
    "hava_durumu_dataFrame.fillna(10)\n",
    "#nan oldugu yerler doldurmak icin"
   ]
  },
  {
   "attachments": {},
   "cell_type": "markdown",
   "id": "6fa4f1b9",
   "metadata": {},
   "source": [
    "### groupby"
   ]
  },
  {
   "cell_type": "code",
   "execution_count": 142,
   "id": "0ddd1469",
   "metadata": {},
   "outputs": [],
   "source": [
    "verim={\"departman\":\n",
    "       [\"yazilim\",\"hukuk\",\"yazilim\",\"finans\",\"finans\"\n",
    "        ,\"yazilim\",\"hukuk\"],\n",
    "        \n",
    "        \"calisan\":\n",
    "        [\"ahmet\",\"mehmet\",\"udey\",\"atil\",\"ubey\"\n",
    "         ,\"zeynep\",\"cuvan\"],\n",
    "\n",
    "         \"maas\":\n",
    "         [190,555,555,399,599,709,499]}"
   ]
  },
  {
   "cell_type": "code",
   "execution_count": 143,
   "id": "38a8eba4",
   "metadata": {},
   "outputs": [],
   "source": [
    "veri_dataFrame=pd.DataFrame(verim)"
   ]
  },
  {
   "cell_type": "code",
   "execution_count": 144,
   "id": "88e69630",
   "metadata": {},
   "outputs": [
    {
     "data": {
      "text/html": [
       "<div>\n",
       "<style scoped>\n",
       "    .dataframe tbody tr th:only-of-type {\n",
       "        vertical-align: middle;\n",
       "    }\n",
       "\n",
       "    .dataframe tbody tr th {\n",
       "        vertical-align: top;\n",
       "    }\n",
       "\n",
       "    .dataframe thead th {\n",
       "        text-align: right;\n",
       "    }\n",
       "</style>\n",
       "<table border=\"1\" class=\"dataframe\">\n",
       "  <thead>\n",
       "    <tr style=\"text-align: right;\">\n",
       "      <th></th>\n",
       "      <th>departman</th>\n",
       "      <th>calisan</th>\n",
       "      <th>maas</th>\n",
       "    </tr>\n",
       "  </thead>\n",
       "  <tbody>\n",
       "    <tr>\n",
       "      <th>0</th>\n",
       "      <td>yazilim</td>\n",
       "      <td>ahmet</td>\n",
       "      <td>190</td>\n",
       "    </tr>\n",
       "    <tr>\n",
       "      <th>1</th>\n",
       "      <td>hukuk</td>\n",
       "      <td>mehmet</td>\n",
       "      <td>555</td>\n",
       "    </tr>\n",
       "    <tr>\n",
       "      <th>2</th>\n",
       "      <td>yazilim</td>\n",
       "      <td>udey</td>\n",
       "      <td>555</td>\n",
       "    </tr>\n",
       "    <tr>\n",
       "      <th>3</th>\n",
       "      <td>finans</td>\n",
       "      <td>atil</td>\n",
       "      <td>399</td>\n",
       "    </tr>\n",
       "    <tr>\n",
       "      <th>4</th>\n",
       "      <td>finans</td>\n",
       "      <td>ubey</td>\n",
       "      <td>599</td>\n",
       "    </tr>\n",
       "    <tr>\n",
       "      <th>5</th>\n",
       "      <td>yazilim</td>\n",
       "      <td>zeynep</td>\n",
       "      <td>709</td>\n",
       "    </tr>\n",
       "    <tr>\n",
       "      <th>6</th>\n",
       "      <td>hukuk</td>\n",
       "      <td>cuvan</td>\n",
       "      <td>499</td>\n",
       "    </tr>\n",
       "  </tbody>\n",
       "</table>\n",
       "</div>"
      ],
      "text/plain": [
       "  departman calisan  maas\n",
       "0   yazilim   ahmet   190\n",
       "1     hukuk  mehmet   555\n",
       "2   yazilim    udey   555\n",
       "3    finans    atil   399\n",
       "4    finans    ubey   599\n",
       "5   yazilim  zeynep   709\n",
       "6     hukuk   cuvan   499"
      ]
     },
     "execution_count": 144,
     "metadata": {},
     "output_type": "execute_result"
    }
   ],
   "source": [
    "veri_dataFrame"
   ]
  },
  {
   "cell_type": "code",
   "execution_count": 145,
   "id": "f250e55b",
   "metadata": {},
   "outputs": [],
   "source": [
    "grub=veri_dataFrame.groupby(\"departman\")"
   ]
  },
  {
   "cell_type": "code",
   "execution_count": 146,
   "id": "fb918128",
   "metadata": {},
   "outputs": [
    {
     "data": {
      "text/html": [
       "<div>\n",
       "<style scoped>\n",
       "    .dataframe tbody tr th:only-of-type {\n",
       "        vertical-align: middle;\n",
       "    }\n",
       "\n",
       "    .dataframe tbody tr th {\n",
       "        vertical-align: top;\n",
       "    }\n",
       "\n",
       "    .dataframe thead th {\n",
       "        text-align: right;\n",
       "    }\n",
       "</style>\n",
       "<table border=\"1\" class=\"dataframe\">\n",
       "  <thead>\n",
       "    <tr style=\"text-align: right;\">\n",
       "      <th></th>\n",
       "      <th>calisan</th>\n",
       "      <th>maas</th>\n",
       "    </tr>\n",
       "    <tr>\n",
       "      <th>departman</th>\n",
       "      <th></th>\n",
       "      <th></th>\n",
       "    </tr>\n",
       "  </thead>\n",
       "  <tbody>\n",
       "    <tr>\n",
       "      <th>finans</th>\n",
       "      <td>2</td>\n",
       "      <td>2</td>\n",
       "    </tr>\n",
       "    <tr>\n",
       "      <th>hukuk</th>\n",
       "      <td>2</td>\n",
       "      <td>2</td>\n",
       "    </tr>\n",
       "    <tr>\n",
       "      <th>yazilim</th>\n",
       "      <td>3</td>\n",
       "      <td>3</td>\n",
       "    </tr>\n",
       "  </tbody>\n",
       "</table>\n",
       "</div>"
      ],
      "text/plain": [
       "           calisan  maas\n",
       "departman               \n",
       "finans           2     2\n",
       "hukuk            2     2\n",
       "yazilim          3     3"
      ]
     },
     "execution_count": 146,
     "metadata": {},
     "output_type": "execute_result"
    }
   ],
   "source": [
    "grub.count()"
   ]
  },
  {
   "cell_type": "code",
   "execution_count": 147,
   "id": "4da88467",
   "metadata": {},
   "outputs": [
    {
     "data": {
      "text/html": [
       "<div>\n",
       "<style scoped>\n",
       "    .dataframe tbody tr th:only-of-type {\n",
       "        vertical-align: middle;\n",
       "    }\n",
       "\n",
       "    .dataframe tbody tr th {\n",
       "        vertical-align: top;\n",
       "    }\n",
       "\n",
       "    .dataframe thead th {\n",
       "        text-align: right;\n",
       "    }\n",
       "</style>\n",
       "<table border=\"1\" class=\"dataframe\">\n",
       "  <thead>\n",
       "    <tr style=\"text-align: right;\">\n",
       "      <th></th>\n",
       "      <th>calisan</th>\n",
       "      <th>maas</th>\n",
       "    </tr>\n",
       "    <tr>\n",
       "      <th>departman</th>\n",
       "      <th></th>\n",
       "      <th></th>\n",
       "    </tr>\n",
       "  </thead>\n",
       "  <tbody>\n",
       "    <tr>\n",
       "      <th>finans</th>\n",
       "      <td>atil</td>\n",
       "      <td>399</td>\n",
       "    </tr>\n",
       "    <tr>\n",
       "      <th>hukuk</th>\n",
       "      <td>cuvan</td>\n",
       "      <td>499</td>\n",
       "    </tr>\n",
       "    <tr>\n",
       "      <th>yazilim</th>\n",
       "      <td>ahmet</td>\n",
       "      <td>190</td>\n",
       "    </tr>\n",
       "  </tbody>\n",
       "</table>\n",
       "</div>"
      ],
      "text/plain": [
       "          calisan  maas\n",
       "departman              \n",
       "finans       atil   399\n",
       "hukuk       cuvan   499\n",
       "yazilim     ahmet   190"
      ]
     },
     "execution_count": 147,
     "metadata": {},
     "output_type": "execute_result"
    }
   ],
   "source": [
    "grub.min()\n",
    "## her departmanda end dusuk deger getiriyo"
   ]
  },
  {
   "cell_type": "code",
   "execution_count": 148,
   "id": "b963d647",
   "metadata": {},
   "outputs": [
    {
     "name": "stdout",
     "output_type": "stream",
     "text": [
      "          calisan  maas\n",
      "departman              \n",
      "finans       ubey   599\n",
      "hukuk      mehmet   555\n",
      "yazilim    zeynep   709\n"
     ]
    }
   ],
   "source": [
    "print(grub.max())"
   ]
  },
  {
   "cell_type": "code",
   "execution_count": 149,
   "id": "bd7ba78d",
   "metadata": {},
   "outputs": [
    {
     "data": {
      "text/html": [
       "<div>\n",
       "<style scoped>\n",
       "    .dataframe tbody tr th:only-of-type {\n",
       "        vertical-align: middle;\n",
       "    }\n",
       "\n",
       "    .dataframe tbody tr th {\n",
       "        vertical-align: top;\n",
       "    }\n",
       "\n",
       "    .dataframe thead tr th {\n",
       "        text-align: left;\n",
       "    }\n",
       "\n",
       "    .dataframe thead tr:last-of-type th {\n",
       "        text-align: right;\n",
       "    }\n",
       "</style>\n",
       "<table border=\"1\" class=\"dataframe\">\n",
       "  <thead>\n",
       "    <tr>\n",
       "      <th></th>\n",
       "      <th colspan=\"8\" halign=\"left\">maas</th>\n",
       "    </tr>\n",
       "    <tr>\n",
       "      <th></th>\n",
       "      <th>count</th>\n",
       "      <th>mean</th>\n",
       "      <th>std</th>\n",
       "      <th>min</th>\n",
       "      <th>25%</th>\n",
       "      <th>50%</th>\n",
       "      <th>75%</th>\n",
       "      <th>max</th>\n",
       "    </tr>\n",
       "    <tr>\n",
       "      <th>departman</th>\n",
       "      <th></th>\n",
       "      <th></th>\n",
       "      <th></th>\n",
       "      <th></th>\n",
       "      <th></th>\n",
       "      <th></th>\n",
       "      <th></th>\n",
       "      <th></th>\n",
       "    </tr>\n",
       "  </thead>\n",
       "  <tbody>\n",
       "    <tr>\n",
       "      <th>finans</th>\n",
       "      <td>2.0</td>\n",
       "      <td>499.000000</td>\n",
       "      <td>141.421356</td>\n",
       "      <td>399.0</td>\n",
       "      <td>449.0</td>\n",
       "      <td>499.0</td>\n",
       "      <td>549.0</td>\n",
       "      <td>599.0</td>\n",
       "    </tr>\n",
       "    <tr>\n",
       "      <th>hukuk</th>\n",
       "      <td>2.0</td>\n",
       "      <td>527.000000</td>\n",
       "      <td>39.597980</td>\n",
       "      <td>499.0</td>\n",
       "      <td>513.0</td>\n",
       "      <td>527.0</td>\n",
       "      <td>541.0</td>\n",
       "      <td>555.0</td>\n",
       "    </tr>\n",
       "    <tr>\n",
       "      <th>yazilim</th>\n",
       "      <td>3.0</td>\n",
       "      <td>484.666667</td>\n",
       "      <td>266.552684</td>\n",
       "      <td>190.0</td>\n",
       "      <td>372.5</td>\n",
       "      <td>555.0</td>\n",
       "      <td>632.0</td>\n",
       "      <td>709.0</td>\n",
       "    </tr>\n",
       "  </tbody>\n",
       "</table>\n",
       "</div>"
      ],
      "text/plain": [
       "           maas                                                           \n",
       "          count        mean         std    min    25%    50%    75%    max\n",
       "departman                                                                 \n",
       "finans      2.0  499.000000  141.421356  399.0  449.0  499.0  549.0  599.0\n",
       "hukuk       2.0  527.000000   39.597980  499.0  513.0  527.0  541.0  555.0\n",
       "yazilim     3.0  484.666667  266.552684  190.0  372.5  555.0  632.0  709.0"
      ]
     },
     "execution_count": 149,
     "metadata": {},
     "output_type": "execute_result"
    }
   ],
   "source": [
    "grub.describe()## tum detay lari getirir "
   ]
  },
  {
   "attachments": {},
   "cell_type": "markdown",
   "id": "d9fcf96a",
   "metadata": {},
   "source": [
    "###  Concate"
   ]
  },
  {
   "cell_type": "code",
   "execution_count": 150,
   "id": "64d12b0b",
   "metadata": {},
   "outputs": [],
   "source": [
    "verim1={\"departman\":[\"yazilim\",\"hukuk\",\"yazilim\"]\n",
    "        ,\"calisan\":[\"ahmet\",\"mehmet\",\"udey\"]\n",
    "        ,\"maas\":[190,270,555]}"
   ]
  },
  {
   "cell_type": "code",
   "execution_count": 151,
   "id": "e3a19726",
   "metadata": {},
   "outputs": [],
   "source": [
    "verim2 ={\"departman\":[\"finans\",\"finans\",\"yazilim\",\"hukuk\"]\n",
    "         ,\"calisan\":[\"atil\",\"ubey\",\"zeynep\",\"cuvan\"]\n",
    "         ,\"maas\":[399,599,555,499]}"
   ]
  },
  {
   "cell_type": "code",
   "execution_count": 152,
   "id": "6d349e70",
   "metadata": {},
   "outputs": [],
   "source": [
    "verim1_dataFrame=pd.DataFrame(verim1,[0,1,2])"
   ]
  },
  {
   "cell_type": "code",
   "execution_count": 153,
   "id": "5d960299",
   "metadata": {},
   "outputs": [],
   "source": [
    "verim2_dataFrame=pd.DataFrame(verim2,[3,4,5,6])"
   ]
  },
  {
   "cell_type": "code",
   "execution_count": 154,
   "id": "8160d50b",
   "metadata": {},
   "outputs": [
    {
     "data": {
      "text/html": [
       "<div>\n",
       "<style scoped>\n",
       "    .dataframe tbody tr th:only-of-type {\n",
       "        vertical-align: middle;\n",
       "    }\n",
       "\n",
       "    .dataframe tbody tr th {\n",
       "        vertical-align: top;\n",
       "    }\n",
       "\n",
       "    .dataframe thead th {\n",
       "        text-align: right;\n",
       "    }\n",
       "</style>\n",
       "<table border=\"1\" class=\"dataframe\">\n",
       "  <thead>\n",
       "    <tr style=\"text-align: right;\">\n",
       "      <th></th>\n",
       "      <th>departman</th>\n",
       "      <th>calisan</th>\n",
       "      <th>maas</th>\n",
       "    </tr>\n",
       "  </thead>\n",
       "  <tbody>\n",
       "    <tr>\n",
       "      <th>0</th>\n",
       "      <td>yazilim</td>\n",
       "      <td>ahmet</td>\n",
       "      <td>190</td>\n",
       "    </tr>\n",
       "    <tr>\n",
       "      <th>1</th>\n",
       "      <td>hukuk</td>\n",
       "      <td>mehmet</td>\n",
       "      <td>270</td>\n",
       "    </tr>\n",
       "    <tr>\n",
       "      <th>2</th>\n",
       "      <td>yazilim</td>\n",
       "      <td>udey</td>\n",
       "      <td>555</td>\n",
       "    </tr>\n",
       "  </tbody>\n",
       "</table>\n",
       "</div>"
      ],
      "text/plain": [
       "  departman calisan  maas\n",
       "0   yazilim   ahmet   190\n",
       "1     hukuk  mehmet   270\n",
       "2   yazilim    udey   555"
      ]
     },
     "execution_count": 154,
     "metadata": {},
     "output_type": "execute_result"
    }
   ],
   "source": [
    "verim1_dataFrame"
   ]
  },
  {
   "cell_type": "code",
   "execution_count": 155,
   "id": "18043ed6",
   "metadata": {},
   "outputs": [
    {
     "data": {
      "text/html": [
       "<div>\n",
       "<style scoped>\n",
       "    .dataframe tbody tr th:only-of-type {\n",
       "        vertical-align: middle;\n",
       "    }\n",
       "\n",
       "    .dataframe tbody tr th {\n",
       "        vertical-align: top;\n",
       "    }\n",
       "\n",
       "    .dataframe thead th {\n",
       "        text-align: right;\n",
       "    }\n",
       "</style>\n",
       "<table border=\"1\" class=\"dataframe\">\n",
       "  <thead>\n",
       "    <tr style=\"text-align: right;\">\n",
       "      <th></th>\n",
       "      <th>departman</th>\n",
       "      <th>calisan</th>\n",
       "      <th>maas</th>\n",
       "    </tr>\n",
       "  </thead>\n",
       "  <tbody>\n",
       "    <tr>\n",
       "      <th>3</th>\n",
       "      <td>finans</td>\n",
       "      <td>atil</td>\n",
       "      <td>399</td>\n",
       "    </tr>\n",
       "    <tr>\n",
       "      <th>4</th>\n",
       "      <td>finans</td>\n",
       "      <td>ubey</td>\n",
       "      <td>599</td>\n",
       "    </tr>\n",
       "    <tr>\n",
       "      <th>5</th>\n",
       "      <td>yazilim</td>\n",
       "      <td>zeynep</td>\n",
       "      <td>555</td>\n",
       "    </tr>\n",
       "    <tr>\n",
       "      <th>6</th>\n",
       "      <td>hukuk</td>\n",
       "      <td>cuvan</td>\n",
       "      <td>499</td>\n",
       "    </tr>\n",
       "  </tbody>\n",
       "</table>\n",
       "</div>"
      ],
      "text/plain": [
       "  departman calisan  maas\n",
       "3    finans    atil   399\n",
       "4    finans    ubey   599\n",
       "5   yazilim  zeynep   555\n",
       "6     hukuk   cuvan   499"
      ]
     },
     "execution_count": 155,
     "metadata": {},
     "output_type": "execute_result"
    }
   ],
   "source": [
    "verim2_dataFrame"
   ]
  },
  {
   "cell_type": "code",
   "execution_count": 156,
   "id": "d2427c01",
   "metadata": {},
   "outputs": [],
   "source": [
    "grub3=pd.concat([verim1_dataFrame,verim2_dataFrame])"
   ]
  },
  {
   "cell_type": "code",
   "execution_count": 157,
   "id": "fc430c85",
   "metadata": {},
   "outputs": [
    {
     "data": {
      "text/html": [
       "<div>\n",
       "<style scoped>\n",
       "    .dataframe tbody tr th:only-of-type {\n",
       "        vertical-align: middle;\n",
       "    }\n",
       "\n",
       "    .dataframe tbody tr th {\n",
       "        vertical-align: top;\n",
       "    }\n",
       "\n",
       "    .dataframe thead th {\n",
       "        text-align: right;\n",
       "    }\n",
       "</style>\n",
       "<table border=\"1\" class=\"dataframe\">\n",
       "  <thead>\n",
       "    <tr style=\"text-align: right;\">\n",
       "      <th></th>\n",
       "      <th>departman</th>\n",
       "      <th>calisan</th>\n",
       "      <th>maas</th>\n",
       "    </tr>\n",
       "  </thead>\n",
       "  <tbody>\n",
       "    <tr>\n",
       "      <th>0</th>\n",
       "      <td>yazilim</td>\n",
       "      <td>ahmet</td>\n",
       "      <td>190</td>\n",
       "    </tr>\n",
       "    <tr>\n",
       "      <th>1</th>\n",
       "      <td>hukuk</td>\n",
       "      <td>mehmet</td>\n",
       "      <td>270</td>\n",
       "    </tr>\n",
       "    <tr>\n",
       "      <th>2</th>\n",
       "      <td>yazilim</td>\n",
       "      <td>udey</td>\n",
       "      <td>555</td>\n",
       "    </tr>\n",
       "    <tr>\n",
       "      <th>3</th>\n",
       "      <td>finans</td>\n",
       "      <td>atil</td>\n",
       "      <td>399</td>\n",
       "    </tr>\n",
       "    <tr>\n",
       "      <th>4</th>\n",
       "      <td>finans</td>\n",
       "      <td>ubey</td>\n",
       "      <td>599</td>\n",
       "    </tr>\n",
       "    <tr>\n",
       "      <th>5</th>\n",
       "      <td>yazilim</td>\n",
       "      <td>zeynep</td>\n",
       "      <td>555</td>\n",
       "    </tr>\n",
       "    <tr>\n",
       "      <th>6</th>\n",
       "      <td>hukuk</td>\n",
       "      <td>cuvan</td>\n",
       "      <td>499</td>\n",
       "    </tr>\n",
       "  </tbody>\n",
       "</table>\n",
       "</div>"
      ],
      "text/plain": [
       "  departman calisan  maas\n",
       "0   yazilim   ahmet   190\n",
       "1     hukuk  mehmet   270\n",
       "2   yazilim    udey   555\n",
       "3    finans    atil   399\n",
       "4    finans    ubey   599\n",
       "5   yazilim  zeynep   555\n",
       "6     hukuk   cuvan   499"
      ]
     },
     "execution_count": 157,
     "metadata": {},
     "output_type": "execute_result"
    }
   ],
   "source": [
    "grub3"
   ]
  },
  {
   "cell_type": "code",
   "execution_count": 158,
   "id": "d2d32f7c",
   "metadata": {},
   "outputs": [
    {
     "data": {
      "text/plain": [
       "departman    hukuk\n",
       "calisan      cuvan\n",
       "maas           499\n",
       "Name: 6, dtype: object"
      ]
     },
     "execution_count": 158,
     "metadata": {},
     "output_type": "execute_result"
    }
   ],
   "source": [
    "grub3.loc[6]"
   ]
  },
  {
   "cell_type": "code",
   "execution_count": 159,
   "id": "82b39a96",
   "metadata": {},
   "outputs": [
    {
     "data": {
      "text/plain": [
       "0    yazilim\n",
       "1      hukuk\n",
       "2    yazilim\n",
       "3     finans\n",
       "4     finans\n",
       "5    yazilim\n",
       "6      hukuk\n",
       "Name: departman, dtype: object"
      ]
     },
     "execution_count": 159,
     "metadata": {},
     "output_type": "execute_result"
    }
   ],
   "source": [
    "grub3[\"departman\"]"
   ]
  },
  {
   "cell_type": "code",
   "execution_count": 160,
   "id": "f87131da",
   "metadata": {},
   "outputs": [
    {
     "data": {
      "text/plain": [
       "499"
      ]
     },
     "execution_count": 160,
     "metadata": {},
     "output_type": "execute_result"
    }
   ],
   "source": [
    "grub3.loc[6][\"maas\"]"
   ]
  },
  {
   "cell_type": "code",
   "execution_count": 161,
   "id": "6d4b0832",
   "metadata": {},
   "outputs": [
    {
     "data": {
      "text/html": [
       "<div>\n",
       "<style scoped>\n",
       "    .dataframe tbody tr th:only-of-type {\n",
       "        vertical-align: middle;\n",
       "    }\n",
       "\n",
       "    .dataframe tbody tr th {\n",
       "        vertical-align: top;\n",
       "    }\n",
       "\n",
       "    .dataframe thead th {\n",
       "        text-align: right;\n",
       "    }\n",
       "</style>\n",
       "<table border=\"1\" class=\"dataframe\">\n",
       "  <thead>\n",
       "    <tr style=\"text-align: right;\">\n",
       "      <th></th>\n",
       "      <th>departman</th>\n",
       "      <th>maas</th>\n",
       "    </tr>\n",
       "    <tr>\n",
       "      <th>calisan</th>\n",
       "      <th></th>\n",
       "      <th></th>\n",
       "    </tr>\n",
       "  </thead>\n",
       "  <tbody>\n",
       "    <tr>\n",
       "      <th>ahmet</th>\n",
       "      <td>yazilim</td>\n",
       "      <td>190</td>\n",
       "    </tr>\n",
       "    <tr>\n",
       "      <th>mehmet</th>\n",
       "      <td>hukuk</td>\n",
       "      <td>270</td>\n",
       "    </tr>\n",
       "    <tr>\n",
       "      <th>udey</th>\n",
       "      <td>yazilim</td>\n",
       "      <td>555</td>\n",
       "    </tr>\n",
       "    <tr>\n",
       "      <th>atil</th>\n",
       "      <td>finans</td>\n",
       "      <td>399</td>\n",
       "    </tr>\n",
       "    <tr>\n",
       "      <th>ubey</th>\n",
       "      <td>finans</td>\n",
       "      <td>599</td>\n",
       "    </tr>\n",
       "    <tr>\n",
       "      <th>zeynep</th>\n",
       "      <td>yazilim</td>\n",
       "      <td>555</td>\n",
       "    </tr>\n",
       "    <tr>\n",
       "      <th>cuvan</th>\n",
       "      <td>hukuk</td>\n",
       "      <td>499</td>\n",
       "    </tr>\n",
       "  </tbody>\n",
       "</table>\n",
       "</div>"
      ],
      "text/plain": [
       "        departman  maas\n",
       "calisan                \n",
       "ahmet     yazilim   190\n",
       "mehmet      hukuk   270\n",
       "udey      yazilim   555\n",
       "atil       finans   399\n",
       "ubey       finans   599\n",
       "zeynep    yazilim   555\n",
       "cuvan       hukuk   499"
      ]
     },
     "execution_count": 161,
     "metadata": {},
     "output_type": "execute_result"
    }
   ],
   "source": [
    "grub3.set_index(\"calisan\")"
   ]
  },
  {
   "cell_type": "code",
   "execution_count": 162,
   "id": "fffc8002",
   "metadata": {},
   "outputs": [
    {
     "data": {
      "text/plain": [
       "departman  calisan  maas\n",
       "finans     atil     399     1\n",
       "           ubey     599     1\n",
       "hukuk      cuvan    499     1\n",
       "           mehmet   270     1\n",
       "yazilim    ahmet    190     1\n",
       "           udey     555     1\n",
       "           zeynep   555     1\n",
       "dtype: int64"
      ]
     },
     "execution_count": 162,
     "metadata": {},
     "output_type": "execute_result"
    }
   ],
   "source": [
    "grub3.value_counts()"
   ]
  },
  {
   "cell_type": "code",
   "execution_count": 163,
   "id": "83de065e",
   "metadata": {},
   "outputs": [
    {
     "ename": "TypeError",
     "evalue": "'FrozenList' object is not callable",
     "output_type": "error",
     "traceback": [
      "\u001b[1;31m---------------------------------------------------------------------------\u001b[0m",
      "\u001b[1;31mTypeError\u001b[0m                                 Traceback (most recent call last)",
      "\u001b[1;32md:\\Programming_learning'\\Python_Learning\\Jupyter_NoteBook\\pandas_operations.ipynb Cell 33\u001b[0m in \u001b[0;36m<cell line: 1>\u001b[1;34m()\u001b[0m\n\u001b[1;32m----> <a href='vscode-notebook-cell:/d%3A/Programming_learning%27/Python_Learning/Jupyter_NoteBook/pandas_operations.ipynb#X44sZmlsZQ%3D%3D?line=0'>1</a>\u001b[0m grub3\u001b[39m.\u001b[39;49mindex\u001b[39m.\u001b[39;49mnames(\u001b[39m\"\u001b[39;49m\u001b[39mlabel\u001b[39;49m\u001b[39m\"\u001b[39;49m)\n",
      "\u001b[1;31mTypeError\u001b[0m: 'FrozenList' object is not callable"
     ]
    }
   ],
   "source": [
    "grub3.index.names(\"label\")"
   ]
  },
  {
   "attachments": {},
   "cell_type": "markdown",
   "id": "d13a1220",
   "metadata": {},
   "source": [
    "### Merge :\n",
    "birlestirme  islemi ve bu birlestirme islemi esnasinda ortak bir nokta (column ) seciyoruz ve bu ortak column uzerinden  islemlerimizi yapiyoruz  iki yada daha fazla data frame tek'e donusturmek amacli relational database dusun burada tek column dedigimiz primary key  gibi"
   ]
  },
  {
   "cell_type": "code",
   "execution_count": 172,
   "id": "969c750f",
   "metadata": {},
   "outputs": [],
   "source": [
    "# eger birden fazla dataFrame varsa ve bu\n",
    "# dataFrameler arasinda Ortak bir sutun varsa kullanilir\n",
    "sozluk1={\"name\": [\"fadi\",\"buji\",\"nur\",\"ubey\"],\n",
    "         \"spor\":[\"fb\",\"t\",\"bb\",\"golf\"]}"
   ]
  },
  {
   "cell_type": "code",
   "execution_count": 173,
   "id": "0f1bf830",
   "metadata": {},
   "outputs": [],
   "source": [
    "sozluk2={\"name\": [\"fadi\",\"buji\",\"nur\",\"ubey\"],\n",
    "         \"kalori\":[100,200,300,400]}"
   ]
  },
  {
   "cell_type": "code",
   "execution_count": 174,
   "id": "1b93cb9f",
   "metadata": {},
   "outputs": [],
   "source": [
    "sdf1=pd.DataFrame(sozluk1)"
   ]
  },
  {
   "cell_type": "code",
   "execution_count": 175,
   "id": "20635b95",
   "metadata": {},
   "outputs": [],
   "source": [
    "sdf2=pd.DataFrame(sozluk2)"
   ]
  },
  {
   "cell_type": "code",
   "execution_count": 176,
   "id": "00218cc4",
   "metadata": {},
   "outputs": [
    {
     "data": {
      "text/html": [
       "<div>\n",
       "<style scoped>\n",
       "    .dataframe tbody tr th:only-of-type {\n",
       "        vertical-align: middle;\n",
       "    }\n",
       "\n",
       "    .dataframe tbody tr th {\n",
       "        vertical-align: top;\n",
       "    }\n",
       "\n",
       "    .dataframe thead th {\n",
       "        text-align: right;\n",
       "    }\n",
       "</style>\n",
       "<table border=\"1\" class=\"dataframe\">\n",
       "  <thead>\n",
       "    <tr style=\"text-align: right;\">\n",
       "      <th></th>\n",
       "      <th>name</th>\n",
       "      <th>spor</th>\n",
       "    </tr>\n",
       "  </thead>\n",
       "  <tbody>\n",
       "    <tr>\n",
       "      <th>0</th>\n",
       "      <td>fadi</td>\n",
       "      <td>fb</td>\n",
       "    </tr>\n",
       "    <tr>\n",
       "      <th>1</th>\n",
       "      <td>buji</td>\n",
       "      <td>t</td>\n",
       "    </tr>\n",
       "    <tr>\n",
       "      <th>2</th>\n",
       "      <td>nur</td>\n",
       "      <td>bb</td>\n",
       "    </tr>\n",
       "    <tr>\n",
       "      <th>3</th>\n",
       "      <td>ubey</td>\n",
       "      <td>golf</td>\n",
       "    </tr>\n",
       "  </tbody>\n",
       "</table>\n",
       "</div>"
      ],
      "text/plain": [
       "   name  spor\n",
       "0  fadi    fb\n",
       "1  buji     t\n",
       "2   nur    bb\n",
       "3  ubey  golf"
      ]
     },
     "execution_count": 176,
     "metadata": {},
     "output_type": "execute_result"
    }
   ],
   "source": [
    "sdf1"
   ]
  },
  {
   "cell_type": "code",
   "execution_count": 177,
   "id": "f8b89bb0",
   "metadata": {},
   "outputs": [
    {
     "data": {
      "text/html": [
       "<div>\n",
       "<style scoped>\n",
       "    .dataframe tbody tr th:only-of-type {\n",
       "        vertical-align: middle;\n",
       "    }\n",
       "\n",
       "    .dataframe tbody tr th {\n",
       "        vertical-align: top;\n",
       "    }\n",
       "\n",
       "    .dataframe thead th {\n",
       "        text-align: right;\n",
       "    }\n",
       "</style>\n",
       "<table border=\"1\" class=\"dataframe\">\n",
       "  <thead>\n",
       "    <tr style=\"text-align: right;\">\n",
       "      <th></th>\n",
       "      <th>name</th>\n",
       "      <th>kalori</th>\n",
       "    </tr>\n",
       "  </thead>\n",
       "  <tbody>\n",
       "    <tr>\n",
       "      <th>0</th>\n",
       "      <td>fadi</td>\n",
       "      <td>100</td>\n",
       "    </tr>\n",
       "    <tr>\n",
       "      <th>1</th>\n",
       "      <td>buji</td>\n",
       "      <td>200</td>\n",
       "    </tr>\n",
       "    <tr>\n",
       "      <th>2</th>\n",
       "      <td>nur</td>\n",
       "      <td>300</td>\n",
       "    </tr>\n",
       "    <tr>\n",
       "      <th>3</th>\n",
       "      <td>ubey</td>\n",
       "      <td>400</td>\n",
       "    </tr>\n",
       "  </tbody>\n",
       "</table>\n",
       "</div>"
      ],
      "text/plain": [
       "   name  kalori\n",
       "0  fadi     100\n",
       "1  buji     200\n",
       "2   nur     300\n",
       "3  ubey     400"
      ]
     },
     "execution_count": 177,
     "metadata": {},
     "output_type": "execute_result"
    }
   ],
   "source": [
    "sdf2"
   ]
  },
  {
   "cell_type": "code",
   "execution_count": 180,
   "id": "59ff745f",
   "metadata": {},
   "outputs": [
    {
     "data": {
      "text/html": [
       "<div>\n",
       "<style scoped>\n",
       "    .dataframe tbody tr th:only-of-type {\n",
       "        vertical-align: middle;\n",
       "    }\n",
       "\n",
       "    .dataframe tbody tr th {\n",
       "        vertical-align: top;\n",
       "    }\n",
       "\n",
       "    .dataframe thead th {\n",
       "        text-align: right;\n",
       "    }\n",
       "</style>\n",
       "<table border=\"1\" class=\"dataframe\">\n",
       "  <thead>\n",
       "    <tr style=\"text-align: right;\">\n",
       "      <th></th>\n",
       "      <th>name</th>\n",
       "      <th>spor</th>\n",
       "      <th>kalori</th>\n",
       "    </tr>\n",
       "  </thead>\n",
       "  <tbody>\n",
       "    <tr>\n",
       "      <th>0</th>\n",
       "      <td>fadi</td>\n",
       "      <td>fb</td>\n",
       "      <td>100</td>\n",
       "    </tr>\n",
       "    <tr>\n",
       "      <th>1</th>\n",
       "      <td>buji</td>\n",
       "      <td>t</td>\n",
       "      <td>200</td>\n",
       "    </tr>\n",
       "    <tr>\n",
       "      <th>2</th>\n",
       "      <td>nur</td>\n",
       "      <td>bb</td>\n",
       "      <td>300</td>\n",
       "    </tr>\n",
       "    <tr>\n",
       "      <th>3</th>\n",
       "      <td>ubey</td>\n",
       "      <td>golf</td>\n",
       "      <td>400</td>\n",
       "    </tr>\n",
       "  </tbody>\n",
       "</table>\n",
       "</div>"
      ],
      "text/plain": [
       "   name  spor  kalori\n",
       "0  fadi    fb     100\n",
       "1  buji     t     200\n",
       "2   nur    bb     300\n",
       "3  ubey  golf     400"
      ]
     },
     "execution_count": 180,
     "metadata": {},
     "output_type": "execute_result"
    }
   ],
   "source": [
    "mercmesi=pd.merge(sdf1,sdf2,on=\"name\")\n",
    "mercmesi\n"
   ]
  },
  {
   "cell_type": "code",
   "execution_count": null,
   "id": "7fec790b",
   "metadata": {},
   "outputs": [],
   "source": []
  },
  {
   "cell_type": "code",
   "execution_count": null,
   "id": "58aed5b3",
   "metadata": {},
   "outputs": [],
   "source": []
  },
  {
   "attachments": {},
   "cell_type": "markdown",
   "id": "0d37f023",
   "metadata": {},
   "source": [
    "### _Pandas İleri Operasyonlar\n"
   ]
  },
  {
   "cell_type": "code",
   "execution_count": null,
   "id": "49001189",
   "metadata": {},
   "outputs": [],
   "source": []
  },
  {
   "attachments": {},
   "cell_type": "markdown",
   "id": "bfd9739f",
   "metadata": {},
   "source": [
    "### Excell ile calisma"
   ]
  },
  {
   "cell_type": "markdown",
   "id": "a562da51",
   "metadata": {},
   "source": []
  }
 ],
 "metadata": {
  "kernelspec": {
   "display_name": "Python 3 (ipykernel)",
   "language": "python",
   "name": "python3"
  },
  "language_info": {
   "codemirror_mode": {
    "name": "ipython",
    "version": 3
   },
   "file_extension": ".py",
   "mimetype": "text/x-python",
   "name": "python",
   "nbconvert_exporter": "python",
   "pygments_lexer": "ipython3",
   "version": "3.10.8"
  }
 },
 "nbformat": 4,
 "nbformat_minor": 5
}
