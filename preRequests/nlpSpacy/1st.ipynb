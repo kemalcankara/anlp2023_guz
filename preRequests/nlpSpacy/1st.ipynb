{
 "cells": [
  {
   "cell_type": "markdown",
   "metadata": {},
   "source": [
    "**what is NLP ?** is a filed in compute science and AI that gives machines an ability to understand human language better and to assist in language related tasks \n",
    "\n",
    "\n",
    "<!-- what we should care about it here is given problem how do we solve it with the best way what ever  tools you need to use you need to use  it  \n",
    "1. datascientis speializing in nlp \n",
    "2. nlp engineering  (machine learning engineer solveing nlp )\n",
    "3.nlp reseaercher \n",
    "\n",
    "-->"
   ]
  },
  {
   "cell_type": "markdown",
   "metadata": {},
   "source": [
    "![nlpSolvingCategories](../images/nlpSolvingCategories.png)"
   ]
  },
  {
   "cell_type": "markdown",
   "metadata": {},
   "source": [
    "## [Regular Expressions](https://regex101.com/) \n",
    "RegEx : is away to finding and extraction patterns from text and use it in Basic NLP problems \n",
    "\n",
    "Regular expressions is the Rules and Heuristics approach "
   ]
  },
  {
   "cell_type": "code",
   "execution_count": 22,
   "metadata": {},
   "outputs": [
    {
     "name": "stdout",
     "output_type": "stream",
     "text": [
      "['1238567890']\n",
      "['(123)-456-7890']\n"
     ]
    }
   ],
   "source": [
    "import re # regular expressions \n",
    "## find a number pattern inside messages \n",
    "chat1 = \" codebaics: you ask lot of questions 1234567890\"\n",
    "chat2 = \" codebaics: you ask lot of questions 1238567890\"\n",
    "chat3 = \" codebaics: you ask lot of questions (123)-456-7890\"\n",
    "pattern = \"\\d{10}\"\n",
    "match1= re.findall(pattern,chat2)\n",
    "print(match1)\n",
    "pattern2 = \"\\(\\d{3}\\)-\\d{3}-\\d{4}\"\n",
    "match2 = re.findall(pattern2,chat3)\n",
    "print(match2)"
   ]
  },
  {
   "cell_type": "code",
   "execution_count": 23,
   "metadata": {},
   "outputs": [
    {
     "name": "stdout",
     "output_type": "stream",
     "text": [
      "['a_b_s@xyz.com']\n",
      "['ab__k556965mm@xyyyyz.com']\n",
      "['ubey@gmail.com']\n",
      "____ikinci pattern _____\n",
      "['a_b_s@xyz.com']\n",
      "['ab__k556965mm@xyyyyz.com']\n",
      "['ubey@gmail.com']\n"
     ]
    }
   ],
   "source": [
    "## find email address pattern inside messages \n",
    "\n",
    "email1=\"here it is a_b_s@xyz.com\"\n",
    "email2=\" my email is ab__k556965mm@xyyyyz.com\"\n",
    "email3=\"take it ubey@gmail.com\"\n",
    "\n",
    "#now we need to create a pattern that matches these examples above \n",
    "pattern=\"[a-zA-z0-9]\\S+@[a-zA-z]+\\.com\"\n",
    "pattern2 =\"[a-z0-9A-z]*@[a-z0-9A-z]*\\.com\"\n",
    "print(re.findall(pattern,email1))\n",
    "print(re.findall(pattern,email2))\n",
    "print(re.findall(pattern,email3))\n",
    "\n",
    "print(\"____ikinci pattern _____\")\n",
    "print(re.findall(pattern2,email1))\n",
    "print(re.findall(pattern2,email2))\n",
    "print(re.findall(pattern2,email3))"
   ]
  },
  {
   "cell_type": "code",
   "execution_count": 24,
   "metadata": {},
   "outputs": [
    {
     "name": "stdout",
     "output_type": "stream",
     "text": [
      "['88996633']\n",
      "['66889966']\n"
     ]
    }
   ],
   "source": [
    "## order number matching \n",
    "chat1= \" i have been told you that the order number 88996633 is not ready yet \"\n",
    "chat2 =\" im sorry sir there is a problem in the order#66889966\"\n",
    "\n",
    "pattern = \"order.+(\\d{8})\"\n",
    "pattern2 = \"order[^\\d]*(\\d*)\"\n",
    "print(re.findall(pattern,chat1)\n",
    ")\n",
    "\n",
    "print(re.findall(pattern2,chat2))"
   ]
  },
  {
   "cell_type": "markdown",
   "metadata": {},
   "source": [
    "1. Extract all twitter handles from following text. Twitter handle is the text that appears after https://twitter.com/ and is a single word. Also it contains only alpha numeric characters i.e. A-Z a-z , o to 9 and underscore _"
   ]
  },
  {
   "cell_type": "code",
   "execution_count": 25,
   "metadata": {},
   "outputs": [
    {
     "data": {
      "text/plain": [
       "['elonmusk', 'teslarati', 'dummy_tesla', 'dummy_2_tesla']"
      ]
     },
     "execution_count": 25,
     "metadata": {},
     "output_type": "execute_result"
    }
   ],
   "source": [
    "text = '''\n",
    "Follow our leader Elon musk on twitter here: https://twitter.com/elonmusk, more information \n",
    "on Tesla's products can be found at https://www.tesla.com/. Also here are leading influencers \n",
    "for tesla related news,\n",
    "https://twitter.com/teslarati\n",
    "https://twitter.com/dummy_tesla\n",
    "https://twitter.com/dummy_2_tesla\n",
    "'''\n",
    "pattern = 'com\\/([a-zA-z0-9]+)' # todo: type your regex here\n",
    "\n",
    "re.findall(pattern, text)"
   ]
  },
  {
   "cell_type": "markdown",
   "metadata": {},
   "source": [
    "2. Extract Concentration Risk Types. It will be a text that appears after \"Concentration Risk:\", In below example, your regex should extract these two strings\n",
    "\n",
    "(1) Credit Risk\n",
    "\n",
    "(2) Supply Rish"
   ]
  },
  {
   "cell_type": "code",
   "execution_count": 26,
   "metadata": {},
   "outputs": [
    {
     "data": {
      "text/plain": [
       "['Concentration of Risk: Credit Risk', 'Concentration of Risk: Supply Risk']"
      ]
     },
     "execution_count": 26,
     "metadata": {},
     "output_type": "execute_result"
    }
   ],
   "source": [
    "text = '''\n",
    "Concentration of Risk: Credit Risk\n",
    "Financial instruments that potentially subject us to a concentration of credit risk consist of cash, cash equivalents, marketable securities,\n",
    "restricted cash, accounts receivable, convertible note hedges, and interest rate swaps. Our cash balances are primarily invested in money market funds\n",
    "or on deposit at high credit quality financial institutions in the U.S. These deposits are typically in excess of insured limits. As of September 30, 2021\n",
    "and December 31, 2020, no entity represented 10% or more of our total accounts receivable balance. The risk of concentration for our convertible note\n",
    "hedges and interest rate swaps is mitigated by transacting with several highly-rated multinational banks.\n",
    "Concentration of Risk: Supply Risk\n",
    "We are dependent on our suppliers, including single source suppliers, and the inability of these suppliers to deliver necessary components of our\n",
    "products in a timely manner at prices, quality levels and volumes acceptable to us, or our inability to efficiently manage these components from these\n",
    "suppliers, could have a material adverse effect on our business, prospects, financial condition and operating results.\n",
    "'''\n",
    "pattern = 'Concentration of Risk:\\s[a-zA-z]*\\s[a-zA-z]*' # todo: type your regex here \n",
    "\n",
    "\n",
    "re.findall(pattern, text)"
   ]
  },
  {
   "cell_type": "markdown",
   "metadata": {},
   "source": [
    "3. Companies in europe reports their financial numbers of semi annual basis and you can have a document like this. To exatract quarterly and semin annual period you can use a regex as shown below\n",
    "\n",
    "Hint: you need to use (?:) here to match everything enclosed"
   ]
  },
  {
   "cell_type": "code",
   "execution_count": 27,
   "metadata": {},
   "outputs": [
    {
     "data": {
      "text/plain": [
       "['$4.85', ' $8']"
      ]
     },
     "execution_count": 27,
     "metadata": {},
     "output_type": "execute_result"
    }
   ],
   "source": [
    "text = '''\n",
    "Tesla's gross cost of operating lease vehicles in FY2021 Q1 was $4.85 billion.\n",
    "BMW's gross cost of operating vehicles in FY2021 S1 was $8 billion.\n",
    "\n",
    "'''\n",
    "\n",
    "pattern = '(.\\d*.\\d*)\\sbillion' # todo: type your regex here\n",
    "matches = re.findall(pattern, text)\n",
    "matches"
   ]
  }
 ],
 "metadata": {
  "kernelspec": {
   "display_name": "anlp",
   "language": "python",
   "name": "python3"
  },
  "language_info": {
   "codemirror_mode": {
    "name": "ipython",
    "version": 3
   },
   "file_extension": ".py",
   "mimetype": "text/x-python",
   "name": "python",
   "nbconvert_exporter": "python",
   "pygments_lexer": "ipython3",
   "version": "3.8.8"
  }
 },
 "nbformat": 4,
 "nbformat_minor": 2
}
