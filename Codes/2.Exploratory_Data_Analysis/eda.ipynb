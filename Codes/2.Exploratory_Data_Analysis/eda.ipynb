{
 "cells": [
  {
   "cell_type": "markdown",
   "metadata": {},
   "source": []
  },
  {
   "cell_type": "markdown",
   "metadata": {},
   "source": [
    "#excel_data_all\n",
    "#excel_data_all.dtypes\n",
    "#excel_data_all.shape\n",
    "#excel_data_all.size\n",
    "#excel_data_all.columns\n",
    "#excel_data_all.describe() #kolonlar hakkinda istatistik ver\n",
    "#excel_data _all.corr()\n",
    "excel_data_all.nunique()"
   ]
  },
  {
   "cell_type": "code",
   "execution_count": null,
   "metadata": {},
   "outputs": [],
   "source": []
  }
 ],
 "metadata": {
  "language_info": {
   "name": "python"
  }
 },
 "nbformat": 4,
 "nbformat_minor": 2
}
