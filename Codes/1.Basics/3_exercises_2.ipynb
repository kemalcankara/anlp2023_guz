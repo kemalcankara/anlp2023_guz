{
 "cells": [
  {
   "cell_type": "code",
   "execution_count": 97,
   "metadata": {},
   "outputs": [],
   "source": [
    "import pandas as pd\n",
    "from bs4 import BeautifulSoup\n",
    "import nltk\n",
    "from nltk.tokenize import sent_tokenize\n",
    "from nltk import tokenize\n",
    "import string\n",
    "import regex as re"
   ]
  },
  {
   "cell_type": "code",
   "execution_count": 6,
   "metadata": {},
   "outputs": [
    {
     "data": {
      "text/html": [
       "<div>\n",
       "<style scoped>\n",
       "    .dataframe tbody tr th:only-of-type {\n",
       "        vertical-align: middle;\n",
       "    }\n",
       "\n",
       "    .dataframe tbody tr th {\n",
       "        vertical-align: top;\n",
       "    }\n",
       "\n",
       "    .dataframe thead th {\n",
       "        text-align: right;\n",
       "    }\n",
       "</style>\n",
       "<table border=\"1\" class=\"dataframe\">\n",
       "  <thead>\n",
       "    <tr style=\"text-align: right;\">\n",
       "      <th></th>\n",
       "      <th>JobRefNo</th>\n",
       "      <th>DigerPozisyon</th>\n",
       "      <th>Qualifications</th>\n",
       "      <th>Classification</th>\n",
       "    </tr>\n",
       "  </thead>\n",
       "  <tbody>\n",
       "    <tr>\n",
       "      <th>0</th>\n",
       "      <td>3464108</td>\n",
       "      <td>Bilgisayar Mühendisi</td>\n",
       "      <td>&lt;p&gt;3464105346410534641053464105346410534641053...</td>\n",
       "      <td>Bilgi Teknolojileri</td>\n",
       "    </tr>\n",
       "    <tr>\n",
       "      <th>1</th>\n",
       "      <td>3464068</td>\n",
       "      <td>Yazılım Geliştirme Elemanı</td>\n",
       "      <td>&lt;p&gt;sskjdkjsdksajl sksakjdlkajdladl dskjlksjlks...</td>\n",
       "      <td>Bilgi Teknolojileri</td>\n",
       "    </tr>\n",
       "    <tr>\n",
       "      <th>2</th>\n",
       "      <td>3464018</td>\n",
       "      <td>Grafik Tasarımcı</td>\n",
       "      <td>&lt;p&gt;Şartlar&lt;/p&gt;&lt;p&gt;08.30 - 18.30 arası mesai saa...</td>\n",
       "      <td>Bilgi Teknolojileri</td>\n",
       "    </tr>\n",
       "    <tr>\n",
       "      <th>3</th>\n",
       "      <td>3463995</td>\n",
       "      <td>Full Stack Developer</td>\n",
       "      <td>&lt;p&gt;Yeditek Yeni Dijital Teknolojiler A.Ş.&lt;/p&gt;&lt;...</td>\n",
       "      <td>Bilgi Teknolojileri</td>\n",
       "    </tr>\n",
       "    <tr>\n",
       "      <th>4</th>\n",
       "      <td>3463739</td>\n",
       "      <td>Multimedya Tasarım Uzmanı</td>\n",
       "      <td>&lt;p&gt;Türkiye'de eğitim teknolojileri alanının il...</td>\n",
       "      <td>Bilgi Teknolojileri</td>\n",
       "    </tr>\n",
       "  </tbody>\n",
       "</table>\n",
       "</div>"
      ],
      "text/plain": [
       "   JobRefNo               DigerPozisyon  \\\n",
       "0   3464108        Bilgisayar Mühendisi   \n",
       "1   3464068  Yazılım Geliştirme Elemanı   \n",
       "2   3464018            Grafik Tasarımcı   \n",
       "3   3463995        Full Stack Developer   \n",
       "4   3463739   Multimedya Tasarım Uzmanı   \n",
       "\n",
       "                                      Qualifications       Classification  \n",
       "0  <p>3464105346410534641053464105346410534641053...  Bilgi Teknolojileri  \n",
       "1  <p>sskjdkjsdksajl sksakjdlkajdladl dskjlksjlks...  Bilgi Teknolojileri  \n",
       "2  <p>Şartlar</p><p>08.30 - 18.30 arası mesai saa...  Bilgi Teknolojileri  \n",
       "3  <p>Yeditek Yeni Dijital Teknolojiler A.Ş.</p><...  Bilgi Teknolojileri  \n",
       "4  <p>Türkiye'de eğitim teknolojileri alanının il...  Bilgi Teknolojileri  "
      ]
     },
     "execution_count": 6,
     "metadata": {},
     "output_type": "execute_result"
    }
   ],
   "source": [
    "it_data = pd.read_csv('../../Data/Jobs_IT.csv')\n",
    "it_data.head()"
   ]
  },
  {
   "cell_type": "code",
   "execution_count": 7,
   "metadata": {},
   "outputs": [
    {
     "data": {
      "text/plain": [
       "(2500, 4)"
      ]
     },
     "execution_count": 7,
     "metadata": {},
     "output_type": "execute_result"
    }
   ],
   "source": [
    "it_data.shape"
   ]
  },
  {
   "cell_type": "code",
   "execution_count": 8,
   "metadata": {},
   "outputs": [
    {
     "data": {
      "text/html": [
       "<div>\n",
       "<style scoped>\n",
       "    .dataframe tbody tr th:only-of-type {\n",
       "        vertical-align: middle;\n",
       "    }\n",
       "\n",
       "    .dataframe tbody tr th {\n",
       "        vertical-align: top;\n",
       "    }\n",
       "\n",
       "    .dataframe thead th {\n",
       "        text-align: right;\n",
       "    }\n",
       "</style>\n",
       "<table border=\"1\" class=\"dataframe\">\n",
       "  <thead>\n",
       "    <tr style=\"text-align: right;\">\n",
       "      <th></th>\n",
       "      <th>JobRefNo</th>\n",
       "      <th>DigerPozisyon</th>\n",
       "      <th>Qualifications</th>\n",
       "      <th>Classification</th>\n",
       "    </tr>\n",
       "  </thead>\n",
       "  <tbody>\n",
       "    <tr>\n",
       "      <th>1057</th>\n",
       "      <td>3433076</td>\n",
       "      <td>Yazılım Geliştirme Elemanı</td>\n",
       "      <td>&lt;ul color=\"\" color=\"\"&gt;&lt;li&gt;Microsoft .Net tekno...</td>\n",
       "      <td>Bilgi Teknolojileri</td>\n",
       "    </tr>\n",
       "  </tbody>\n",
       "</table>\n",
       "</div>"
      ],
      "text/plain": [
       "      JobRefNo               DigerPozisyon  \\\n",
       "1057   3433076  Yazılım Geliştirme Elemanı   \n",
       "\n",
       "                                         Qualifications       Classification  \n",
       "1057  <ul color=\"\" color=\"\"><li>Microsoft .Net tekno...  Bilgi Teknolojileri  "
      ]
     },
     "execution_count": 8,
     "metadata": {},
     "output_type": "execute_result"
    }
   ],
   "source": [
    "it_data[(it_data['DigerPozisyon']  == 'Yazılım Geliştirme Elemanı') & (it_data['JobRefNo']  == 3433076)]"
   ]
  },
  {
   "cell_type": "code",
   "execution_count": 9,
   "metadata": {},
   "outputs": [
    {
     "data": {
      "text/plain": [
       "0                                   Bilgisayar Mühendisi\n",
       "1                             Yazılım Geliştirme Elemanı\n",
       "2                                       Grafik Tasarımcı\n",
       "3                                   Full Stack Developer\n",
       "4                              Multimedya Tasarım Uzmanı\n",
       "                              ...                       \n",
       "2495                                Bilgisayar Mühendisi\n",
       "2496    Güvenlik Çözümleri Teknoloji Danışmanı(Presales)\n",
       "2497                 Yazılım Geliştirme Birim Yöneticisi\n",
       "2498                        Full-Stack Developer (Cloud)\n",
       "2499                                    Grafik Tasarımcı\n",
       "Name: DigerPozisyon, Length: 2500, dtype: object"
      ]
     },
     "execution_count": 9,
     "metadata": {},
     "output_type": "execute_result"
    }
   ],
   "source": [
    "it_data['DigerPozisyon'] "
   ]
  },
  {
   "cell_type": "code",
   "execution_count": 10,
   "metadata": {},
   "outputs": [
    {
     "data": {
      "text/plain": [
       "Grafiker                              103\n",
       "Grafik Tasarımcı                      100\n",
       "Grafik Tasarım Uzmanı                  75\n",
       "Bilgi İşlem Uzmanı                     65\n",
       "Yazılım Geliştirme Uzmanı              53\n",
       "                                     ... \n",
       "IT Sistem Destek Uzmanı                 1\n",
       "Jun/Mid Full-Stack Developer            1\n",
       "Bayi Kanalı Yöneticisi / Yönetmeni      1\n",
       "SAP FI/CO Uzmanı                        1\n",
       "Full-Stack Developer (Cloud)            1\n",
       "Name: DigerPozisyon, Length: 1131, dtype: int64"
      ]
     },
     "execution_count": 10,
     "metadata": {},
     "output_type": "execute_result"
    }
   ],
   "source": [
    "it_data['DigerPozisyon'].value_counts()"
   ]
  },
  {
   "cell_type": "code",
   "execution_count": 11,
   "metadata": {},
   "outputs": [
    {
     "data": {
      "text/plain": [
       "'<p>GENEL NİTELİKLER VE İŞ TANIMI</p><ul type=\"disc\"><li class=\"x_MsoNormal\">Üniversitelerin Meslek Yüksek Okullarının Bilgisayar Teknolojileri veya Elektrik/Elektronik bölümlerinden mezun,</li></ul><ul type=\"disc\"><li class=\"x_MsoNormal\">Aşağıda belirtilen alanlarda en az 2 yıl deneyimli olmak üzere;</li></ul><ul type=\"disc\"><li class=\"x_MsoNormal\">En az 200 kullanıcılı bir altyapıda hizmette bulunma deneyimine sahip,</li><li class=\"x_MsoNormal\">Tercihen CCNA veya MCSE sertifikalarından birine sahip, </li><li class=\"x_MsoNormal\">Yazıcı ve network cihazlarının fiziksel kurulumları, arıza tespiti yapılması ve desteği, PC donanım, network protokolleri ve bileşenleri konusunda bilgi ve deneyim sahibi,</li><li class=\"x_MsoNormal\">Windows işletim sistemleri, MS Office vb. programları kullanabilen ve kullanıcılara destek verebilecek,</li><li class=\"x_MsoNormal\">Yeni ürün ve teknolojileri öğrenmeye istekli ve teknolojik yeniliklere kolay uyum sağlayabilen,</li><li class=\"x_MsoNormal\">Seyahat engeli olmayan, </li><li class=\"x_MsoNormal\">B sınıfı ehliyeti olan ve aktif olarak araç kullanabilen,</li><li class=\"x_MsoNormal\">İletişim becerisi yüksek ve ekip çalışmasına yatkın, </li><li class=\"x_MsoNormal\">Esnek çalışmaya uygun çalışma arkadaşı aramaktayız. </li></ul><p><br></p><p>İŞ TANIMI</p><ul type=\"disc\"><ul type=\"disc\"><li class=\"x_MsoNormal\">Bilgisayar yazılım ve donanım kurulumlarının yapılması,</li><li class=\"x_MsoNormal\">Masaüstü ve taşınabilir bilgisayarlar için teknik servis desteğinin verilmesi,</li><li class=\"x_MsoNormal\">Veri yedekleme ve veri kurtarma faaliyetlerinin gerçekleştirilmesi,</li><li class=\"x_MsoNormal\">Ağ ürünlerinin kurulumunun yapılması,</li><li class=\"x_MsoNormal\">Kullanıcı ihtiyaçları doğrultusunda çözüm üretilmesi,</li><li class=\"x_MsoNormal\">Servise giden ürünlerin takibinin yapılması faaliyetlerinde görevlendirilmek üzere çalışma arkadaşına ihtiyacımız bulunmaktadır.</li></ul></ul>'"
      ]
     },
     "execution_count": 11,
     "metadata": {},
     "output_type": "execute_result"
    }
   ],
   "source": [
    "it_data.iloc[10]['Qualifications']"
   ]
  },
  {
   "cell_type": "code",
   "execution_count": 12,
   "metadata": {},
   "outputs": [
    {
     "data": {
      "text/plain": [
       "3463478"
      ]
     },
     "execution_count": 12,
     "metadata": {},
     "output_type": "execute_result"
    }
   ],
   "source": [
    "it_data.iloc[10]['JobRefNo']"
   ]
  },
  {
   "cell_type": "code",
   "execution_count": 17,
   "metadata": {},
   "outputs": [
    {
     "data": {
      "text/plain": [
       "'GENEL NİTELİKLER VE İŞ TANIMI Üniversitelerin Meslek Yüksek Okullarının Bilgisayar Teknolojileri veya Elektrik/Elektronik bölümlerinden mezun, Aşağıda belirtilen alanlarda en az 2 yıl deneyimli olmak üzere; En az 200 kullanıcılı bir altyapıda hizmette bulunma deneyimine sahip, Tercihen CCNA veya MCSE sertifikalarından birine sahip,  Yazıcı ve network cihazlarının fiziksel kurulumları, arıza tespiti yapılması ve desteği, PC donanım, network protokolleri ve bileşenleri konusunda bilgi ve deneyim sahibi, Windows işletim sistemleri, MS Office vb. programları kullanabilen ve kullanıcılara destek verebilecek, Yeni ürün ve teknolojileri öğrenmeye istekli ve teknolojik yeniliklere kolay uyum sağlayabilen, Seyahat engeli olmayan,  B sınıfı ehliyeti olan ve aktif olarak araç kullanabilen, İletişim becerisi yüksek ve ekip çalışmasına yatkın,  Esnek çalışmaya uygun çalışma arkadaşı aramaktayız.  İŞ TANIMI Bilgisayar yazılım ve donanım kurulumlarının yapılması, Masaüstü ve taşınabilir bilgisayarlar için teknik servis desteğinin verilmesi, Veri yedekleme ve veri kurtarma faaliyetlerinin gerçekleştirilmesi, Ağ ürünlerinin kurulumunun yapılması, Kullanıcı ihtiyaçları doğrultusunda çözüm üretilmesi, Servise giden ürünlerin takibinin yapılması faaliyetlerinde görevlendirilmek üzere çalışma arkadaşına ihtiyacımız bulunmaktadır.'"
      ]
     },
     "execution_count": 17,
     "metadata": {},
     "output_type": "execute_result"
    }
   ],
   "source": [
    "text = BeautifulSoup(it_data.iloc[10]['Qualifications']).get_text(' ')\n",
    "text "
   ]
  },
  {
   "cell_type": "code",
   "execution_count": 111,
   "metadata": {},
   "outputs": [
    {
     "data": {
      "text/plain": [
       "'GENEL NİTELİKLER VE İŞ TANIMI. Üniversitelerin Meslek Yüksek Okullarının Bilgisayar Teknolojileri veya Elektrik/Elektronik bölümlerinden mezun, Aşağıda belirtilen alanlarda en az 2 yıl deneyimli olmak üzere; En az 200 kullanıcılı bir altyapıda hizmette bulunma deneyimine sahip, Tercihen CCNA veya MCSE sertifikalarından birine sahip,  Yazıcı ve network cihazlarının fiziksel kurulumları, arıza tespiti yapılması ve desteği, PC donanım, network protokolleri ve bileşenleri konusunda bilgi ve deneyim sahibi, Windows işletim sistemleri, MS Office vb. programları kullanabilen ve kullanıcılara destek verebilecek, Yeni ürün ve teknolojileri öğrenmeye istekli ve teknolojik yeniliklere kolay uyum sağlayabilen, Seyahat engeli olmayan,  B sınıfı ehliyeti olan ve aktif olarak araç kullanabilen, İletişim becerisi yüksek ve ekip çalışmasına yatkın,  Esnek çalışmaya uygun çalışma arkadaşı aramaktayız.  . İŞ TANIMI. Bilgisayar yazılım ve donanım kurulumlarının yapılması, Masaüstü ve taşınabilir bilgisayarlar için teknik servis desteğinin verilmesi, Veri yedekleme ve veri kurtarma faaliyetlerinin gerçekleştirilmesi, Ağ ürünlerinin kurulumunun yapılması, Kullanıcı ihtiyaçları doğrultusunda çözüm üretilmesi, Servise giden ürünlerin takibinin yapılması faaliyetlerinde görevlendirilmek üzere çalışma arkadaşına ihtiyacımız bulunmaktadır.'"
      ]
     },
     "execution_count": 111,
     "metadata": {},
     "output_type": "execute_result"
    }
   ],
   "source": [
    "BeautifulSoup(it_data.iloc[10]['Qualifications'].replace(\"</p>\",\".\")).get_text(' ')"
   ]
  },
  {
   "cell_type": "code",
   "execution_count": 19,
   "metadata": {},
   "outputs": [
    {
     "data": {
      "text/plain": [
       "158"
      ]
     },
     "execution_count": 19,
     "metadata": {},
     "output_type": "execute_result"
    }
   ],
   "source": [
    "len(text.split())"
   ]
  },
  {
   "cell_type": "code",
   "execution_count": 20,
   "metadata": {},
   "outputs": [
    {
     "data": {
      "text/plain": [
       "list"
      ]
     },
     "execution_count": 20,
     "metadata": {},
     "output_type": "execute_result"
    }
   ],
   "source": [
    "type(text.split())"
   ]
  },
  {
   "cell_type": "code",
   "execution_count": 29,
   "metadata": {},
   "outputs": [
    {
     "data": {
      "text/plain": [
       "'Teknolojileri-veya-Elektrik/Elektronik-bölümlerinden-Aşağıda-belirtilen'"
      ]
     },
     "execution_count": 29,
     "metadata": {},
     "output_type": "execute_result"
    }
   ],
   "source": [
    "'-'.join(text.split()[10:14] + text.split()[15:17])"
   ]
  },
  {
   "cell_type": "code",
   "execution_count": 32,
   "metadata": {},
   "outputs": [
    {
     "data": {
      "text/plain": [
       "['Teknolojileri',\n",
       " 'veya',\n",
       " 'Elektrik/Elektronik',\n",
       " 'bölümlerinden',\n",
       " 'Aşağıda',\n",
       " 'belirtilen']"
      ]
     },
     "execution_count": 32,
     "metadata": {},
     "output_type": "execute_result"
    }
   ],
   "source": [
    "text.split()[10:14] + text.split()[15:17]"
   ]
  },
  {
   "cell_type": "code",
   "execution_count": 36,
   "metadata": {},
   "outputs": [
    {
     "name": "stdout",
     "output_type": "stream",
     "text": [
      "['Teknolojileri', 'veya', 'Elektrik/Elektronik', 'bölümlerinden']\n"
     ]
    },
    {
     "data": {
      "text/plain": [
       "['Elektrik/Elektronik']"
      ]
     },
     "execution_count": 36,
     "metadata": {},
     "output_type": "execute_result"
    }
   ],
   "source": [
    "phrase = text.split()[10:14]\n",
    "print(phrase)\n",
    "phrase[-2:-1]"
   ]
  },
  {
   "cell_type": "code",
   "execution_count": 55,
   "metadata": {},
   "outputs": [
    {
     "data": {
      "text/plain": [
       "['Teknolojileri', 'veya', 'Elektrik/Elektronik', 'bölümlerinden']"
      ]
     },
     "execution_count": 55,
     "metadata": {},
     "output_type": "execute_result"
    }
   ],
   "source": [
    "phrase"
   ]
  },
  {
   "cell_type": "code",
   "execution_count": 56,
   "metadata": {},
   "outputs": [
    {
     "name": "stdout",
     "output_type": "stream",
     "text": [
      "elektrik/elektronik\n",
      "ELEKTRIK/ELEKTRONIK\n",
      "False\n",
      "True\n"
     ]
    }
   ],
   "source": [
    "print(phrase[2].lower())\n",
    "print(phrase[2].upper())\n",
    "print(phrase[1].isupper())\n",
    "print(phrase[1].islower())"
   ]
  },
  {
   "cell_type": "code",
   "execution_count": 59,
   "metadata": {},
   "outputs": [
    {
     "data": {
      "text/plain": [
       "['veya', 'bölümlerinden']"
      ]
     },
     "execution_count": 59,
     "metadata": {},
     "output_type": "execute_result"
    }
   ],
   "source": [
    "[w for w in phrase if w.islower()]"
   ]
  },
  {
   "cell_type": "code",
   "execution_count": 61,
   "metadata": {},
   "outputs": [
    {
     "data": {
      "text/plain": [
       "['Teknolojileri', 'Elektrik/Elektronik', 'bölümlerinden']"
      ]
     },
     "execution_count": 61,
     "metadata": {},
     "output_type": "execute_result"
    }
   ],
   "source": [
    "[w for w in phrase if len(w)>4]"
   ]
  },
  {
   "cell_type": "code",
   "execution_count": 63,
   "metadata": {},
   "outputs": [
    {
     "data": {
      "text/plain": [
       "FreqDist({'ve': 12, 'İŞ': 2, 'TANIMI': 2, 'Bilgisayar': 2, 'veya': 2, 'az': 2, 'sahip,': 2, 'network': 2, 'yapılması': 2, 'çalışma': 2, ...})"
      ]
     },
     "execution_count": 63,
     "metadata": {},
     "output_type": "execute_result"
    }
   ],
   "source": [
    "nltk.FreqDist(text.split())"
   ]
  },
  {
   "cell_type": "code",
   "execution_count": 64,
   "metadata": {},
   "outputs": [
    {
     "data": {
      "text/plain": [
       "[('ve', 12), ('İŞ', 2), ('TANIMI', 2), ('Bilgisayar', 2), ('veya', 2)]"
      ]
     },
     "execution_count": 64,
     "metadata": {},
     "output_type": "execute_result"
    }
   ],
   "source": [
    "nltk.FreqDist(text.split()).most_common(5)"
   ]
  },
  {
   "cell_type": "code",
   "execution_count": 72,
   "metadata": {},
   "outputs": [
    {
     "data": {
      "text/plain": [
       "'346410534641053464105346410534641053464105346410534641053464105346410534641053464105346410534641053464105346410534641053464105 sskjdkjsdksajl sksakjdlkajdladl dskjlksjlksajlksajdlkaj skdksjdlksadlajdlaj sjdlksajdlksajdalkjdalkjdlakjlajdla Şartlar 08.30 - 18.30 arası mesai saatleri. Sadece pazar günleri çalışmıyoruz. Yerimiz Kızılay- Kolejdedir. Nitelikler Orta seviye Photoshop (Zorunlu) Tercihen Adobe premier bilen Tercihen orta seviye İngilizce okuma ve yazma Tercihen ürün çekimi konusunda tecr'"
      ]
     },
     "execution_count": 72,
     "metadata": {},
     "output_type": "execute_result"
    }
   ],
   "source": [
    "full_text=''\n",
    "for i in range(len(it_data)):\n",
    "    full_text += BeautifulSoup(it_data.iloc[i]['Qualifications']).get_text(' ') + ' '\n",
    "full_text[0:500]"
   ]
  },
  {
   "cell_type": "code",
   "execution_count": 74,
   "metadata": {},
   "outputs": [
    {
     "data": {
      "text/plain": [
       "[('ve', 20205),\n",
       " ('and', 6661),\n",
       " ('the', 3287),\n",
       " ('·', 3201),\n",
       " ('to', 3147),\n",
       " ('in', 2976),\n",
       " ('of', 2931),\n",
       " ('ile', 2733),\n",
       " ('konusunda', 2608),\n",
       " ('bilgi', 2277)]"
      ]
     },
     "execution_count": 74,
     "metadata": {},
     "output_type": "execute_result"
    }
   ],
   "source": [
    "nltk.FreqDist(full_text.split()).most_common(10)\n"
   ]
  },
  {
   "cell_type": "code",
   "execution_count": 77,
   "metadata": {},
   "outputs": [
    {
     "data": {
      "text/plain": [
       "nltk.probability.FreqDist"
      ]
     },
     "execution_count": 77,
     "metadata": {},
     "output_type": "execute_result"
    }
   ],
   "source": [
    "type(nltk.FreqDist(full_text.split()))"
   ]
  },
  {
   "cell_type": "code",
   "execution_count": 78,
   "metadata": {},
   "outputs": [
    {
     "data": {
      "image/png": "[encoded data removed]",
      "text/plain": [
       "<Figure size 640x480 with 1 Axes>"
      ]
     },
     "metadata": {},
     "output_type": "display_data"
    },
    {
     "data": {
      "text/plain": [
       "<AxesSubplot: xlabel='Samples', ylabel='Counts'>"
      ]
     },
     "execution_count": 78,
     "metadata": {},
     "output_type": "execute_result"
    }
   ],
   "source": [
    "most_common_words = nltk.FreqDist(full_text.split())\n",
    "most_common_words.plot(50)"
   ]
  },
  {
   "cell_type": "markdown",
   "metadata": {},
   "source": [
    "|       Method      |                            Functionality                            |\n",
    "|:------------------|:--------------------------------------------------------------------|\n",
    "| `s.find(t)`       | index of first instance of   string `t` inside `s` (`-1` if not found)    |\n",
    "| `s.rfind(t)`      | index of last instance of   string `t` inside `s` (`-1` if not found)     |\n",
    "| `s.index(t)`      | like `s.find(t)` except it raises `ValueError` if not   found           |\n",
    "| `s.rindex(t)`     | like `s.rfind(t)` except it raises `ValueError` if not   found          |\n",
    "| `s.join(text)`    | combine the words of the text into a string using `s` as the glue     |\n",
    "| `s.split(t)`      | split `s` into a list wherever a `t` is found (whitespace   by default) |\n",
    "| `s.splitlines()`  | split `s` into a list of strings, one per line                        |\n",
    "| `s.lower()`       | a lowercased version of the string `s`                                |\n",
    "| `s.upper()`       | an uppercased version of the string `s`                               |\n",
    "| `s.title()`       | a titlecased version of the string `s`                                |\n",
    "| `s.strip()`       | a copy of `s` without leading or trailing whitespace                  |\n",
    "| `s.replace(t, u)` | replace instances of `t` with `u` inside `s`                              |\n"
   ]
  },
  {
   "cell_type": "code",
   "execution_count": 85,
   "metadata": {},
   "outputs": [
    {
     "name": "stdout",
     "output_type": "stream",
     "text": [
      "Total number of characters: 3323942  asdasd as das <class 'int'>\n"
     ]
    }
   ],
   "source": [
    "tot_chars = sum(len(w) for w in full_text.split())\n",
    "\n",
    "print(\"Total number of characters: {}  asdasd as das {}\".format(tot_chars, type(tot_chars)))"
   ]
  },
  {
   "cell_type": "code",
   "execution_count": 83,
   "metadata": {},
   "outputs": [
    {
     "data": {
      "text/plain": [
       "'Total number of characters: 3323942'"
      ]
     },
     "execution_count": 83,
     "metadata": {},
     "output_type": "execute_result"
    }
   ],
   "source": [
    "\"Total number of characters: \" +str(tot_chars) + ' kelime lasda '+ keli + ' '"
   ]
  },
  {
   "cell_type": "code",
   "execution_count": 87,
   "metadata": {},
   "outputs": [
    {
     "data": {
      "text/plain": [
       "6.8318380719246425"
      ]
     },
     "execution_count": 87,
     "metadata": {},
     "output_type": "execute_result"
    }
   ],
   "source": [
    "sum(len(w) for w in full_text.split()) / len (full_text.split()) # average word length"
   ]
  },
  {
   "cell_type": "code",
   "execution_count": 89,
   "metadata": {},
   "outputs": [
    {
     "name": "stdout",
     "output_type": "stream",
     "text": [
      "Total number of non-alphanumeric characters: 749016\n",
      "Percentage of non-alphanumeric characters: 22.533967%\n"
     ]
    }
   ],
   "source": [
    "tot_na_chars = sum(len(w) for w in full_text.split() if not w.isalnum())\n",
    "perc_na_chars = tot_na_chars/tot_chars\n",
    "\n",
    "print(\"Total number of non-alphanumeric characters: {}\".format(tot_na_chars))\n",
    "print(\"Percentage of non-alphanumeric characters: {:%}\".format(perc_na_chars))"
   ]
  },
  {
   "cell_type": "code",
   "execution_count": 90,
   "metadata": {},
   "outputs": [
    {
     "data": {
      "text/plain": [
       "['08.30',\n",
       " '-',\n",
       " '18.30',\n",
       " 'saatleri.',\n",
       " 'çalışmıyoruz.',\n",
       " 'Kızılay-',\n",
       " 'Kolejdedir.',\n",
       " '(Zorunlu)',\n",
       " 'tecrübeli.',\n",
       " 'vardır.',\n",
       " 'ayarlama,',\n",
       " 'paketleme,',\n",
       " 'alınacaktır.',\n",
       " 'ediyoruz.',\n",
       " 'A.Ş.',\n",
       " 'Yeditek,',\n",
       " 'göstermektedir.',\n",
       " 'çalışıyoruz.',\n",
       " 'problemler;',\n",
       " 'edilir,',\n",
       " 'sunulur.',\n",
       " 'ilanıdır.',\n",
       " \"Türkiye'de\",\n",
       " ',',\n",
       " 'kurumlarda,',\n",
       " 'sağlayan,',\n",
       " 'sunar.',\n",
       " 'sonuçları,',\n",
       " 'mümkün.',\n",
       " 'teknolojileri,',\n",
       " 'anlayışıyla,',\n",
       " 'Türkiye’nin',\n",
       " 'sağlamaktadır.',\n",
       " '500’e',\n",
       " \"Uzmanı'\",\n",
       " 'arıyoruz.',\n",
       " '•',\n",
       " 'Tasarımı,',\n",
       " 'Tasarımı,',\n",
       " 'TV,',\n",
       " 'Fakültesi,',\n",
       " 'mezun,',\n",
       " '•',\n",
       " 'türleri,',\n",
       " 'sahibi,',\n",
       " '•',\n",
       " 'bilen,',\n",
       " 'Photoshop,',\n",
       " 'sahibi,',\n",
       " '•',\n",
       " 'sahibi,',\n",
       " '•',\n",
       " 'sahibi,',\n",
       " '•',\n",
       " 'Kurgu,',\n",
       " 'ses,',\n",
       " 'eden,',\n",
       " '•',\n",
       " 'kuvvetli,',\n",
       " '•',\n",
       " 'Tipografi,',\n",
       " 'sahip,',\n",
       " '•',\n",
       " 'sunabilecek,',\n",
       " '•',\n",
       " 'veren,',\n",
       " 'açık,',\n",
       " 'odaklı,',\n",
       " 'geliştirebilen,',\n",
       " '•',\n",
       " 'sağlayabilecek,',\n",
       " '•',\n",
       " '•',\n",
       " 'gerçekleştirilmesi,',\n",
       " '•',\n",
       " 'gerçekleştirilmesi,',\n",
       " '•',\n",
       " 'E-eğitimlerin',\n",
       " 'yapılması,',\n",
       " '•',\n",
       " ',',\n",
       " 'eğitimi,',\n",
       " '•',\n",
       " 'yapılması.',\n",
       " 'olmak,',\n",
       " 'çalışabileceğiniz,',\n",
       " 'anlaşabileceğimiz,',\n",
       " 'arıyoruz.',\n",
       " 'isteriz.',\n",
       " '(ASP.NET,',\n",
       " 'AJAX,',\n",
       " 'HTML,',\n",
       " 'Script,',\n",
       " 'vb.)',\n",
       " 'deneyimli,',\n",
       " 'bilgisine(Microsoft',\n",
       " '2008/2008',\n",
       " 'R2,',\n",
       " 'üstü)',\n",
       " 'sahip,',\n",
       " 've/veya',\n",
       " 'olmak.',\n",
       " 'no-sql',\n",
       " '(postgresql,',\n",
       " 'redis)',\n",
       " '–',\n",
       " '(HTTP,',\n",
       " 'SOAP,',\n",
       " 'REST,',\n",
       " 'JSON,',\n",
       " 'vb.)',\n",
       " 'hâkim,',\n",
       " 'sahibi,',\n",
       " '(CI/CD,',\n",
       " 'Jenkins,',\n",
       " 'vb.),',\n",
       " 'Puppeteer/Selenium',\n",
       " 'Obsesif/Ayrıntılı',\n",
       " 'yapmak.',\n",
       " 'AWS/Azure',\n",
       " 'ihtiyaçlarının,',\n",
       " 'yapmak,',\n",
       " 'etmek,',\n",
       " 'sistem/altyapı',\n",
       " 'etmek,',\n",
       " 'yapmak,',\n",
       " 'oluşturmak,',\n",
       " 'oluşturmak,',\n",
       " 'yürütmek.',\n",
       " 'aranmaktadır.',\n",
       " 'yaratıcı,',\n",
       " 'arıyoruz.',\n",
       " 'Sorumluluklar:',\n",
       " 'Tanımı:',\n",
       " 'Logo,',\n",
       " 'post,',\n",
       " 'tasarımı,',\n",
       " 'almak.',\n",
       " 'oluşturulması.',\n",
       " 'oluşturmak.',\n",
       " 'Suite,',\n",
       " 'geçirilmesi.',\n",
       " 'çalışmak.',\n",
       " 'yapmak,',\n",
       " 'sağlamak.',\n",
       " 'mezun,',\n",
       " 'deneyimli,',\n",
       " 'Logo,',\n",
       " 'MC,',\n",
       " 'hakim,',\n",
       " 've/veya',\n",
       " 'sahibi,',\n",
       " 'veren,',\n",
       " 'hakim,',\n",
       " 'sahip,',\n",
       " 'bilen.',\n",
       " '(depolama,',\n",
       " 'yedekleme,',\n",
       " 'Ağ,',\n",
       " 'iletişim,',\n",
       " 'sanallaştırma,',\n",
       " 'vb)',\n",
       " 'bakım,',\n",
       " 'gerçekleştirmek,',\n",
       " 'gidermek,',\n",
       " 'yapmak,',\n",
       " 'etmek,',\n",
       " 'tutmak,',\n",
       " 'sağlamak.',\n",
       " '&',\n",
       " 'İzmir,',\n",
       " 'as,',\n",
       " '(900sqm,',\n",
       " '+open',\n",
       " '415m2),',\n",
       " '(835sqm),',\n",
       " '(300sqm),',\n",
       " '(575sqm),',\n",
       " '(3500sqm),',\n",
       " '(715sqm),',\n",
       " '(69sqm),',\n",
       " 'Kis’Club.',\n",
       " 'rooms,',\n",
       " '(680sqm),',\n",
       " 'Pre-Function',\n",
       " '(350sqm).',\n",
       " 'A.Ş.',\n",
       " 'Antalya’da',\n",
       " 'serüvenimizi;',\n",
       " 'büyüyerek,',\n",
       " 'sürdürüyoruz.',\n",
       " 'ihracatımız,',\n",
       " 'yıldızı,',\n",
       " 'markasıyız.',\n",
       " 'Türkiye’nin',\n",
       " 'Araştırması’nda',\n",
       " \"212'nci,\",\n",
       " '262.',\n",
       " 'alıyoruz.',\n",
       " 'Fabrika’yı',\n",
       " 'ettik.',\n",
       " '4.0',\n",
       " 'kesmeden,',\n",
       " 'Fabrika’nın',\n",
       " 'kattık.',\n",
       " 'Fabrika’nın',\n",
       " 'geldik.',\n",
       " 'A.Ş.’nin',\n",
       " 'bulunmak,',\n",
       " 'yapımızla,',\n",
       " 'olacağız.',\n",
       " 'Türkiye’nin',\n",
       " 'Ankutsan’ın',\n",
       " 'ediyoruz.',\n",
       " '“Bilgi',\n",
       " 'Uzmanı’’',\n",
       " 'arıyoruz.',\n",
       " 'Üniversitelerin;',\n",
       " 'Mühendisliği,',\n",
       " 'sahip,',\n",
       " 'deneyimli(Microsoft',\n",
       " '2013/2016,Active',\n",
       " 'Directory,',\n",
       " 'DNS,',\n",
       " 'DHCP,',\n",
       " '(VMware,',\n",
       " 'V)',\n",
       " 'çalışmış,',\n",
       " 'duvarı,',\n",
       " 'sunucu,',\n",
       " 'deneyimli,',\n",
       " 'yönetimi,',\n",
       " 'yapabilecek,',\n",
       " 'yürütmüş,',\n",
       " 'IOT,',\n",
       " 'S3,S4/HANA',\n",
       " 'bulunmuş,',\n",
       " 'yüksek,',\n",
       " 'sağlayabilecek,',\n",
       " 'yatkın,',\n",
       " 'tamamlamış,',\n",
       " \"Antalya'da\",\n",
       " 'edebilecek.',\n",
       " 'Donanım,',\n",
       " 'Sistemleri,',\n",
       " 'Sistemleri,',\n",
       " 'üretilebilmesi,',\n",
       " 'sağlanması,',\n",
       " 'kurulum,',\n",
       " 'bakım,',\n",
       " 'yürütülmesi,',\n",
       " 'takibinin,',\n",
       " 'sağlanması,',\n",
       " 'yapılması,',\n",
       " '/',\n",
       " '/',\n",
       " '/',\n",
       " 'vb.',\n",
       " 'yapılması,',\n",
       " ',Ambalaj',\n",
       " ',',\n",
       " 'arıyoruz.',\n",
       " 'Elektrik/Elektronik',\n",
       " 'mezun,',\n",
       " 'üzere;',\n",
       " 'sahip,',\n",
       " 'sahip,',\n",
       " 'kurulumları,',\n",
       " 'desteği,',\n",
       " 'donanım,',\n",
       " 'sahibi,',\n",
       " 'sistemleri,',\n",
       " 'vb.',\n",
       " 'verebilecek,',\n",
       " 'sağlayabilen,',\n",
       " 'olmayan,',\n",
       " 'kullanabilen,',\n",
       " 'yatkın,',\n",
       " 'aramaktayız.',\n",
       " 'yapılması,',\n",
       " 'verilmesi,',\n",
       " 'gerçekleştirilmesi,',\n",
       " 'yapılması,',\n",
       " 'üretilmesi,',\n",
       " 'bulunmaktadır.',\n",
       " 'Gayrimenkul,',\n",
       " 'yaşam,',\n",
       " 'kavramdır.',\n",
       " 'Zingat’',\n",
       " 'alanında,',\n",
       " 'iyileştiriyor,',\n",
       " 'üretiyoruz.',\n",
       " 'insan,',\n",
       " 'yolculukta,',\n",
       " 'arıyoruz.',\n",
       " 'sağlamak,',\n",
       " 'KVKK,',\n",
       " 'Prosedürleri,',\n",
       " 'vb.',\n",
       " 'sağlamak,',\n",
       " 'sağlamak,',\n",
       " 'sağlamak,',\n",
       " 'bulunmak,',\n",
       " 'yapmak,',\n",
       " 'sağlamak,',\n",
       " 'almak,',\n",
       " 'yapmak,',\n",
       " 'tutmak.',\n",
       " 'mezun,',\n",
       " 'tecrübeli,',\n",
       " 'donanımları,',\n",
       " 'Sistemleri,',\n",
       " 'yetkin,',\n",
       " 'yönetmiş,',\n",
       " '(Firewall,',\n",
       " 'vb.)',\n",
       " 'tecrübeli,',\n",
       " 'olan,',\n",
       " 'gerçekleştirebilecek,',\n",
       " 'yetkin,',\n",
       " 'dinamik,',\n",
       " 'odaklı,',\n",
       " 'gelişmiş,',\n",
       " 'yüksek,',\n",
       " 'iletişim,',\n",
       " 'sahip,',\n",
       " 'uyumlu.',\n",
       " 'olacak,',\n",
       " 'çalışacak,',\n",
       " '\"',\n",
       " 'Developer”',\n",
       " 'arıyoruz.',\n",
       " '-',\n",
       " '-',\n",
       " '(Javascript',\n",
       " ',',\n",
       " 'CSS3,',\n",
       " 'HTML5)',\n",
       " '-',\n",
       " '(SOAP,',\n",
       " 'REST)',\n",
       " '(Github)',\n",
       " '-',\n",
       " '-',\n",
       " '-',\n",
       " '-',\n",
       " '-',\n",
       " 'tecilli.',\n",
       " '-',\n",
       " 'geliştirilmesi,',\n",
       " '-',\n",
       " 'sağlanması,',\n",
       " '-',\n",
       " 'tasarlanması,',\n",
       " 'geliştirilmesi,',\n",
       " 'edilmesi,',\n",
       " 'çevrilmesi,',\n",
       " '-',\n",
       " 'Tasarımcılar,',\n",
       " 'iyileştirilmesi,',\n",
       " '“Grafik',\n",
       " 'Asistanı”',\n",
       " 'üzere;',\n",
       " 'tasarlanması,',\n",
       " 'doğrultusunda,',\n",
       " 'yapmak,',\n",
       " 'katalog,',\n",
       " 'broşür,',\n",
       " 'yapılması,',\n",
       " 'medya,',\n",
       " 'hazırlanması,',\n",
       " 'üretmek,',\n",
       " 'E-mailing,',\n",
       " 'uygulamak,',\n",
       " 'adaylar.',\n",
       " '4.',\n",
       " 'öğrencisiyseniz,',\n",
       " 'InDesign,',\n",
       " 'Photoshop,',\n",
       " 'Illustrator,',\n",
       " 'vb.',\n",
       " 'hakimseniz,',\n",
       " 'kullanabiliyorsanız,',\n",
       " 'medya,',\n",
       " 'yapabilecekseniz,',\n",
       " 'alıyorsanız,',\n",
       " 'yeniliklerini,',\n",
       " 'seviyorsanız,',\n",
       " 'yapabilme,',\n",
       " 'sahibiyseniz,',\n",
       " 'geliştirebiliyorsanız,',\n",
       " '“Planlama”',\n",
       " '“zaman',\n",
       " 'yönetimi”',\n",
       " 'diyorsanız,',\n",
       " 'yatkın,',\n",
       " 'görmüyorsanız,',\n",
       " 'bekliyoruz.',\n",
       " '***Başvuran',\n",
       " '(linklerini)',\n",
       " 'olunur.',\n",
       " 'Nitelikler;',\n",
       " 'Bilgisayar/Elektronik',\n",
       " 'mezun,',\n",
       " 'bulunan,',\n",
       " 'LAN,',\n",
       " 'WAN,',\n",
       " 'topolojileri,',\n",
       " '(FW,Switch,',\n",
       " 'Point,',\n",
       " 'vb.)',\n",
       " 'çözümleri,',\n",
       " 'tecrübeli,',\n",
       " '802.1X,',\n",
       " 'VLAN,',\n",
       " 'tecrübeli,',\n",
       " 'tecrübeli,',\n",
       " 'Exchange,',\n",
       " 'Server,',\n",
       " 'tecrübeli,',\n",
       " '(Storage)',\n",
       " 'Yedekleme(Backup)',\n",
       " 'tecrübeli,',\n",
       " '(Vmware,',\n",
       " 'Hyper-V)',\n",
       " 'tecrübeli,',\n",
       " 'Sunum,',\n",
       " 'veren,',\n",
       " 'İstanbul/',\n",
       " 'eden,',\n",
       " 'tamamlamış.',\n",
       " 'Tanımları;',\n",
       " 'sağlamak,',\n",
       " 'planlamak,',\n",
       " 'uygulamak,',\n",
       " 'Sunucu,',\n",
       " 'Sanallaştırma,',\n",
       " 'sağlamak,',\n",
       " 'yönetmek,',\n",
       " 'yedekleyerek,',\n",
       " 'sağlamak,',\n",
       " 'Sistemi’ne',\n",
       " 'etmek,',\n",
       " 'hazırlayarak,',\n",
       " 'etmek,',\n",
       " 'sunmak.',\n",
       " '-',\n",
       " 'yazılım,',\n",
       " 'vermek,',\n",
       " 'sistemleri,',\n",
       " 'kurulum,',\n",
       " 'vermek,',\n",
       " 've/veya',\n",
       " 'yürütmek,',\n",
       " 'etmek,',\n",
       " 'üretmek,',\n",
       " 'Autostudi,',\n",
       " 'gösteren,',\n",
       " 'şirketidir.',\n",
       " 'Autostudi,',\n",
       " 'edilen,',\n",
       " 'sahiptir.',\n",
       " 'yol:',\n",
       " 'tasarım,',\n",
       " 'geliştirme,',\n",
       " 'maketler,',\n",
       " 'imalat.',\n",
       " 'Şirketimiz,',\n",
       " 'İtalya,',\n",
       " \"Türkiye'de\",\n",
       " 'vermektedir.',\n",
       " 'Gereksinimler:',\n",
       " '•3D',\n",
       " 'hakim,',\n",
       " 've/veya',\n",
       " 'sahip,',\n",
       " '•Tercihen',\n",
       " '•',\n",
       " 'bilen,',\n",
       " '•MS',\n",
       " 'kullanabilen,',\n",
       " '•Otomotiv',\n",
       " 'sahibi,',\n",
       " 'NİTELİKLER:',\n",
       " 'mezun,',\n",
       " 'deneyimli,',\n",
       " 'olan,',\n",
       " 'Ailesi(SCCM,SCOM)',\n",
       " 'deneyimli,',\n",
       " 'sahibi,',\n",
       " '(AD,',\n",
       " 'DNS,',\n",
       " 'DHCP,',\n",
       " 'CA,',\n",
       " 'RDS/TS,',\n",
       " 'KMS,',\n",
       " 'WSUS,',\n",
       " 'Fail-over',\n",
       " 'Cluster,',\n",
       " 'DFS,',\n",
       " 'Server,',\n",
       " 'vb.)',\n",
       " 'hakim,',\n",
       " 'Server,',\n",
       " 'Teams,',\n",
       " 'sahibi,',\n",
       " 'Security,',\n",
       " 'deneyimli,',\n",
       " 'Server,',\n",
       " 'AD,',\n",
       " '(hardening)',\n",
       " 'olan,',\n",
       " 'Yaratıcı,',\n",
       " 'odaklı,',\n",
       " 'açık,',\n",
       " 'eden,',\n",
       " 'kuvvetli,',\n",
       " 'güvenen,',\n",
       " 'TANIMI:',\n",
       " 'sağlamak,',\n",
       " 'işletimi,',\n",
       " 'sağlamak,',\n",
       " 'tasarımsal,',\n",
       " 'planlanması,',\n",
       " 'sağlamak,',\n",
       " 'izleme,',\n",
       " 'sağlamak,',\n",
       " 'yönetmek.',\n",
       " 'Fakültesi’nden',\n",
       " 'üretebilen,',\n",
       " 'çalışabilecek,',\n",
       " 'Yaratıcı,',\n",
       " 'uygulayan,',\n",
       " 'güçlü,',\n",
       " 'Illustrator,',\n",
       " 'Photoshop,',\n",
       " 'Effects,',\n",
       " 'hakim,',\n",
       " 'UI/UX',\n",
       " 'kanıtlamış,',\n",
       " 'güçlü,',\n",
       " 'olan,',\n",
       " 'arıyoruz.',\n",
       " \"CV'leri\",\n",
       " 'alınmayacaktır.',\n",
       " 'için:',\n",
       " 'ik@medyamir.com',\n",
       " 'San.',\n",
       " 'Tic.',\n",
       " 'Ltd.',\n",
       " 'kurulmuştur.',\n",
       " 'AS-Interface',\n",
       " 'bulunmaktadır.',\n",
       " 'bunu,',\n",
       " 'Bihl+Wiedemann',\n",
       " 'Bölge’de',\n",
       " 'göstermektedir.',\n",
       " 'başaran,',\n",
       " 'aranmaktadır.',\n",
       " 'Tanımı:',\n",
       " '·',\n",
       " 'geliştirilmesi,',\n",
       " '·',\n",
       " 'geliştirilmesi,',\n",
       " '·',\n",
       " 'sağlanması,',\n",
       " '·',\n",
       " 'gerçekleştirilmesi,',\n",
       " '·',\n",
       " 'düzeltilmesi,',\n",
       " '·',\n",
       " 'tutulması.',\n",
       " 'Nitelikler:',\n",
       " '·',\n",
       " 'sahip,',\n",
       " '·',\n",
       " 'C#',\n",
       " 'WinForms,',\n",
       " 'Asp.Net',\n",
       " 'MVC,',\n",
       " '.Net',\n",
       " '·',\n",
       " 'olmak,',\n",
       " '(ORACLE,',\n",
       " 'MSSQL,',\n",
       " 'MySQL)',\n",
       " 'olmak,',\n",
       " '·',\n",
       " 'Framework,',\n",
       " 'olmak,',\n",
       " '·',\n",
       " '(SOAP,',\n",
       " 'WCF,',\n",
       " 'REST)',\n",
       " 'olmak,',\n",
       " '·',\n",
       " 'Jquery,',\n",
       " 'CSS,',\n",
       " 'JavaScript,',\n",
       " 'olmak,',\n",
       " '·',\n",
       " '·',\n",
       " '(TFS,',\n",
       " 'GIT)',\n",
       " 'olmak,',\n",
       " '·',\n",
       " '·',\n",
       " '·',\n",
       " 'çalışabilen,',\n",
       " '·',\n",
       " 'sağlayabilecek,',\n",
       " '·',\n",
       " 'bilen,',\n",
       " '·',\n",
       " 'tamamlamış,',\n",
       " 'arıyoruz.',\n",
       " 'Bekliyor?',\n",
       " '·',\n",
       " '·',\n",
       " '·',\n",
       " '·',\n",
       " '·',\n",
       " '·',\n",
       " '·',\n",
       " '·',\n",
       " '·',\n",
       " '·',\n",
       " 'TEKNOLOJİLERİ,',\n",
       " 'Türkiye’nin',\n",
       " 'lider,',\n",
       " 'Avrupa’nın',\n",
       " 'satış,',\n",
       " 'kiralama,',\n",
       " 'servis,',\n",
       " 'danışmanlık,',\n",
       " 'finansman,',\n",
       " 'kuruldu.',\n",
       " 'Hadımköy’de',\n",
       " 'robot,',\n",
       " 'vermektedir.',\n",
       " 'amaçlamaktadır.',\n",
       " 'otomasyon,',\n",
       " 'sunmaktadır.',\n",
       " 'Merkezleri,',\n",
       " 'uyumlu;',\n",
       " 'sağlayan;',\n",
       " 'RT,',\n",
       " 'DR,',\n",
       " 'Vision’dan',\n",
       " 'imzaladı.',\n",
       " 'başladı.',\n",
       " '·',\n",
       " 'kuvvetli,',\n",
       " 'geliştirebilecek,',\n",
       " '·',\n",
       " 'uyumlu,',\n",
       " 'dikkatli,',\n",
       " 'yüzlü,',\n",
       " '·',\n",
       " 'sahip,',\n",
       " '·',\n",
       " 'olan,',\n",
       " '·',\n",
       " 'Planlama,',\n",
       " 'sahip,',\n",
       " '·',\n",
       " 'hâkim,',\n",
       " '·',\n",
       " 'bilgili,',\n",
       " '·',\n",
       " 'E-posta',\n",
       " 'yönetebilecek,',\n",
       " '·',\n",
       " 'sağlayabilecek,',\n",
       " '·',\n",
       " 'kullanabilen,',\n",
       " '·',\n",
       " 'eden,',\n",
       " '·',\n",
       " 'mezunu,',\n",
       " '·',\n",
       " 'saklamak,',\n",
       " '·',\n",
       " 'yapmak,',\n",
       " '·',\n",
       " 'şeklinde,',\n",
       " 'aranmaktadır.',\n",
       " 'mark...',\n",
       " 'Trust!',\n",
       " 'inclusive,',\n",
       " 'fast-paced',\n",
       " 'industry,',\n",
       " 'large?',\n",
       " 'you!',\n",
       " 'year,',\n",
       " '10,000',\n",
       " 'dedicated,',\n",
       " 'engineers,',\n",
       " 'technicians,',\n",
       " 'inspectors,',\n",
       " 'world.',\n",
       " 'onboard,',\n",
       " '“BV”.',\n",
       " 'expertise.',\n",
       " 'spirit.',\n",
       " 'innovating,',\n",
       " 'people.',\n",
       " 'work,',\n",
       " 'careers.',\n",
       " 'VALUE!',\n",
       " 'expertise,',\n",
       " 'quality,',\n",
       " '&',\n",
       " 'safety,',\n",
       " 'challenges.',\n",
       " 'Safety@work',\n",
       " 'workplace.',\n",
       " 'testing,',\n",
       " 'services.',\n",
       " '1828,',\n",
       " '77,000',\n",
       " '1,400',\n",
       " 'globe.',\n",
       " 'brands.',\n",
       " 'it’s',\n",
       " 'cars,',\n",
       " 'ride,',\n",
       " 'wear,',\n",
       " '(Testing,',\n",
       " 'Certification)',\n",
       " 'lives.',\n",
       " 'That’s',\n",
       " 'secure.',\n",
       " 'industries,',\n",
       " 'building,',\n",
       " 'infrastructure,',\n",
       " 'automotive,',\n",
       " 'more.',\n",
       " 'businesses,',\n",
       " 'mark.',\n",
       " 'us.',\n",
       " 'family,',\n",
       " 'working,',\n",
       " 'it’s',\n",
       " 'mark….',\n",
       " 'Trust.',\n",
       " '(Preferably',\n",
       " 'Engineering)',\n",
       " '&',\n",
       " \"users'\",\n",
       " '(Computer',\n",
       " 'Account,',\n",
       " 'SLO,',\n",
       " '365,',\n",
       " 'etc.)',\n",
       " 'Prepare,',\n",
       " 'maintain,',\n",
       " '(Laptop,',\n",
       " 'Mouse,',\n",
       " 'Monitor,',\n",
       " 'etc.)',\n",
       " 'Prepare,',\n",
       " 'standards.',\n",
       " '&',\n",
       " 'Establish,',\n",
       " 'CCTV,',\n",
       " 'fire,',\n",
       " 'systems.',\n",
       " 'up-to-date',\n",
       " 'any.',\n",
       " 'SSCM,',\n",
       " 'Intune,',\n",
       " 'up-to-date',\n",
       " 'Wifi,',\n",
       " 'Internet,',\n",
       " 'Firewall,',\n",
       " 'Switch,',\n",
       " 'office,',\n",
       " 'products,',\n",
       " 'equipment.',\n",
       " 'Selection,',\n",
       " 'follow-up',\n",
       " 'and,',\n",
       " 'necessary,',\n",
       " 'field.',\n",
       " '(5651,',\n",
       " 'DLP,',\n",
       " 'Test,',\n",
       " 'etc.)',\n",
       " 'needs.',\n",
       " 'inventory/asset',\n",
       " 'projects.',\n",
       " '(Budget,',\n",
       " 'Time,',\n",
       " 'Resources,',\n",
       " 'Outsourcing,',\n",
       " 'etc.)',\n",
       " '24/7',\n",
       " 'SMAX(Global',\n",
       " 'System)',\n",
       " '“',\n",
       " '(Jnr)',\n",
       " '”',\n",
       " 'arıyoruz.',\n",
       " '-',\n",
       " 'mezun,',\n",
       " '-',\n",
       " 'sahip,',\n",
       " 'olan,',\n",
       " '-',\n",
       " 'İngilizce’ye',\n",
       " 'hakim,',\n",
       " '-',\n",
       " 'deneyimli,',\n",
       " 'veren.',\n",
       " '-',\n",
       " 'tecrübeli,',\n",
       " '-',\n",
       " 'odaklı,',\n",
       " 'eden,',\n",
       " '-',\n",
       " 'sahip,',\n",
       " '-',\n",
       " 'güçlü,',\n",
       " 'yüksek,',\n",
       " '-',\n",
       " 'olmayan,',\n",
       " '-',\n",
       " 'yönetmek.',\n",
       " '-',\n",
       " 'yönetmek.',\n",
       " '-',\n",
       " 'yazılım,',\n",
       " 'donanım,',\n",
       " 'sağlamak.',\n",
       " '-',\n",
       " 'almak,',\n",
       " '-',\n",
       " 'yönetmek.',\n",
       " '-',\n",
       " 'sağlamak.',\n",
       " '-',\n",
       " 'yönetmek.',\n",
       " '-',\n",
       " 'sağlamak.',\n",
       " 'FİGES,',\n",
       " 'Inc.',\n",
       " '&',\n",
       " 'bulunmaktadır.',\n",
       " 'FİGES,',\n",
       " 'Inc.',\n",
       " '(Cummins',\n",
       " 'Group,',\n",
       " 'USA)',\n",
       " '“Öncelikli',\n",
       " 'Tedarikçisi”',\n",
       " 'vermektedir.',\n",
       " 'arıyoruz.',\n",
       " 'adayın,',\n",
       " 'C++',\n",
       " 'olması,',\n",
       " \"Simulink'te\",\n",
       " 'beklenmektedir.',\n",
       " '(Agile)',\n",
       " 'etmektedir.',\n",
       " 'sebebidir.',\n",
       " 'TANIMI:',\n",
       " '-',\n",
       " 'mikrodenetleyiciler,',\n",
       " 'yönetmek,',\n",
       " '-',\n",
       " 'C,',\n",
       " 'C++',\n",
       " 'yapmak,',\n",
       " '-',\n",
       " 'önceliklendirmek,',\n",
       " '-',\n",
       " 'yapmak,',\n",
       " '-',\n",
       " 'denetlemek,',\n",
       " '-',\n",
       " 'olmak,',\n",
       " '-',\n",
       " 'çalışmak,',\n",
       " '-',\n",
       " 'yapmak.',\n",
       " 'NİTELİKLER:',\n",
       " 'derecesi,',\n",
       " 'deneyimi,',\n",
       " 'tasarımı,',\n",
       " 'işlemciler,',\n",
       " 'elektroniği,',\n",
       " 'aşinalık,',\n",
       " 'deneyim,',\n",
       " 'yeteneği,',\n",
       " 'beceriler,',\n",
       " 'olmak.',\n",
       " 'Üniversitesi,',\n",
       " 'üniversitesidir.',\n",
       " 'edinmiştir.',\n",
       " \"500'de,\",\n",
       " \"Türkiye'de\",\n",
       " \"10'da\",\n",
       " 'Üniversitesi,',\n",
       " \"30'dan\",\n",
       " 'sunmaktadır.',\n",
       " 'Üniversitesi,',\n",
       " 'Fakülte,',\n",
       " 'Yüksekokul,',\n",
       " 'Yüksekokulu,',\n",
       " 'dinamik,',\n",
       " 'eğitim-öğretim',\n",
       " 'vermektedir.',\n",
       " 'Üniversitesi,',\n",
       " 'Kampüsü,',\n",
       " 'Direktörlüğü,',\n",
       " \"Müdürlüğü'nde\",\n",
       " 'üzere;',\n",
       " 'mezun,',\n",
       " 'olan,',\n",
       " 'Sunucu,',\n",
       " 'sahip,',\n",
       " 'olan,',\n",
       " 'tecrübeli,',\n",
       " 'BIND,',\n",
       " 'DHCP,',\n",
       " 'SSH,',\n",
       " 'SFTP,',\n",
       " 'Apache,',\n",
       " 'vb.',\n",
       " 'kurulum,',\n",
       " 'konfigürasyon,',\n",
       " 'sahip,',\n",
       " 'deneyimli,',\n",
       " 'sahibi,',\n",
       " 'sunucu,',\n",
       " 'Gateway,',\n",
       " 'E-Posta',\n",
       " 'sahibi,',\n",
       " 'deneyimli,',\n",
       " 'geliştiren,',\n",
       " 'araştırmacı,',\n",
       " 'seven,',\n",
       " 'gelişmiş,',\n",
       " 'güçlü,',\n",
       " 'tamamlamış,',\n",
       " '\"Siber',\n",
       " 'Uzmanı\"',\n",
       " 'aramaktayız.',\n",
       " 'TANIMI;',\n",
       " 'Yönetimi,',\n",
       " 'faaliyetlerini,',\n",
       " 'Üniversitesi’nin',\n",
       " 'politikalarını,',\n",
       " 'getirmek,',\n",
       " 'gerçekleştirmek,',\n",
       " 'yapmak,',\n",
       " 'Sistemlerin,',\n",
       " 'geliştirmek/güncelleştirmek,',\n",
       " 'projelerde,',\n",
       " 'denetlemek,',\n",
       " 'yapmak;',\n",
       " 'sağlamak,',\n",
       " 'vermek.',\n",
       " 'Tanışın…',\n",
       " 'Danimarka’da',\n",
       " 'ISS,',\n",
       " '30’dan',\n",
       " 'ülkede,',\n",
       " '400.000’e',\n",
       " '40.000’i',\n",
       " 'veren,',\n",
       " 'Avrupa’nın',\n",
       " '3’üncü,',\n",
       " '4’üncü',\n",
       " 'işverenidir.',\n",
       " 'Birliği’nin',\n",
       " '(IAOP)',\n",
       " 'değerlendirmesiyle,',\n",
       " '-2019',\n",
       " '“Dünyanın',\n",
       " 'Şirketleri”',\n",
       " 'ISS;',\n",
       " 'temizlik,',\n",
       " 'güvenlik,',\n",
       " 'hizmetleri,',\n",
       " 'yemek,',\n",
       " 'sahiptir.',\n",
       " 'olarak;',\n",
       " '45.000’e',\n",
       " 'Müdürlük,',\n",
       " 'Ankara,',\n",
       " 'Antalya,',\n",
       " 'Bursa,',\n",
       " 'Adana,',\n",
       " 'Gaziantep,',\n",
       " 'Eskişehir,',\n",
       " '4.000’den',\n",
       " 'müşteriye,',\n",
       " 'ediyoruz.',\n",
       " ...]"
      ]
     },
     "execution_count": 90,
     "metadata": {},
     "output_type": "execute_result"
    }
   ],
   "source": [
    "[w for w in full_text.split() if not w.isalnum()]"
   ]
  },
  {
   "cell_type": "code",
   "execution_count": 94,
   "metadata": {},
   "outputs": [
    {
     "data": {
      "text/plain": [
       "'!\"#$%&\\'()*+,-./:;<=>?@[\\\\]^_`{|}~'"
      ]
     },
     "execution_count": 94,
     "metadata": {},
     "output_type": "execute_result"
    }
   ],
   "source": [
    "string.punctuation"
   ]
  },
  {
   "cell_type": "markdown",
   "metadata": {},
   "source": [
    "## Regular Expression\n",
    "### A language for specifying search strings in text."
   ]
  },
  {
   "cell_type": "code",
   "execution_count": 98,
   "metadata": {},
   "outputs": [
    {
     "data": {
      "text/plain": [
       "['The', 'the']"
      ]
     },
     "execution_count": 98,
     "metadata": {},
     "output_type": "execute_result"
    }
   ],
   "source": [
    "re.findall(r\"[Tt]he\", \"The dog barked at the cat\")"
   ]
  },
  {
   "cell_type": "code",
   "execution_count": 99,
   "metadata": {},
   "outputs": [
    {
     "name": "stdout",
     "output_type": "stream",
     "text": [
      "Start Index: 34\n",
      "End Index: 40\n"
     ]
    }
   ],
   "source": [
    "s = 'GeeksforGeeks: A computer science portal for geeks'\n",
    " \n",
    "match = re.search(r'portal', s)\n",
    " \n",
    "print('Start Index:', match.start())\n",
    "print('End Index:', match.end())"
   ]
  },
  {
   "cell_type": "code",
   "execution_count": 100,
   "metadata": {},
   "outputs": [
    {
     "name": "stdout",
     "output_type": "stream",
     "text": [
      "['123456789', '987654321']\n"
     ]
    }
   ],
   "source": [
    "# A sample text string where regular expression\n",
    "# is searched.\n",
    "string = \"\"\"Hello my Number is 123456789 and\n",
    "            my friend's number is 987654321\"\"\"\n",
    " \n",
    "# A sample regular expression to find digits.\n",
    "regex = '\\d+'\n",
    " \n",
    "match = re.findall(regex, string)\n",
    "print(match)"
   ]
  },
  {
   "cell_type": "code",
   "execution_count": 101,
   "metadata": {},
   "outputs": [
    {
     "name": "stdout",
     "output_type": "stream",
     "text": [
      "['1', '1', '4', '1', '8', '8', '6']\n",
      "['11', '4', '1886']\n"
     ]
    }
   ],
   "source": [
    "# \\d is equivalent to [0-9].\n",
    "p = re.compile('\\d')\n",
    "print(p.findall(\"I went to him at 11 A.M. on 4th July 1886\"))\n",
    " \n",
    "# \\d+ will match a group on [0-9], group\n",
    "# of one or greater size\n",
    "p = re.compile('\\d+')\n",
    "print(p.findall(\"I went to him at 11 A.M. on 4th July 1886\"))"
   ]
  },
  {
   "cell_type": "code",
   "execution_count": 102,
   "metadata": {},
   "outputs": [
    {
     "name": "stdout",
     "output_type": "stream",
     "text": [
      "['H', 'e', 's', 'a', 'i', 'd', 'i', 'n', 's', 'o', 'm', 'e', '_', 'l', 'a', 'n', 'g']\n",
      "['I', 'went', 'to', 'him', 'at', '11', 'A', 'M', 'he', 'said', 'in', 'some_language']\n",
      "[' ', ' ', '*', '*', '*', ' ', ' ', '.']\n"
     ]
    }
   ],
   "source": [
    "# \\w is equivalent to [a-zA-Z0-9_].\n",
    "p = re.compile('\\w')\n",
    "print(p.findall(\"He said * in some_lang.\"))\n",
    " \n",
    "# \\w+ matches to group of alphanumeric character.\n",
    "p = re.compile('\\w+')\n",
    "print(p.findall(\"I went to him at 11 A.M., he \\\n",
    "said *** in some_language.\"))\n",
    " \n",
    "# \\W matches to non alphanumeric characters.\n",
    "p = re.compile('\\W')\n",
    "print(p.findall(\"he said *** in some_language.\"))"
   ]
  },
  {
   "cell_type": "code",
   "execution_count": null,
   "metadata": {},
   "outputs": [],
   "source": [
    "/\\w*(TR)[\\s*]{0,}[0-9\\s]{22,}/"
   ]
  },
  {
   "cell_type": "code",
   "execution_count": 106,
   "metadata": {},
   "outputs": [
    {
     "name": "stdout",
     "output_type": "stream",
     "text": [
      "['Hello everyone!', 'Hope all are fine and doing well.', 'Hope you find the book interesting']\n"
     ]
    }
   ],
   "source": [
    "from nltk.tokenize import sent_tokenize\n",
    "text = \"Hello everyone Hope all are fine and doing well. Hope you find the book interesting\"\n",
    "print(sent_tokenize(text))"
   ]
  },
  {
   "cell_type": "markdown",
   "metadata": {},
   "source": [
    "## Stemming and Lemmatization"
   ]
  },
  {
   "cell_type": "markdown",
   "metadata": {},
   "source": [
    "• Many languages have some inflectional and derivational morphology, where similar words have similar forms:  organizes, organized, organizing  \n",
    "• Stemming and lemmatization reduce this variety to a single common base form."
   ]
  },
  {
   "cell_type": "markdown",
   "metadata": {},
   "source": [
    "gözlükçü\n",
    "gözlük\n",
    "göz\n",
    "gözlükçülerimizden - > gözlükçü\n",
    "\n",
    "-> göz\n",
    "\n",
    "Gözlükçüye gittim. İki tane gözlük aldım. Gözüm bozulmuş. Göz önemli abi.\n",
    "\n",
    "Göz gittim. \n",
    "İki tane göz aldım.\n",
    "Göz bozulmuş.\n",
    "Göz önemli.\n",
    "\n",
    "go\n",
    "went\n",
    "\n",
    "organizes, organized,organizing -> organize"
   ]
  },
  {
   "cell_type": "code",
   "execution_count": 112,
   "metadata": {},
   "outputs": [
    {
     "data": {
      "text/plain": [
       "'kitap'"
      ]
     },
     "execution_count": 112,
     "metadata": {},
     "output_type": "execute_result"
    }
   ],
   "source": [
    "from TurkishStemmer import TurkishStemmer\n",
    "stemmer = TurkishStemmer()\n",
    "stemmer.stem(\"kitaplarımızdaki\")"
   ]
  },
  {
   "cell_type": "code",
   "execution_count": 118,
   "metadata": {},
   "outputs": [
    {
     "name": "stdout",
     "output_type": "stream",
     "text": [
      "[['muster', 'muster', 'cabuk', 'baglaniyor'], ['konu', 'yardımç', 'islem', 'islem']]\n"
     ]
    }
   ],
   "source": [
    "df = [\n",
    "    ['musteri', 'musteriler', 'cabuk', 'baglaniyorum'],\n",
    "    ['konuda', 'yardımcı', 'islemlerim', 'islemlerimde']\n",
    "]\n",
    "turkStem = TurkishStemmer()\n",
    "all_stem_lists = []\n",
    "\n",
    "for word_group in df:\n",
    "    output_stems = []\n",
    "    for word in word_group:\n",
    "        stem = turkStem.stem(word)\n",
    "        output_stems.append(stem)\n",
    "    all_stem_lists.append(output_stems)\n",
    "\n",
    "print(all_stem_lists)"
   ]
  },
  {
   "cell_type": "code",
   "execution_count": 120,
   "metadata": {},
   "outputs": [
    {
     "data": {
      "text/plain": [
       "['I',\n",
       " 'go',\n",
       " 'to',\n",
       " 'he',\n",
       " 'at',\n",
       " '11',\n",
       " 'A.M.',\n",
       " 'on',\n",
       " '4th',\n",
       " 'July',\n",
       " '1886',\n",
       " '.',\n",
       " 'I',\n",
       " 'be',\n",
       " 'hope',\n",
       " 'to',\n",
       " 'get',\n",
       " 'a',\n",
       " 'response',\n",
       " 'by',\n",
       " 'now',\n",
       " '.',\n",
       " 'I',\n",
       " 'be',\n",
       " 'hope',\n",
       " 'to',\n",
       " 'get',\n",
       " 'a',\n",
       " 'response',\n",
       " 'by',\n",
       " 'now',\n",
       " '.',\n",
       " 'even',\n",
       " 'though',\n",
       " 'the',\n",
       " 'weather',\n",
       " 'be',\n",
       " 'bad',\n",
       " ',',\n",
       " 'I',\n",
       " 'go',\n",
       " 'to',\n",
       " 'the',\n",
       " 'gym',\n",
       " '.']"
      ]
     },
     "execution_count": 120,
     "metadata": {},
     "output_type": "execute_result"
    }
   ],
   "source": [
    "import spacy\n",
    "nlp = spacy.load('en_core_web_sm')\n",
    "text='I went to him at 11 A.M. on 4th July 1886. I was hoping to get a response by now. I was hoping to get a response by now. Even though the weather was bad, I went to the gym.'\n",
    "lemmas=[token.lemma_ for token in nlp(text)]\n",
    "lemmas"
   ]
  },
  {
   "cell_type": "code",
   "execution_count": null,
   "metadata": {},
   "outputs": [],
   "source": []
  }
 ],
 "metadata": {
  "kernelspec": {
   "display_name": "nlpEnv",
   "language": "python",
   "name": "python3"
  },
  "language_info": {
   "codemirror_mode": {
    "name": "ipython",
    "version": 3
   },
   "file_extension": ".py",
   "mimetype": "text/x-python",
   "name": "python",
   "nbconvert_exporter": "python",
   "pygments_lexer": "ipython3",
   "version": "3.11.0"
  }
 },
 "nbformat": 4,
 "nbformat_minor": 2
}
